{
 "cells": [
  {
   "cell_type": "code",
   "execution_count": 2,
   "id": "3697d73a-516a-444f-be8f-17d29c1d965a",
   "metadata": {},
   "outputs": [],
   "source": [
    "class Person:\n",
    "    def __init__(self, name ,age, address):\n",
    "        self.name = name\n",
    "        self.age = age\n",
    "        self.address = address\n",
    "    \n",
    "    def eat(self): # self is object\n",
    "        print(f'{self.name} is eating')\n",
    "    \n",
    "    def sleep(self):\n",
    "        print(f'{self.name} is sleeping')\n",
    "    \n",
    "    def walk(self):\n",
    "        print(f'{self.name} is walking')\n",
    "        \n",
    "    def info(self):\n",
    "        print(f\"Name: {self.name}\")\n",
    "        print(f\"Age: {self.age}\")\n",
    "        print(f\"Address: {self.address}\")\n",
    "\n",
    "\n",
    "class Student(Person): # Inheritance\n",
    "    def __init__(self, name ,age, address, college, faculty, roll_no):\n",
    "        super().__init__(name, age, address) # calling Person's __init__ method\n",
    "        self.college = college\n",
    "        self.faculty = faculty\n",
    "        self.roll_no = roll_no\n",
    "        self.subjects = []\n",
    "\n",
    "    def learn(self):\n",
    "        print(f\"Student is learning {self.subjects}.\")\n",
    "\n",
    "    def add_subject(self, subject_name):\n",
    "        if subject_name not in self.subjects:\n",
    "            self.subjects.append(subject_name)\n",
    "        \n",
    "    def info(self):\n",
    "        super().info() # calling Person's info method\n",
    "        print(f\"College: {self.college}\")\n",
    "        print(f\"Faculty: {self.faculty}\")\n",
    "        print(f\"Roll No: {self.roll_no}\")\n",
    "        print(f\"Subjects: {self.subjects}\")\n",
    "class BachelorStudent(Student) :\n",
    "    def __init__(self ,ame ,age, address, college, faculty, roll_no,university):\n",
    "        # calling Students __init__ method\n",
    "        super().__init__(name ,age, address, college, faculty, roll_no)\n",
    "        self.univeersity=university\n",
    "    # BachelorStudent class le studentn class ko info method  override gareko ho\n",
    "    def info(self):\n",
    "        \n",
    "        super().info()\n",
    "        print(f\"University :{self.university}\")\n"
   ]
  },
  {
   "cell_type": "code",
   "execution_count": 8,
   "id": "d9c90110-0f77-4915-8b8b-cee1ae2a69de",
   "metadata": {},
   "outputs": [],
   "source": [
    "# hierachical inheritance\n",
    "class Person :\n",
    "    pass\n",
    "class Student(Person):\n",
    "    pass\n",
    "class Teacher(Person):\n",
    "    pass\n",
    "class Employee(Person):\n",
    "    pass\n",
    "class Principal(Person):\n",
    "    pass"
   ]
  },
  {
   "cell_type": "code",
   "execution_count": 12,
   "id": "65b026b4-4ef1-4700-8a58-4f183b9d59a9",
   "metadata": {},
   "outputs": [
    {
     "name": "stdout",
     "output_type": "stream",
     "text": [
      "This is Vehicle\n",
      "Car name is : TATA\n",
      "This is Vehicle\n",
      "Truck name : FORD\n"
     ]
    }
   ],
   "source": [
    "# example\n",
    "class Vehicle:\n",
    "    def info(self):\n",
    "        print(\"This is Vehicle\")\n",
    "class Car(Vehicle):\n",
    "    def car_info(self,name):\n",
    "        print(\"Car name is :\",name)\n",
    "class Truck (Vehicle):\n",
    "    def truck_info(self,name):\n",
    "        print(\"Truck name :\",name)\n",
    "o=Car()\n",
    "o.info()\n",
    "o.car_info(\"TATA\")\n",
    "p=Truck()\n",
    "p.info()\n",
    "p.truck_info(\"FORD\")\n"
   ]
  },
  {
   "cell_type": "code",
   "execution_count": 14,
   "id": "9c021c52-1bf4-41ff-8932-a5e00aa949e8",
   "metadata": {},
   "outputs": [
    {
     "name": "stdout",
     "output_type": "stream",
     "text": [
      "Inside Vehicle class\n",
      "Inside CAR class\n",
      "Inside sportscar class\n"
     ]
    }
   ],
   "source": [
    "# hybrid inheritance => sphaagetti code\n",
    "class Vehicle:\n",
    "    def vehicle_info(self):\n",
    "        print(\"Inside Vehicle class\")\n",
    "class Car(Vehicle):\n",
    "    def car_info(self):\n",
    "        print(\"Inside CAR class\")\n",
    "class  Truck(Vehicle):\n",
    "    def Truck_info(self):\n",
    "        print(\"Inside Truck class\")\n",
    "#sports car can iherit properties of vehicle and car\n",
    "class sportsCar(Car, Vehicle):\n",
    "    def  sports_Car_info(self):\n",
    "        print(\"Inside sportscar class\")\n",
    "#create Object\n",
    "scar=sportsCar()\n",
    "scar.vehicle_info()\n",
    "scar.car_info()\n",
    "scar.sports_Car_info()\n",
    "        \n",
    "    "
   ]
  },
  {
   "cell_type": "code",
   "execution_count": 3,
   "id": "e8d05a5d-06e4-4aad-a545-7e00985bc1b0",
   "metadata": {},
   "outputs": [],
   "source": [
    "#self\n",
    "#object created outside of class\n",
    "class hello():\n",
    "    def hi(self): # object created outside of class \n",
    "        print(self)"
   ]
  },
  {
   "cell_type": "code",
   "execution_count": 4,
   "id": "c593e81d-e38c-47ee-a2a1-a96b4849bad0",
   "metadata": {},
   "outputs": [],
   "source": [
    "h=hello()"
   ]
  },
  {
   "cell_type": "code",
   "execution_count": 5,
   "id": "9f3a5083-ceec-4ab2-95b9-9a30a0c1ba90",
   "metadata": {},
   "outputs": [
    {
     "name": "stdout",
     "output_type": "stream",
     "text": [
      "<__main__.hello object at 0x0000015894AA42F0>\n"
     ]
    }
   ],
   "source": [
    "print(h) #object"
   ]
  },
  {
   "cell_type": "code",
   "execution_count": 6,
   "id": "251960da-6749-4ae3-9791-5461cf4aaf08",
   "metadata": {},
   "outputs": [
    {
     "name": "stdout",
     "output_type": "stream",
     "text": [
      "<__main__.hello object at 0x0000015894AA42F0>\n"
     ]
    }
   ],
   "source": [
    "h.hi()"
   ]
  },
  {
   "cell_type": "code",
   "execution_count": 7,
   "id": "d0af72cc-c5d5-4208-95ad-4551754a31bd",
   "metadata": {},
   "outputs": [
    {
     "name": "stdout",
     "output_type": "stream",
     "text": [
      "<__main__.hello object at 0x0000015894AA42F0>\n"
     ]
    }
   ],
   "source": [
    "hello.hi(h)"
   ]
  },
  {
   "cell_type": "code",
   "execution_count": null,
   "id": "96a2db9a-5dc2-4a67-964a-c8c5e5fb4985",
   "metadata": {},
   "outputs": [],
   "source": []
  },
  {
   "cell_type": "code",
   "execution_count": 59,
   "id": "bf4136b5-79c7-4303-93a8-4f3fd5a59de8",
   "metadata": {},
   "outputs": [],
   "source": [
    "class Rectangle:\n",
    "    def __init__(self, length, breadth):\n",
    "        #public attributes =>can be accessed outside of class\n",
    "        self.length = length\n",
    "        self.breadth = breadth\n",
    " #public method\n",
    "    def area(self):\n",
    "        return self.length * self.breadth\n",
    "# public method\n",
    "    def perimeter(self):\n",
    "        return 2 * (self.length + self.breadth)"
   ]
  },
  {
   "cell_type": "code",
   "execution_count": 60,
   "id": "29568046-107c-4195-8833-b3f02826139a",
   "metadata": {},
   "outputs": [],
   "source": [
    "r=Rectangle(3,5)\n"
   ]
  },
  {
   "cell_type": "code",
   "execution_count": 61,
   "id": "406d9b49-7649-4955-9d65-5299e90325b2",
   "metadata": {},
   "outputs": [
    {
     "data": {
      "text/plain": [
       "15"
      ]
     },
     "execution_count": 61,
     "metadata": {},
     "output_type": "execute_result"
    }
   ],
   "source": [
    "r.area()"
   ]
  },
  {
   "cell_type": "raw",
   "id": "9d93120a-e35c-45c3-8fda-b449ee2b44cf",
   "metadata": {},
   "source": [
    "r.perimeter()"
   ]
  },
  {
   "cell_type": "code",
   "execution_count": 1,
   "id": "1c0a575c-a142-48d1-802c-2d36fa9766a1",
   "metadata": {},
   "outputs": [],
   "source": [
    "class Rectangle:\n",
    "    def __init__(self, length, breadth):\n",
    "        #public attributes =>can be accessed outside of class\n",
    "        # __ makes public to private \n",
    "        self.__length = length\n",
    "        self.__breadth = breadth\n",
    " #public method\n",
    "    def area(self):\n",
    "        return self.__length * self.__breadth\n",
    "# public method\n",
    "    def perimeter(self):\n",
    "        return 2 * (self.__length + self.__breadth)"
   ]
  },
  {
   "cell_type": "code",
   "execution_count": 13,
   "id": "8e859aea-4405-4717-8931-c55c6df12ab2",
   "metadata": {},
   "outputs": [],
   "source": [
    "r=Rectangle(4,2)"
   ]
  },
  {
   "cell_type": "code",
   "execution_count": 14,
   "id": "23e6915f-6093-4998-9b2b-0964a7d9ac58",
   "metadata": {},
   "outputs": [
    {
     "ename": "AttributeError",
     "evalue": "'Rectangle' object has no attribute '__length'",
     "output_type": "error",
     "traceback": [
      "\u001b[31m---------------------------------------------------------------------------\u001b[39m",
      "\u001b[31mAttributeError\u001b[39m                            Traceback (most recent call last)",
      "\u001b[36mCell\u001b[39m\u001b[36m \u001b[39m\u001b[32mIn[14]\u001b[39m\u001b[32m, line 1\u001b[39m\n\u001b[32m----> \u001b[39m\u001b[32m1\u001b[39m \u001b[43mr\u001b[49m\u001b[43m.\u001b[49m\u001b[43m__length\u001b[49m()\n",
      "\u001b[31mAttributeError\u001b[39m: 'Rectangle' object has no attribute '__length'"
     ]
    }
   ],
   "source": [
    "r.__length()"
   ]
  },
  {
   "cell_type": "code",
   "execution_count": 15,
   "id": "ea7093f7-0719-4b12-83c2-6c0550872237",
   "metadata": {},
   "outputs": [
    {
     "ename": "SyntaxError",
     "evalue": "cannot assign to function call here. Maybe you meant '==' instead of '='? (1312362218.py, line 1)",
     "output_type": "error",
     "traceback": [
      "  \u001b[36mCell\u001b[39m\u001b[36m \u001b[39m\u001b[32mIn[15]\u001b[39m\u001b[32m, line 1\u001b[39m\n\u001b[31m    \u001b[39m\u001b[31mr.__length()='ram'\u001b[39m\n    ^\n\u001b[31mSyntaxError\u001b[39m\u001b[31m:\u001b[39m cannot assign to function call here. Maybe you meant '==' instead of '='?\n"
     ]
    }
   ],
   "source": [
    "r.__length()='ram'"
   ]
  },
  {
   "cell_type": "code",
   "execution_count": 16,
   "id": "a63aa154-c6e8-4cd4-a25a-cb5037ae2f75",
   "metadata": {},
   "outputs": [
    {
     "data": {
      "text/plain": [
       "8"
      ]
     },
     "execution_count": 16,
     "metadata": {},
     "output_type": "execute_result"
    }
   ],
   "source": [
    "r.area()"
   ]
  },
  {
   "cell_type": "code",
   "execution_count": 35,
   "id": "c03f94b5-06ed-473d-b1bf-f29edcd5ea76",
   "metadata": {},
   "outputs": [],
   "source": [
    "class Rectangle:\n",
    "    def __init__(self, length, breadth):\n",
    "        #public attributes =>can be accessed outside of class\n",
    "        # __ makes public to private \n",
    "        self.__length = length\n",
    "        self.__breadth = breadth\n",
    " #public method\n",
    "    def area(self):\n",
    "        return self.__length * self.__breadth\n",
    "# public method\n",
    "    def perimeter(self):\n",
    "        return 2 * (self.__length + self.__breadth)\n",
    "    def length__getter(self) :\n",
    "        return self.__length\n",
    "    def length__setter(self,value) :    \n",
    "        self.__length =value\n",
    "    def breadth__getter(self) :\n",
    "        return self.__breadth\n",
    "    def breadth__setter(self,value) :\n",
    "        self.__breadth=value"
   ]
  },
  {
   "cell_type": "code",
   "execution_count": 36,
   "id": "d7e6fd50-c060-480c-8bd0-2127bf788602",
   "metadata": {},
   "outputs": [],
   "source": [
    "r=Rectangle(4,5)"
   ]
  },
  {
   "cell_type": "code",
   "execution_count": 37,
   "id": "415adced-974e-4954-bd48-60645f3d98e8",
   "metadata": {},
   "outputs": [
    {
     "ename": "AttributeError",
     "evalue": "'Rectangle' object has no attribute '__length'",
     "output_type": "error",
     "traceback": [
      "\u001b[31m---------------------------------------------------------------------------\u001b[39m",
      "\u001b[31mAttributeError\u001b[39m                            Traceback (most recent call last)",
      "\u001b[36mCell\u001b[39m\u001b[36m \u001b[39m\u001b[32mIn[37]\u001b[39m\u001b[32m, line 1\u001b[39m\n\u001b[32m----> \u001b[39m\u001b[32m1\u001b[39m \u001b[43mr\u001b[49m\u001b[43m.\u001b[49m\u001b[43m__length\u001b[49m\n",
      "\u001b[31mAttributeError\u001b[39m: 'Rectangle' object has no attribute '__length'"
     ]
    }
   ],
   "source": [
    "r.__length"
   ]
  },
  {
   "cell_type": "code",
   "execution_count": 38,
   "id": "5deb5491-a8fb-41ad-9cbb-5eb060650248",
   "metadata": {},
   "outputs": [
    {
     "data": {
      "text/plain": [
       "4"
      ]
     },
     "execution_count": 38,
     "metadata": {},
     "output_type": "execute_result"
    }
   ],
   "source": [
    "r.length__getter()"
   ]
  },
  {
   "cell_type": "code",
   "execution_count": 39,
   "id": "464e3d5a-783f-4cf6-ad78-77b0f9640a21",
   "metadata": {},
   "outputs": [
    {
     "data": {
      "text/plain": [
       "5"
      ]
     },
     "execution_count": 39,
     "metadata": {},
     "output_type": "execute_result"
    }
   ],
   "source": [
    "r.breadth__getter()"
   ]
  },
  {
   "cell_type": "code",
   "execution_count": 41,
   "id": "4471641b-30b2-4b48-b888-6321bceb147c",
   "metadata": {},
   "outputs": [],
   "source": [
    "r.length__setter(10)"
   ]
  },
  {
   "cell_type": "code",
   "execution_count": 42,
   "id": "e5afb568-cbf3-4365-9218-6f2caf1fa7a3",
   "metadata": {},
   "outputs": [],
   "source": [
    "r.breadth__setter(5)"
   ]
  },
  {
   "cell_type": "code",
   "execution_count": 43,
   "id": "7344562a-9f92-4d20-814a-363e50e706a6",
   "metadata": {},
   "outputs": [
    {
     "data": {
      "text/plain": [
       "50"
      ]
     },
     "execution_count": 43,
     "metadata": {},
     "output_type": "execute_result"
    }
   ],
   "source": [
    "r.area()"
   ]
  },
  {
   "cell_type": "code",
   "execution_count": 46,
   "id": "40e96623-ee96-480a-ac62-0a29905b20be",
   "metadata": {},
   "outputs": [],
   "source": [
    "r.length__setter('ram')"
   ]
  },
  {
   "cell_type": "code",
   "execution_count": 47,
   "id": "0567573a-22de-4d51-802c-cec65ca5653b",
   "metadata": {},
   "outputs": [
    {
     "data": {
      "text/plain": [
       "'ramramramramram'"
      ]
     },
     "execution_count": 47,
     "metadata": {},
     "output_type": "execute_result"
    }
   ],
   "source": [
    "r.area()"
   ]
  },
  {
   "cell_type": "code",
   "execution_count": 48,
   "id": "d5cfc3c5-66f7-4c28-838b-0b3e624d298a",
   "metadata": {},
   "outputs": [
    {
     "data": {
      "text/plain": [
       "True"
      ]
     },
     "execution_count": 48,
     "metadata": {},
     "output_type": "execute_result"
    }
   ],
   "source": [
    "isinstance(4,int)"
   ]
  },
  {
   "cell_type": "code",
   "execution_count": 50,
   "id": "5a68d2fc-4ce4-4d03-b45f-b823ebfcf622",
   "metadata": {},
   "outputs": [
    {
     "data": {
      "text/plain": [
       "False"
      ]
     },
     "execution_count": 50,
     "metadata": {},
     "output_type": "execute_result"
    }
   ],
   "source": [
    "\n",
    "\n",
    "isinstance(4,str)"
   ]
  },
  {
   "cell_type": "code",
   "execution_count": 51,
   "id": "511845f5-709d-4f21-b69f-64beb60606db",
   "metadata": {},
   "outputs": [
    {
     "data": {
      "text/plain": [
       "True"
      ]
     },
     "execution_count": 51,
     "metadata": {},
     "output_type": "execute_result"
    }
   ],
   "source": [
    "isinstance(4,(int,float))"
   ]
  },
  {
   "cell_type": "code",
   "execution_count": 52,
   "id": "563f585e-f4f3-4cf1-8009-781f6fe520cc",
   "metadata": {},
   "outputs": [
    {
     "data": {
      "text/plain": [
       "False"
      ]
     },
     "execution_count": 52,
     "metadata": {},
     "output_type": "execute_result"
    }
   ],
   "source": [
    "isinstance(4,(str,float))"
   ]
  },
  {
   "cell_type": "code",
   "execution_count": 56,
   "id": "6de56643-9c53-4e38-b97e-8091776f0a40",
   "metadata": {},
   "outputs": [],
   "source": [
    "#Data Encapsulation=> access modifier\n",
    "class Rectangle:\n",
    "    def __init__(self, length, breadth):\n",
    "        #public attributes =>can be accessed outside of class\n",
    "        # __ makes public to private \n",
    "        self.__length = length\n",
    "        self.__breadth = breadth\n",
    " #public method\n",
    "    def area(self):\n",
    "        return self.__length * self.__breadth\n",
    "# public method\n",
    "    def perimeter(self):\n",
    "        return 2 * (self.__length + self.__breadth)\n",
    "        # __ for making private ,method\n",
    "    def __validate (self,value):\n",
    "        if not isinstance (value,(int,float)):\n",
    "            raise ValueError(\"incorrect datatype\")\n",
    "        \n",
    "    def length__getter(self) :\n",
    "        return self.__length\n",
    "    def length__setter(self,value) :# for set the value of length\n",
    "        validate(value)\n",
    "    \n",
    "        self.__length =value\n",
    "    def breadth__getter(self) :\n",
    "        return self.__breadth\n",
    "    def breadth__setter(self,value) : # for set the value of breadth\n",
    "        validate(value)\n",
    "        self.__breadth=value"
   ]
  },
  {
   "cell_type": "code",
   "execution_count": 57,
   "id": "88416e3e-8da5-4510-9316-9b14ba2a3871",
   "metadata": {},
   "outputs": [],
   "source": [
    "r=Rectangle(5,6)"
   ]
  },
  {
   "cell_type": "code",
   "execution_count": 58,
   "id": "7c960e70-2fa4-4d66-b230-6d8f681fda30",
   "metadata": {},
   "outputs": [
    {
     "ename": "NameError",
     "evalue": "name 'validate' is not defined",
     "output_type": "error",
     "traceback": [
      "\u001b[31m---------------------------------------------------------------------------\u001b[39m",
      "\u001b[31mNameError\u001b[39m                                 Traceback (most recent call last)",
      "\u001b[36mCell\u001b[39m\u001b[36m \u001b[39m\u001b[32mIn[58]\u001b[39m\u001b[32m, line 1\u001b[39m\n\u001b[32m----> \u001b[39m\u001b[32m1\u001b[39m \u001b[43mr\u001b[49m\u001b[43m.\u001b[49m\u001b[43mlength__setter\u001b[49m\u001b[43m(\u001b[49m\u001b[33;43m'\u001b[39;49m\u001b[33;43mram\u001b[39;49m\u001b[33;43m'\u001b[39;49m\u001b[43m)\u001b[49m\n",
      "\u001b[36mCell\u001b[39m\u001b[36m \u001b[39m\u001b[32mIn[56]\u001b[39m\u001b[32m, line 21\u001b[39m, in \u001b[36mRectangle.length__setter\u001b[39m\u001b[34m(self, value)\u001b[39m\n\u001b[32m     20\u001b[39m \u001b[38;5;28;01mdef\u001b[39;00m\u001b[38;5;250m \u001b[39m\u001b[34mlength__setter\u001b[39m(\u001b[38;5;28mself\u001b[39m,value) :\n\u001b[32m---> \u001b[39m\u001b[32m21\u001b[39m     \u001b[43mvalidate\u001b[49m(value)\n\u001b[32m     23\u001b[39m     \u001b[38;5;28mself\u001b[39m.__length =value\n",
      "\u001b[31mNameError\u001b[39m: name 'validate' is not defined"
     ]
    }
   ],
   "source": [
    "r.length__setter('ram')"
   ]
  }
 ],
 "metadata": {
  "kernelspec": {
   "display_name": "Python 3 (ipykernel)",
   "language": "python",
   "name": "python3"
  },
  "language_info": {
   "codemirror_mode": {
    "name": "ipython",
    "version": 3
   },
   "file_extension": ".py",
   "mimetype": "text/x-python",
   "name": "python",
   "nbconvert_exporter": "python",
   "pygments_lexer": "ipython3",
   "version": "3.13.0"
  }
 },
 "nbformat": 4,
 "nbformat_minor": 5
}
