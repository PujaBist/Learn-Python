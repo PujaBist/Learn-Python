{
 "cells": [
  {
   "cell_type": "code",
   "execution_count": 2,
   "id": "b907b598-ca69-41d2-b795-fd2969c29784",
   "metadata": {},
   "outputs": [
    {
     "name": "stdout",
     "output_type": "stream",
     "text": [
      "this is puja. my age is 22\n"
     ]
    }
   ],
   "source": [
    "name ='puja'\n",
    "age=22\n",
    "s=f\"this is {name}. my age is {age}\"\n",
    "# another way \n",
    "s=\"this is {}. my age is {}\".format(name,age)\n",
    "print(s)"
   ]
  },
  {
   "cell_type": "code",
   "execution_count": 3,
   "id": "d75b76a4-779d-431e-8a28-d6c64e72b246",
   "metadata": {},
   "outputs": [
    {
     "name": "stdout",
     "output_type": "stream",
     "text": [
      "[1, 2, 3, 4, 5] <class 'list'>\n"
     ]
    }
   ],
   "source": [
    "# List \n",
    "x=[1,2,3,4,5]\n",
    "print(x,type(x))"
   ]
  },
  {
   "cell_type": "code",
   "execution_count": 5,
   "id": "6e013864-40a1-4fef-9f78-9d257e37ed4d",
   "metadata": {},
   "outputs": [
    {
     "name": "stdout",
     "output_type": "stream",
     "text": [
      "[1, 1.2, 'ram', 'puja', 5j, {1, 2, 3}, {'name': 'puja'}, [1, 2, 3]]\n"
     ]
    }
   ],
   "source": [
    "#order collection\n",
    "# support any type of ddatastructure\n",
    "x=[1,1.2,'ram','puja',5j,{1,2,3},{'name':'puja'},[1,2,3]]\n",
    "print(x)"
   ]
  },
  {
   "cell_type": "code",
   "execution_count": 10,
   "id": "5fd11953-bde5-4012-ac4a-e286844d4e73",
   "metadata": {},
   "outputs": [
    {
     "data": {
      "text/plain": [
       "4"
      ]
     },
     "execution_count": 10,
     "metadata": {},
     "output_type": "execute_result"
    }
   ],
   "source": [
    "x=[1,2,[3,4,5,6],7,8,9] #nested list\n",
    "x[2] [1]"
   ]
  },
  {
   "cell_type": "code",
   "execution_count": null,
   "id": "d14f622d-2a3d-4ced-82f9-1bcd3758a86c",
   "metadata": {},
   "outputs": [],
   "source": [
    "#list => mutable object => and be changed once defined\n",
    "\n"
   ]
  },
  {
   "cell_type": "code",
   "execution_count": 11,
   "id": "76653f1a-e96c-4960-8c5f-c2b43e0a0b8b",
   "metadata": {},
   "outputs": [
    {
     "name": "stdout",
     "output_type": "stream",
     "text": [
      "['ram', 'Banana', 'grapes']\n"
     ]
    }
   ],
   "source": [
    "fruits=['apple','Banana','grapes']\n",
    "fruits[0]='ram'\n",
    "print(fruits)"
   ]
  },
  {
   "cell_type": "code",
   "execution_count": 13,
   "id": "f49f7d3f-ad20-4f84-9a19-8bbbdbbd6718",
   "metadata": {},
   "outputs": [
    {
     "name": "stdout",
     "output_type": "stream",
     "text": [
      "['apple', 'Banana', 'grapes', 'ram']\n"
     ]
    }
   ],
   "source": [
    "# append from last of list\n",
    "fruits=['apple','Banana','grapes']\n",
    "fruits.append('ram')\n",
    "print(fruits)"
   ]
  },
  {
   "cell_type": "code",
   "execution_count": 14,
   "id": "da50b036-1f24-4808-9b25-1387595bf39c",
   "metadata": {},
   "outputs": [
    {
     "name": "stdout",
     "output_type": "stream",
     "text": [
      "['apple', 'Banana', 'grapes', [1.1, 87, 'puja']]\n"
     ]
    }
   ],
   "source": [
    "fruits=['apple','Banana','grapes']\n",
    "fruits.append([1.1, 87,'puja'])\n",
    "print(fruits)"
   ]
  },
  {
   "cell_type": "code",
   "execution_count": 16,
   "id": "5f3bc828-c479-4b35-b17f-ce61334076a5",
   "metadata": {},
   "outputs": [
    {
     "name": "stdout",
     "output_type": "stream",
     "text": [
      "['apple', 'Banana', 'grapes', 1.1, 87, 'puja']\n"
     ]
    }
   ],
   "source": [
    "fruits=['apple','Banana','grapes']\n",
    "fruits.extend([1.1, 87,'puja']) # extend meaan list bat  element nikaler  rakxh\n",
    "print(fruits)"
   ]
  },
  {
   "cell_type": "code",
   "execution_count": 20,
   "id": "7c94977a-77e4-47e3-b5b9-64cc26907e13",
   "metadata": {},
   "outputs": [
    {
     "name": "stdout",
     "output_type": "stream",
     "text": [
      "['apple', 1.1, 'Banana', 'grapes']\n"
     ]
    }
   ],
   "source": [
    "fruits=['apple','Banana','grapes']\n",
    "fruits.insert(1,1.1) # insert is uesd for inserting element in desired position\n",
    "\n",
    "print(fruits)"
   ]
  },
  {
   "cell_type": "code",
   "execution_count": 21,
   "id": "95b93106-0cb0-46b8-a6ec-ee01bf263173",
   "metadata": {},
   "outputs": [
    {
     "name": "stdout",
     "output_type": "stream",
     "text": [
      "['apple', 'Banana']\n"
     ]
    }
   ],
   "source": [
    "fruits=['apple','Banana','grapes']\n",
    "fruits.pop(2) # pop is used for deleted\n",
    "\n",
    "print(fruits)"
   ]
  },
  {
   "cell_type": "code",
   "execution_count": 23,
   "id": "a2bbcf6d-4f2b-4bb3-b48e-99ebed8a7a1f",
   "metadata": {},
   "outputs": [
    {
     "name": "stdout",
     "output_type": "stream",
     "text": [
      "(1, 1.2, 'ram', 'puja', 5j, {1, 2, 3}, {'name': 'puja'}, [1, 2, 3]) <class 'tuple'>\n"
     ]
    }
   ],
   "source": [
    "#order collection\n",
    "# support any type of ddatastructure\n",
    "x=(1,1.2,'ram','puja',5j,{1,2,3},{'name':'puja'},[1,2,3])\n",
    "print(x,type(x))"
   ]
  },
  {
   "cell_type": "code",
   "execution_count": null,
   "id": "b4574f55-ff4f-4995-b345-b7e564126e83",
   "metadata": {},
   "outputs": [],
   "source": [
    "#tuple => immutable datastructure =>cannot be changed once defined\n"
   ]
  },
  {
   "cell_type": "code",
   "execution_count": 24,
   "id": "21c3298c-6bde-42a8-97b4-48b38aa80e6c",
   "metadata": {},
   "outputs": [
    {
     "name": "stdout",
     "output_type": "stream",
     "text": [
      "Help on class tuple in module builtins:\n",
      "\n",
      "class tuple(object)\n",
      " |  tuple(iterable=(), /)\n",
      " |\n",
      " |  Built-in immutable sequence.\n",
      " |\n",
      " |  If no argument is given, the constructor returns an empty tuple.\n",
      " |  If iterable is specified the tuple is initialized from iterable's items.\n",
      " |\n",
      " |  If the argument is a tuple, the return value is the same object.\n",
      " |\n",
      " |  Built-in subclasses:\n",
      " |      asyncgen_hooks\n",
      " |      UnraisableHookArgs\n",
      " |\n",
      " |  Methods defined here:\n",
      " |\n",
      " |  __add__(self, value, /)\n",
      " |      Return self+value.\n",
      " |\n",
      " |  __contains__(self, key, /)\n",
      " |      Return bool(key in self).\n",
      " |\n",
      " |  __eq__(self, value, /)\n",
      " |      Return self==value.\n",
      " |\n",
      " |  __ge__(self, value, /)\n",
      " |      Return self>=value.\n",
      " |\n",
      " |  __getattribute__(self, name, /)\n",
      " |      Return getattr(self, name).\n",
      " |\n",
      " |  __getitem__(self, key, /)\n",
      " |      Return self[key].\n",
      " |\n",
      " |  __getnewargs__(self, /)\n",
      " |\n",
      " |  __gt__(self, value, /)\n",
      " |      Return self>value.\n",
      " |\n",
      " |  __hash__(self, /)\n",
      " |      Return hash(self).\n",
      " |\n",
      " |  __iter__(self, /)\n",
      " |      Implement iter(self).\n",
      " |\n",
      " |  __le__(self, value, /)\n",
      " |      Return self<=value.\n",
      " |\n",
      " |  __len__(self, /)\n",
      " |      Return len(self).\n",
      " |\n",
      " |  __lt__(self, value, /)\n",
      " |      Return self<value.\n",
      " |\n",
      " |  __mul__(self, value, /)\n",
      " |      Return self*value.\n",
      " |\n",
      " |  __ne__(self, value, /)\n",
      " |      Return self!=value.\n",
      " |\n",
      " |  __repr__(self, /)\n",
      " |      Return repr(self).\n",
      " |\n",
      " |  __rmul__(self, value, /)\n",
      " |      Return value*self.\n",
      " |\n",
      " |  count(self, value, /)\n",
      " |      Return number of occurrences of value.\n",
      " |\n",
      " |  index(self, value, start=0, stop=9223372036854775807, /)\n",
      " |      Return first index of value.\n",
      " |\n",
      " |      Raises ValueError if the value is not present.\n",
      " |\n",
      " |  ----------------------------------------------------------------------\n",
      " |  Class methods defined here:\n",
      " |\n",
      " |  __class_getitem__(object, /)\n",
      " |      See PEP 585\n",
      " |\n",
      " |  ----------------------------------------------------------------------\n",
      " |  Static methods defined here:\n",
      " |\n",
      " |  __new__(*args, **kwargs)\n",
      " |      Create and return a new object.  See help(type) for accurate signature.\n",
      "\n"
     ]
    }
   ],
   "source": [
    "help(tuple)"
   ]
  },
  {
   "cell_type": "code",
   "execution_count": 25,
   "id": "7ff7fbc6-7b35-4c53-91d2-1becc53b8cd8",
   "metadata": {},
   "outputs": [
    {
     "name": "stdout",
     "output_type": "stream",
     "text": [
      "2\n"
     ]
    }
   ],
   "source": [
    "x=(1,2,3,4,5,1,15)\n",
    "print(x.count(1))"
   ]
  },
  {
   "cell_type": "code",
   "execution_count": 26,
   "id": "fecf137e-7fe6-425f-b8e8-b6022366e489",
   "metadata": {},
   "outputs": [
    {
     "name": "stdout",
     "output_type": "stream",
     "text": [
      "0\n"
     ]
    }
   ],
   "source": [
    "x=(1,2,3,4,5,1,15)\n",
    "print(x.index(1)) # jun first ma payo teskai address dinch"
   ]
  },
  {
   "cell_type": "code",
   "execution_count": 31,
   "id": "eba9e9db-c294-4474-9eda-22c87c9ddd19",
   "metadata": {},
   "outputs": [
    {
     "name": "stdout",
     "output_type": "stream",
     "text": [
      "{'id': 350, 'name': 'Puja Bist', 'age': 22, 'salary': 3764355, 'contact': 9862466340} <class 'dict'>\n"
     ]
    }
   ],
   "source": [
    "\n",
    "# dicitionaries\n",
    "person={\n",
    "     \"id\":350,\n",
    "'name': 'Puja Bist',\n",
    "'age':22,\n",
    "'salary':3764355,\n",
    "'contact':9862466340\n",
    "\n",
    "}\n",
    "print(person,type(person))"
   ]
  },
  {
   "cell_type": "code",
   "execution_count": 34,
   "id": "6bd6e8a7-8556-467c-a0ab-db41772c2f55",
   "metadata": {},
   "outputs": [
    {
     "name": "stdout",
     "output_type": "stream",
     "text": [
      "Puja Bist\n"
     ]
    }
   ],
   "source": [
    "# dicitionaries\n",
    "person={\n",
    "     \"id\":350,\n",
    "'name': 'Puja Bist',\n",
    "'age':22,\n",
    "'salary':3764355,\n",
    "'contact':9862466340\n",
    "\n",
    "}\n",
    "print(person['name'])"
   ]
  },
  {
   "cell_type": "code",
   "execution_count": 35,
   "id": "84196dbc-7758-403c-99da-1e9fcb0dc530",
   "metadata": {},
   "outputs": [
    {
     "name": "stdout",
     "output_type": "stream",
     "text": [
      "{'id': 350, 'name': 'Puja Bist', 'age': 22, 'salary': 3764355, 'contact': 9862466340, 'email': 'pujabista7@gmail.com'} <class 'dict'>\n"
     ]
    }
   ],
   "source": [
    "# dicitionaries\n",
    "person={\n",
    "     \"id\":350,\n",
    "'name': 'Puja Bist',\n",
    "'age':22,\n",
    "'salary':3764355,\n",
    "'contact':9862466340\n",
    "\n",
    "}\n",
    "person['email']='pujabista7@gmail.com'\n",
    "\n",
    "print(person,type(person))"
   ]
  },
  {
   "cell_type": "code",
   "execution_count": 36,
   "id": "0b9d3a66-2bbe-4279-81ff-2e749429db19",
   "metadata": {},
   "outputs": [
    {
     "name": "stdout",
     "output_type": "stream",
     "text": [
      "{'id': 350, 'name': 'Puja Bist', 'salary': 3764355, 'contact': 9862466340}\n"
     ]
    }
   ],
   "source": [
    "# dicitionaries\n",
    "person={\n",
    "     \"id\":350,\n",
    "'name': 'Puja Bist',\n",
    "'age':22,\n",
    "'salary':3764355,\n",
    "'contact':9862466340\n",
    "\n",
    "}\n",
    "del person['age']\n",
    "print(person)"
   ]
  },
  {
   "cell_type": "code",
   "execution_count": 38,
   "id": "79020c85-819c-4503-a17a-14681c06c1aa",
   "metadata": {},
   "outputs": [
    {
     "ename": "KeyError",
     "evalue": "'email'",
     "output_type": "error",
     "traceback": [
      "\u001b[31m---------------------------------------------------------------------------\u001b[39m",
      "\u001b[31mKeyError\u001b[39m                                  Traceback (most recent call last)",
      "\u001b[36mCell\u001b[39m\u001b[36m \u001b[39m\u001b[32mIn[38]\u001b[39m\u001b[32m, line 10\u001b[39m\n\u001b[32m      1\u001b[39m \u001b[38;5;66;03m# dicitionaries\u001b[39;00m\n\u001b[32m      2\u001b[39m person={\n\u001b[32m      3\u001b[39m      \u001b[33m\"\u001b[39m\u001b[33mid\u001b[39m\u001b[33m\"\u001b[39m:\u001b[32m350\u001b[39m,\n\u001b[32m      4\u001b[39m \u001b[33m'\u001b[39m\u001b[33mname\u001b[39m\u001b[33m'\u001b[39m: \u001b[33m'\u001b[39m\u001b[33mPuja Bist\u001b[39m\u001b[33m'\u001b[39m,\n\u001b[32m   (...)\u001b[39m\u001b[32m      8\u001b[39m \n\u001b[32m      9\u001b[39m }\n\u001b[32m---> \u001b[39m\u001b[32m10\u001b[39m \u001b[43mperson\u001b[49m\u001b[43m[\u001b[49m\u001b[33;43m'\u001b[39;49m\u001b[33;43memail\u001b[39;49m\u001b[33;43m'\u001b[39;49m\u001b[43m]\u001b[49m\n\u001b[32m     12\u001b[39m \u001b[38;5;28mprint\u001b[39m(\u001b[33m'\u001b[39m\u001b[33mhello\u001b[39m\u001b[33m'\u001b[39m)\n",
      "\u001b[31mKeyError\u001b[39m: 'email'"
     ]
    }
   ],
   "source": [
    "# dicitionaries\n",
    "person={\n",
    "     \"id\":350,\n",
    "'name': 'Puja Bist',\n",
    "'age':22,\n",
    "'salary':3764355,\n",
    "'contact':9862466340\n",
    "\n",
    "}\n",
    "person['email'] # xaen vaney error  it distrupt normal flow of code\n",
    " \n",
    "print('hello')"
   ]
  },
  {
   "cell_type": "code",
   "execution_count": 40,
   "id": "1ca1037d-3919-41f7-8691-8b08a56e10b3",
   "metadata": {},
   "outputs": [
    {
     "name": "stdout",
     "output_type": "stream",
     "text": [
      "None\n",
      "hello\n"
     ]
    }
   ],
   "source": [
    "# dicitionaries\n",
    "person={\n",
    "     \"id\":350,\n",
    "'name': 'Puja Bist',\n",
    "'age':22,\n",
    "'salary':3764355,\n",
    "'contact':9862466340\n",
    "\n",
    "}\n",
    "print((person.get('email'))) # it controls normal flow of code\n",
    "\n",
    "print('hello')"
   ]
  },
  {
   "cell_type": "code",
   "execution_count": 41,
   "id": "30dfe9be-eb23-41da-9d7c-35bb420f5e29",
   "metadata": {},
   "outputs": [
    {
     "name": "stdout",
     "output_type": "stream",
     "text": [
      "22\n",
      "hello\n"
     ]
    }
   ],
   "source": [
    "# dicitionaries\n",
    "person={\n",
    "     \"id\":350,\n",
    "'name': 'Puja Bist',\n",
    "'age':22,\n",
    "'salary':3764355,\n",
    "'contact':9862466340\n",
    "\n",
    "}\n",
    "print((person.get('age')))\n",
    "\n",
    "print('hello')"
   ]
  },
  {
   "cell_type": "code",
   "execution_count": 43,
   "id": "6d21b3da-d676-4055-b713-f4eed417fb8f",
   "metadata": {},
   "outputs": [
    {
     "name": "stdout",
     "output_type": "stream",
     "text": [
      "dict_keys(['id', 'name', 'age', 'salary', 'contact'])\n",
      "hello\n"
     ]
    }
   ],
   "source": [
    "# dicitionaries\n",
    "person={\n",
    "     \"id\":350,\n",
    "'name': 'Puja Bist',\n",
    "'age':22,\n",
    "'salary':3764355,\n",
    "'contact':9862466340\n",
    "\n",
    "}\n",
    "print(person.keys()) # if we need key's  only\n",
    "\n",
    "print('hello')"
   ]
  },
  {
   "cell_type": "code",
   "execution_count": 44,
   "id": "5c519cae-28de-41ff-b065-cad34a04f645",
   "metadata": {},
   "outputs": [
    {
     "name": "stdout",
     "output_type": "stream",
     "text": [
      "dict_values([350, 'Puja Bist', 22, 3764355, 9862466340])\n",
      "hello\n"
     ]
    }
   ],
   "source": [
    "# dicitionaries\n",
    "person={\n",
    "     \"id\":350,\n",
    "'name': 'Puja Bist',\n",
    "'age':22,\n",
    "'salary':3764355,\n",
    "'contact':9862466340\n",
    "\n",
    "}\n",
    "print(person.values()) # if wee need values only\n",
    "\n",
    "print('hello')"
   ]
  },
  {
   "cell_type": "code",
   "execution_count": 45,
   "id": "3a95b076-0a7f-437d-92f0-63239833775f",
   "metadata": {},
   "outputs": [
    {
     "name": "stdout",
     "output_type": "stream",
     "text": [
      "dict_items([('id', 350), ('name', 'Puja Bist'), ('age', 22), ('salary', 3764355), ('contact', 9862466340)])\n",
      "hello\n"
     ]
    }
   ],
   "source": [
    "# dicitionaries\n",
    "person={\n",
    "     \"id\":350,\n",
    "'name': 'Puja Bist',\n",
    "'age':22,\n",
    "'salary':3764355,\n",
    "'contact':9862466340\n",
    "\n",
    "}\n",
    "print(person.items())  if we need keys and value both\n",
    "\n",
    "print('hello')"
   ]
  },
  {
   "cell_type": "code",
   "execution_count": 46,
   "id": "3ee87db8-afe8-4feb-9cdf-c0099b3da97a",
   "metadata": {},
   "outputs": [
    {
     "name": "stdout",
     "output_type": "stream",
     "text": [
      "{'id': 350, 'age': 22, 'salary': 3764355, 'contact': 9862466340}\n"
     ]
    }
   ],
   "source": [
    "# dicitionaries\n",
    "person={\n",
    "     \"id\":350,\n",
    "'name': 'Puja Bist',\n",
    "'age':22,\n",
    "'salary':3764355,\n",
    "'contact':9862466340\n",
    "\n",
    "}\n",
    "person.pop('name')\n",
    "\n",
    "print(person)"
   ]
  },
  {
   "cell_type": "code",
   "execution_count": 48,
   "id": "a90b305d-ca3b-457f-a27d-67baf3eae04b",
   "metadata": {},
   "outputs": [
    {
     "name": "stdout",
     "output_type": "stream",
     "text": [
      "{'id': 350, 'name': 'Puja Bist', 'age': 22, 'salary': 3764355, 'contact': 9862466340, 'emails': 'puja', 'college': 'COSMOS'}\n"
     ]
    }
   ],
   "source": [
    "# dicitionaries\n",
    "person={\n",
    "     \"id\":350,\n",
    "'name': 'Puja Bist',\n",
    "'age':22,\n",
    "'salary':3764355,\n",
    "'contact':9862466340\n",
    "\n",
    "}\n",
    "person['emails']='puja'\n",
    "person['college']='COSMOS'\n",
    "print(person)"
   ]
  },
  {
   "cell_type": "code",
   "execution_count": 52,
   "id": "9c566b6c-95c2-4d71-889e-932839338d96",
   "metadata": {},
   "outputs": [
    {
     "ename": "SyntaxError",
     "evalue": "unterminated string literal (detected at line 10) (4047442434.py, line 10)",
     "output_type": "error",
     "traceback": [
      "  \u001b[36mCell\u001b[39m\u001b[36m \u001b[39m\u001b[32mIn[52]\u001b[39m\u001b[32m, line 10\u001b[39m\n\u001b[31m    \u001b[39m\u001b[31mperson.update({'emails':'Mamatabist7@gmail.com','ghar':'Kanchanpur})\u001b[39m\n                                                           ^\n\u001b[31mSyntaxError\u001b[39m\u001b[31m:\u001b[39m unterminated string literal (detected at line 10)\n"
     ]
    }
   ],
   "source": [
    "# dicitionaries\n",
    "person={\n",
    "     \"id\":350,\n",
    "'name': 'Puja Bist',\n",
    "'age':22,\n",
    "'salary':3764355,\n",
    "'contact':9862466340\n",
    "\n",
    "}\n",
    "person.update({'emails':'Mamatabist7@gmail.com','ghar':'Kanchanpur})\n",
    "\n",
    "print(person)"
   ]
  },
  {
   "cell_type": "code",
   "execution_count": null,
   "id": "6f15f120-396d-480f-a01e-9900b601d8ee",
   "metadata": {},
   "outputs": [],
   "source": [
    "# tuple,int,float,comples(number datatypes ), string=> immutable\n",
    "# list ,dictionary,set=>mutable"
   ]
  },
  {
   "cell_type": "code",
   "execution_count": 50,
   "id": "038af354-4705-46c5-9de1-dec23b0aaee0",
   "metadata": {},
   "outputs": [
    {
     "name": "stdout",
     "output_type": "stream",
     "text": [
      "{1, 2, 3, 4, 5} <class 'set'>\n"
     ]
    }
   ],
   "source": [
    "# set datatype\n",
    "s={1,2,3,4,5}\n",
    "print(s,type(s))"
   ]
  },
  {
   "cell_type": "code",
   "execution_count": 56,
   "id": "c985d43c-0811-41c0-84cd-0ef722e77e09",
   "metadata": {},
   "outputs": [
    {
     "name": "stdout",
     "output_type": "stream",
     "text": [
      "{1, (4.5, 3), 'hari', 'ram', 'shyam'}\n"
     ]
    }
   ],
   "source": [
    "# unordered collection\n",
    "s={'ram', 1,'hari',(4.5,3),'shyam'}\n",
    "print(s)"
   ]
  },
  {
   "cell_type": "code",
   "execution_count": 57,
   "id": "813906f7-95e6-4552-82c1-2fd15dc18088",
   "metadata": {},
   "outputs": [
    {
     "name": "stdout",
     "output_type": "stream",
     "text": [
      "{1, 3, ('ram', 4.5), 'hari', 'ram', 'shyam'}\n"
     ]
    }
   ],
   "source": [
    "#unique order collection\n",
    "s={'ram', 1,'hari',('ram',4.5) ,'ram',3,'shyam'}\n",
    "print(s)"
   ]
  },
  {
   "cell_type": "code",
   "execution_count": 59,
   "id": "bb526f86-8ea2-4fa8-b0b0-c7e61906be4d",
   "metadata": {},
   "outputs": [
    {
     "ename": "TypeError",
     "evalue": "unhashable type: 'list'",
     "output_type": "error",
     "traceback": [
      "\u001b[31m---------------------------------------------------------------------------\u001b[39m",
      "\u001b[31mTypeError\u001b[39m                                 Traceback (most recent call last)",
      "\u001b[36mCell\u001b[39m\u001b[36m \u001b[39m\u001b[32mIn[59]\u001b[39m\u001b[32m, line 2\u001b[39m\n\u001b[32m      1\u001b[39m \u001b[38;5;66;03m#cannot store mutable /unhasable datastructure\u001b[39;00m\n\u001b[32m----> \u001b[39m\u001b[32m2\u001b[39m s={\u001b[33m'\u001b[39m\u001b[33mram\u001b[39m\u001b[33m'\u001b[39m,\u001b[32m1\u001b[39m,\u001b[33m'\u001b[39m\u001b[33mhari\u001b[39m\u001b[33m'\u001b[39m,\u001b[32m4.5\u001b[39m,\u001b[33m'\u001b[39m\u001b[33mshyam\u001b[39m\u001b[33m'\u001b[39m,(\u001b[32m7\u001b[39m,\u001b[32m89\u001b[39m),[\u001b[32m1\u001b[39m,\u001b[32m2\u001b[39m,\u001b[32m3\u001b[39m]}\n\u001b[32m      3\u001b[39m \u001b[38;5;28mprint\u001b[39m(s)\n",
      "\u001b[31mTypeError\u001b[39m: unhashable type: 'list'"
     ]
    }
   ],
   "source": [
    "#cannot store mutable /unhasable datastructure\n",
    "s={'ram',1,'hari',4.5,'shyam',(7,89),[1,2,3]}\n",
    "print(s)"
   ]
  },
  {
   "cell_type": "code",
   "execution_count": 61,
   "id": "96c71603-48a1-47cb-9164-cb45ab3af0c7",
   "metadata": {},
   "outputs": [
    {
     "name": "stdout",
     "output_type": "stream",
     "text": [
      "{'gita', 'hari', 'ram', 'shyam', 'sita'}\n"
     ]
    }
   ],
   "source": [
    "tea={'ram','hari','sita'}\n",
    "coffee={'shyam', 'sita', 'gita'}\n",
    "tea_or_coffee=tea | coffee #union\n",
    "print(tea_or_coffee)"
   ]
  },
  {
   "cell_type": "code",
   "execution_count": 62,
   "id": "e6860f50-58f2-4e09-9eff-5e23db475c92",
   "metadata": {},
   "outputs": [
    {
     "name": "stdout",
     "output_type": "stream",
     "text": [
      "{'gita', 'hari', 'ram', 'shyam', 'sita'}\n"
     ]
    }
   ],
   "source": [
    "tea={'ram','hari','sita'}\n",
    "coffee={'shyam', 'sita', 'gita'}\n",
    "tea_or_coffee=tea.union(coffee) #union\n",
    "print(tea_or_coffee)"
   ]
  },
  {
   "cell_type": "code",
   "execution_count": 64,
   "id": "cd8203d6-26ce-4df4-9fff-e5f080e7eb99",
   "metadata": {},
   "outputs": [
    {
     "name": "stdout",
     "output_type": "stream",
     "text": [
      "{'sita'}\n"
     ]
    }
   ],
   "source": [
    "tea={'ram','hari','sita'}\n",
    "coffee={'shyam', 'sita', 'gita'}\n",
    "tea_and_coffee=tea & coffee #union\n",
    "print(tea_and_coffee)"
   ]
  },
  {
   "cell_type": "code",
   "execution_count": 66,
   "id": "5f5ec0a4-034c-4d3a-92a0-d3fd7bbf9934",
   "metadata": {},
   "outputs": [
    {
     "name": "stdout",
     "output_type": "stream",
     "text": [
      "{'sita'}\n"
     ]
    }
   ],
   "source": [
    "tea={'ram','hari','sita'}\n",
    "coffee={'shyam', 'sita', 'gita'}\n",
    "tea_and_coffee=tea.intersection( coffee) #intersection\n",
    "print(tea_and_coffee)"
   ]
  },
  {
   "cell_type": "code",
   "execution_count": 69,
   "id": "d84c88c7-eae3-41b5-af56-6b83e21507b6",
   "metadata": {},
   "outputs": [
    {
     "name": "stdout",
     "output_type": "stream",
     "text": [
      "{'hari', 'ram'}\n"
     ]
    }
   ],
   "source": [
    "tea={'ram','hari','sita'}\n",
    "coffee={'shyam', 'sita', 'gita'}\n",
    "tea_only=tea.difference(coffee) #difference\n",
    "print(tea_only)"
   ]
  },
  {
   "cell_type": "code",
   "execution_count": 70,
   "id": "7fb68a67-d3fe-4ffc-8b21-95701f7b94fc",
   "metadata": {},
   "outputs": [
    {
     "name": "stdout",
     "output_type": "stream",
     "text": [
      "Help on class set in module builtins:\n",
      "\n",
      "class set(object)\n",
      " |  set(iterable=(), /)\n",
      " |\n",
      " |  Build an unordered collection of unique elements.\n",
      " |\n",
      " |  Methods defined here:\n",
      " |\n",
      " |  __and__(self, value, /)\n",
      " |      Return self&value.\n",
      " |\n",
      " |  __contains__(self, object, /)\n",
      " |      x.__contains__(y) <==> y in x.\n",
      " |\n",
      " |  __eq__(self, value, /)\n",
      " |      Return self==value.\n",
      " |\n",
      " |  __ge__(self, value, /)\n",
      " |      Return self>=value.\n",
      " |\n",
      " |  __getattribute__(self, name, /)\n",
      " |      Return getattr(self, name).\n",
      " |\n",
      " |  __gt__(self, value, /)\n",
      " |      Return self>value.\n",
      " |\n",
      " |  __iand__(self, value, /)\n",
      " |      Return self&=value.\n",
      " |\n",
      " |  __init__(self, /, *args, **kwargs)\n",
      " |      Initialize self.  See help(type(self)) for accurate signature.\n",
      " |\n",
      " |  __ior__(self, value, /)\n",
      " |      Return self|=value.\n",
      " |\n",
      " |  __isub__(self, value, /)\n",
      " |      Return self-=value.\n",
      " |\n",
      " |  __iter__(self, /)\n",
      " |      Implement iter(self).\n",
      " |\n",
      " |  __ixor__(self, value, /)\n",
      " |      Return self^=value.\n",
      " |\n",
      " |  __le__(self, value, /)\n",
      " |      Return self<=value.\n",
      " |\n",
      " |  __len__(self, /)\n",
      " |      Return len(self).\n",
      " |\n",
      " |  __lt__(self, value, /)\n",
      " |      Return self<value.\n",
      " |\n",
      " |  __ne__(self, value, /)\n",
      " |      Return self!=value.\n",
      " |\n",
      " |  __or__(self, value, /)\n",
      " |      Return self|value.\n",
      " |\n",
      " |  __rand__(self, value, /)\n",
      " |      Return value&self.\n",
      " |\n",
      " |  __reduce__(self, /)\n",
      " |      Return state information for pickling.\n",
      " |\n",
      " |  __repr__(self, /)\n",
      " |      Return repr(self).\n",
      " |\n",
      " |  __ror__(self, value, /)\n",
      " |      Return value|self.\n",
      " |\n",
      " |  __rsub__(self, value, /)\n",
      " |      Return value-self.\n",
      " |\n",
      " |  __rxor__(self, value, /)\n",
      " |      Return value^self.\n",
      " |\n",
      " |  __sizeof__(self, /)\n",
      " |      S.__sizeof__() -> size of S in memory, in bytes.\n",
      " |\n",
      " |  __sub__(self, value, /)\n",
      " |      Return self-value.\n",
      " |\n",
      " |  __xor__(self, value, /)\n",
      " |      Return self^value.\n",
      " |\n",
      " |  add(self, object, /)\n",
      " |      Add an element to a set.\n",
      " |\n",
      " |      This has no effect if the element is already present.\n",
      " |\n",
      " |  clear(self, /)\n",
      " |      Remove all elements from this set.\n",
      " |\n",
      " |  copy(self, /)\n",
      " |      Return a shallow copy of a set.\n",
      " |\n",
      " |  difference(self, /, *others)\n",
      " |      Return a new set with elements in the set that are not in the others.\n",
      " |\n",
      " |  difference_update(self, /, *others)\n",
      " |      Update the set, removing elements found in others.\n",
      " |\n",
      " |  discard(self, object, /)\n",
      " |      Remove an element from a set if it is a member.\n",
      " |\n",
      " |      Unlike set.remove(), the discard() method does not raise\n",
      " |      an exception when an element is missing from the set.\n",
      " |\n",
      " |  intersection(self, /, *others)\n",
      " |      Return a new set with elements common to the set and all others.\n",
      " |\n",
      " |  intersection_update(self, /, *others)\n",
      " |      Update the set, keeping only elements found in it and all others.\n",
      " |\n",
      " |  isdisjoint(self, other, /)\n",
      " |      Return True if two sets have a null intersection.\n",
      " |\n",
      " |  issubset(self, other, /)\n",
      " |      Report whether another set contains this set.\n",
      " |\n",
      " |  issuperset(self, other, /)\n",
      " |      Report whether this set contains another set.\n",
      " |\n",
      " |  pop(self, /)\n",
      " |      Remove and return an arbitrary set element.\n",
      " |\n",
      " |      Raises KeyError if the set is empty.\n",
      " |\n",
      " |  remove(self, object, /)\n",
      " |      Remove an element from a set; it must be a member.\n",
      " |\n",
      " |      If the element is not a member, raise a KeyError.\n",
      " |\n",
      " |  symmetric_difference(self, other, /)\n",
      " |      Return a new set with elements in either the set or other but not both.\n",
      " |\n",
      " |  symmetric_difference_update(self, other, /)\n",
      " |      Update the set, keeping only elements found in either set, but not in both.\n",
      " |\n",
      " |  union(self, /, *others)\n",
      " |      Return a new set with elements from the set and all others.\n",
      " |\n",
      " |  update(self, /, *others)\n",
      " |      Update the set, adding elements from all others.\n",
      " |\n",
      " |  ----------------------------------------------------------------------\n",
      " |  Class methods defined here:\n",
      " |\n",
      " |  __class_getitem__(object, /)\n",
      " |      See PEP 585\n",
      " |\n",
      " |  ----------------------------------------------------------------------\n",
      " |  Static methods defined here:\n",
      " |\n",
      " |  __new__(*args, **kwargs)\n",
      " |      Create and return a new object.  See help(type) for accurate signature.\n",
      " |\n",
      " |  ----------------------------------------------------------------------\n",
      " |  Data and other attributes defined here:\n",
      " |\n",
      " |  __hash__ = None\n",
      "\n"
     ]
    }
   ],
   "source": [
    "help(set)"
   ]
  },
  {
   "cell_type": "code",
   "execution_count": 72,
   "id": "65a33f8d-51fe-4c96-b165-401bf08d99d1",
   "metadata": {},
   "outputs": [
    {
     "name": "stdout",
     "output_type": "stream",
     "text": [
      "{344, 'hari', 'ram', 'sita'}\n"
     ]
    }
   ],
   "source": [
    "tea={'ram','hari','sita'}\n",
    "coffee={'shyam', 'sita', 'gita'}\n",
    "tea.add(344) # for adding the element\n",
    "print(tea)"
   ]
  },
  {
   "cell_type": "code",
   "execution_count": 74,
   "id": "785380e8-7a7c-4b82-a65c-6cf05be6aff9",
   "metadata": {},
   "outputs": [
    {
     "name": "stdout",
     "output_type": "stream",
     "text": [
      "{'hari', 'ram', 'sita'}\n"
     ]
    }
   ],
   "source": [
    "tea={'ram','hari','sita'}\n",
    "tea.discard(344) # dicarding  /delete the element\n",
    "print(tea)"
   ]
  },
  {
   "cell_type": "code",
   "execution_count": 75,
   "id": "5b7ddd0b-387e-453c-a21b-0ed0221d8b6d",
   "metadata": {},
   "outputs": [
    {
     "data": {
      "text/plain": [
       "5"
      ]
     },
     "execution_count": 75,
     "metadata": {},
     "output_type": "execute_result"
    }
   ],
   "source": [
    "len([1,2,3,4,5])"
   ]
  },
  {
   "cell_type": "code",
   "execution_count": 76,
   "id": "5356aabf-9340-43cd-921d-0816dca5ca44",
   "metadata": {},
   "outputs": [
    {
     "data": {
      "text/plain": [
       "5"
      ]
     },
     "execution_count": 76,
     "metadata": {},
     "output_type": "execute_result"
    }
   ],
   "source": [
    "max([1,2,3,4,5])"
   ]
  },
  {
   "cell_type": "code",
   "execution_count": 77,
   "id": "8d802ca8-7cf7-4c6c-a123-c5519b429e74",
   "metadata": {},
   "outputs": [
    {
     "data": {
      "text/plain": [
       "1"
      ]
     },
     "execution_count": 77,
     "metadata": {},
     "output_type": "execute_result"
    }
   ],
   "source": [
    "min([1,2,3,4,5])"
   ]
  },
  {
   "cell_type": "code",
   "execution_count": 78,
   "id": "669ad193-f7cb-469f-a7d8-19a9f06ef7bd",
   "metadata": {},
   "outputs": [
    {
     "data": {
      "text/plain": [
       "15"
      ]
     },
     "execution_count": 78,
     "metadata": {},
     "output_type": "execute_result"
    }
   ],
   "source": [
    "sum([1,2,3,4,5])"
   ]
  },
  {
   "cell_type": "code",
   "execution_count": 81,
   "id": "90026a92-c670-4c10-ab8b-a26eec65e010",
   "metadata": {},
   "outputs": [
    {
     "data": {
      "text/plain": [
       "[1, 3, 4, 5, 22]"
      ]
     },
     "execution_count": 81,
     "metadata": {},
     "output_type": "execute_result"
    }
   ],
   "source": [
    "sorted([1,22,3,4,5])"
   ]
  },
  {
   "cell_type": "code",
   "execution_count": 82,
   "id": "40d1ecff-805c-4929-9bb2-2d1f88fec067",
   "metadata": {},
   "outputs": [
    {
     "data": {
      "text/plain": [
       "[22, 5, 4, 3, 1]"
      ]
     },
     "execution_count": 82,
     "metadata": {},
     "output_type": "execute_result"
    }
   ],
   "source": [
    "sorted(([1,22,3,4,5]),reverse=True)"
   ]
  },
  {
   "cell_type": "code",
   "execution_count": null,
   "id": "fff382a3-a02f-4c87-bd55-da1f1a76c0eb",
   "metadata": {},
   "outputs": [],
   "source": []
  }
 ],
 "metadata": {
  "kernelspec": {
   "display_name": "Python 3 (ipykernel)",
   "language": "python",
   "name": "python3"
  },
  "language_info": {
   "codemirror_mode": {
    "name": "ipython",
    "version": 3
   },
   "file_extension": ".py",
   "mimetype": "text/x-python",
   "name": "python",
   "nbconvert_exporter": "python",
   "pygments_lexer": "ipython3",
   "version": "3.13.0"
  }
 },
 "nbformat": 4,
 "nbformat_minor": 5
}
