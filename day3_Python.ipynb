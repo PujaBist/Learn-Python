{
 "cells": [
  {
   "cell_type": "code",
   "execution_count": 1,
   "id": "91e098a3-40ed-4f66-9802-05f160741bbe",
   "metadata": {},
   "outputs": [
    {
     "name": "stdout",
     "output_type": "stream",
     "text": [
      "unauthorized\n"
     ]
    }
   ],
   "source": [
    "age=17\n",
    "if age<18 :\n",
    "    print(\"unauthorized\")"
   ]
  },
  {
   "cell_type": "code",
   "execution_count": 9,
   "id": "133d6663-1c9e-4390-a47a-13f717a41bde",
   "metadata": {},
   "outputs": [
    {
     "name": "stdout",
     "output_type": "stream",
     "text": [
      "hello\n"
     ]
    }
   ],
   "source": [
    "age=17\n",
    "if age >= 18 :\n",
    "    print(\"authorized\")\n",
    "    print(\"hi\")\n",
    "print(\"hello\")\n"
   ]
  },
  {
   "cell_type": "code",
   "execution_count": 10,
   "id": "7c503265-796d-426f-9681-19a95c370006",
   "metadata": {},
   "outputs": [
    {
     "name": "stdout",
     "output_type": "stream",
     "text": [
      "authorized\n",
      "hi\n",
      "hello\n"
     ]
    }
   ],
   "source": [
    "age=21\n",
    "if age >= 18 :\n",
    "    print(\"authorized\")\n",
    "    print(\"hi\")\n",
    "print(\"hello\")"
   ]
  },
  {
   "cell_type": "code",
   "execution_count": 21,
   "id": "9d815867-b71e-4527-8d93-ae3f5e9b5096",
   "metadata": {},
   "outputs": [
    {
     "name": "stdin",
     "output_type": "stream",
     "text": [
      "enter the age 12\n"
     ]
    },
    {
     "name": "stdout",
     "output_type": "stream",
     "text": [
      "Unauthorized\n"
     ]
    }
   ],
   "source": [
    "age=int(input(\"enter the age\"))\n",
    "if age >= 18:\n",
    "    print(\"Authorized\")\n",
    "if age<= 18:\n",
    "    print(\"Unauthorized\")"
   ]
  },
  {
   "cell_type": "code",
   "execution_count": 36,
   "id": "b6aa6786-dc57-4059-9ad1-59305b87bff8",
   "metadata": {},
   "outputs": [
    {
     "name": "stdin",
     "output_type": "stream",
     "text": [
      "enter the number 5\n",
      "enter the number 1\n"
     ]
    },
    {
     "name": "stdout",
     "output_type": "stream",
     "text": [
      "x is greater\n"
     ]
    }
   ],
   "source": [
    "x=int(input(\"enter the number\"))\n",
    "y=int(input(\"enter the number\"))\n",
    "if x>y :\n",
    "     print(\"x is greater\")\n",
    "if y>x :\n",
    "        print(\"y is greater\")\n",
    "if x==y :\n",
    "    print(f\"{x} and {y} are equal\",format(x,y))\n"
   ]
  },
  {
   "cell_type": "code",
   "execution_count": 34,
   "id": "cc3cb30a-2624-4e5f-ad5d-0fb4fe0e8db9",
   "metadata": {},
   "outputs": [
    {
     "name": "stdin",
     "output_type": "stream",
     "text": [
      "enter the number 4\n",
      "enter the number 8\n"
     ]
    },
    {
     "name": "stdout",
     "output_type": "stream",
     "text": [
      "y is greater\n"
     ]
    }
   ],
   "source": [
    "x=int(input(\"enter the number\"))\n",
    "y=int(input(\"enter the number\"))\n",
    "if x>y :\n",
    "     print(\"x is greater\")\n",
    "elif y>x :\n",
    "        print(\"y is greater\")\n",
    "elif x==y : # another way use else\n",
    "    print(f\"{x} and {y} are equal\",format(x,y))\n"
   ]
  },
  {
   "cell_type": "code",
   "execution_count": 38,
   "id": "530e3650-41a8-47a6-8990-b6ca303f838b",
   "metadata": {},
   "outputs": [
    {
     "name": "stdin",
     "output_type": "stream",
     "text": [
      "enter name admi\n",
      "enter password jhfigfer\n"
     ]
    },
    {
     "name": "stdout",
     "output_type": "stream",
     "text": [
      "can't Login\n"
     ]
    }
   ],
   "source": [
    "#username=admin\n",
    "#password=admin123\n",
    "username=input(\"enter your  name\")\n",
    "password=input(\"enter  your password\")\n",
    "if  username == \"admin\"  and  password == \"admin123\" :\n",
    "    print(\"successfully logged in\")\n",
    "else :\n",
    "    print(\"can't Login\")"
   ]
  },
  {
   "cell_type": "code",
   "execution_count": 32,
   "id": "f7d7de2a-31d7-493d-a4c5-d22f101add78",
   "metadata": {},
   "outputs": [
    {
     "name": "stdin",
     "output_type": "stream",
     "text": [
      "enter your  name admin\n",
      "enter your  password admin123\n",
      "enter  your secretkey dttys\n"
     ]
    },
    {
     "name": "stdout",
     "output_type": "stream",
     "text": [
      "successfully logged in\n"
     ]
    }
   ],
   "source": [
    "#username=admin\n",
    "#password=admin123\n",
    "#secretkey=secretkey\n",
    "username=input(\"enter your  name\")\n",
    "password=input(\"enter your  password\")\n",
    "secretkey=input(\"enter  your secretkey\")\n",
    "if ( username == \"admin\"  and  password == \"admin123\") or (secretkey==\"secretkey123\") :\n",
    "    print(\"successfully logged in\")\n",
    "else :\n",
    "    print(\"can't Login\")"
   ]
  },
  {
   "cell_type": "code",
   "execution_count": 31,
   "id": "6b0117fe-c5d9-4588-baa0-ad7a8a302491",
   "metadata": {},
   "outputs": [
    {
     "name": "stdin",
     "output_type": "stream",
     "text": [
      "enter your  name admin\n",
      "enter your  password gdyt\n",
      "enter  your secretkey secretkey123\n"
     ]
    },
    {
     "name": "stdout",
     "output_type": "stream",
     "text": [
      "successfully logged in\n"
     ]
    }
   ],
   "source": [
    "#username=admin\n",
    "#password=admin123\n",
    "#secretkey=secretkey\n",
    "username=input(\"enter your  name\")\n",
    "password=input(\"enter your  password\")\n",
    "if ( username == \"admin\"  and  password == \"admin123\") :\n",
    "    print(\"successfully logged in\")\n",
    "else :\n",
    "    secretkey=input(\"enter  your secretkey\")\n",
    "    if(secretkey==\"secretkey123\") :\n",
    "        print(\"successfully logged in\")\n",
    "    else :\n",
    "        print(\"can't Login\")"
   ]
  },
  {
   "cell_type": "code",
   "execution_count": 30,
   "id": "087b9174-63c5-4892-a598-e73788b9672a",
   "metadata": {},
   "outputs": [
    {
     "name": "stdin",
     "output_type": "stream",
     "text": [
      "enter your age 77\n"
     ]
    },
    {
     "name": "stdout",
     "output_type": "stream",
     "text": [
      "Older Adult \n"
     ]
    }
   ],
   "source": [
    "age=int(input(\"enter your age\"))\n",
    "if age >=1 and age <=12:\n",
    "    print(\"child\")\n",
    "elif age >=13 and age <=17:\n",
    "    print(\"teenager\")\n",
    "elif age >=18 and age <=35:\n",
    "    print(\"Young Adult\")\n",
    "elif age >=36  and age <=45:\n",
    "    print(\"Middle_aged\")\n",
    "elif age >=46:\n",
    "    print(\"Older Adult \")"
   ]
  },
  {
   "cell_type": "code",
   "execution_count": 26,
   "id": "941c349e-b67b-4edf-aba4-1c2202451ae3",
   "metadata": {},
   "outputs": [
    {
     "name": "stdout",
     "output_type": "stream",
     "text": [
      "[1, 2, 3, 4, 5]\n"
     ]
    }
   ],
   "source": [
    "x=[1,2,3,4,5]\n",
    "#intially i is 0\n",
    "j=[] # empty list\n",
    "for i in x: # for loop\n",
    "    j.append(i) # if you want to add element in list\n",
    "print(j)"
   ]
  },
  {
   "cell_type": "code",
   "execution_count": 67,
   "id": "0cf9ad9b-2741-4f3d-9bfc-7843b75610a2",
   "metadata": {},
   "outputs": [
    {
     "name": "stdout",
     "output_type": "stream",
     "text": [
      "15\n"
     ]
    }
   ],
   "source": [
    "x=[1,2,3,4,5]\n",
    "#intially i is 0\n",
    "sum=0\n",
    "for i in x: # for loop\n",
    "    sum=sum+i\n",
    "print(sum)\n",
    "    "
   ]
  },
  {
   "cell_type": "code",
   "execution_count": 22,
   "id": "af5fe35d-e549-4e9c-89ce-3dfaf3951af3",
   "metadata": {},
   "outputs": [
    {
     "name": "stdout",
     "output_type": "stream",
     "text": [
      "120\n"
     ]
    }
   ],
   "source": [
    "x=[1,2,3,4,5]\n",
    "#intially i is 0\n",
    "mult=1\n",
    "for i in x: # for loop\n",
    "    mult=mult*i #mult *=i\n",
    "print(mult)\n",
    "    "
   ]
  },
  {
   "cell_type": "code",
   "execution_count": 21,
   "id": "9f6a5a52-2457-4922-b9bf-d4cf78d8731c",
   "metadata": {},
   "outputs": [
    {
     "name": "stdin",
     "output_type": "stream",
     "text": [
      "Enter your percentage 78\n"
     ]
    },
    {
     "name": "stdout",
     "output_type": "stream",
     "text": [
      "First Division\n"
     ]
    }
   ],
   "source": [
    "# >= 80 => Distinciton\n",
    "# 60-80 => First Division\n",
    "# 50-60 => Second division\n",
    "# 35-50 =>Third division\n",
    "# <35 => Fail\n",
    "percentage=int(input(\"Enter your percentage\"))\n",
    "if  percentage >=80 :\n",
    "    print(\"Distinction\")\n",
    "elif percentage >=60 and  percentage <80 :\n",
    "    print(\"First Division\")\n",
    "elif  percentage >=50  and percentage <60 :\n",
    "    print(\"Second Division\")\n",
    "elif percentage >= 35 and percentage < 50 :\n",
    "    print(\"Third Division\")\n",
    "else :\n",
    "    print(\"Fail\")"
   ]
  },
  {
   "cell_type": "code",
   "execution_count": 5,
   "id": "6c62094e-b3c3-4554-8e3c-cea1719f729e",
   "metadata": {},
   "outputs": [
    {
     "name": "stdout",
     "output_type": "stream",
     "text": [
      "[1, 4, 9, 16, 25]\n"
     ]
    }
   ],
   "source": [
    "x=[1,2,3,4,5]\n",
    "#intially i is 0\n",
    "squares=[]\n",
    "for i in x: # for loop\n",
    "    squares.append(i**2)\n",
    "print(squares)\n",
    "  \n",
    "        \n",
    "    "
   ]
  },
  {
   "cell_type": "code",
   "execution_count": 39,
   "id": "e9b927a3-6ede-4f62-84ae-634d3ee19eaf",
   "metadata": {},
   "outputs": [
    {
     "name": "stdout",
     "output_type": "stream",
     "text": [
      "[4, 16, 36, 64]\n"
     ]
    }
   ],
   "source": [
    "#Given a list of numbers, create a new list that contains the square,\n",
    "#of only the even numbers.\n",
    "x=[1,2,3,4,5,6,7,8,9]\n",
    "ne=[]\n",
    "for i in x:\n",
    "    if i%2==0 :\n",
    "        ne.append(i**2)\n",
    "print(ne)\n",
    "        "
   ]
  },
  {
   "cell_type": "code",
   "execution_count": 53,
   "id": "2aca23b1-95ce-435a-9ebd-abf1847fb799",
   "metadata": {},
   "outputs": [
    {
     "name": "stdin",
     "output_type": "stream",
     "text": [
      "enter 0 element of list :  10\n",
      "enter 1 element of list :  20\n",
      "enter 2 element of list :  30\n",
      "enter 3 element of list :  40\n",
      "enter 4 element of list :  50\n"
     ]
    },
    {
     "name": "stdout",
     "output_type": "stream",
     "text": [
      "[10, 20, 30, 40, 50]\n"
     ]
    }
   ],
   "source": [
    "#Write a program that takes a list and prints if the sum is more than 100 or not.\n",
    "x=[]\n",
    "for i in range(5):\n",
    "    y=int(input(f\"enter {i} element of list : \"))\n",
    "    x.append(y)\n",
    "sum=0\n",
    "for j in x :\n",
    "    sum=sum+j\n",
    "#print(sum)\n",
    "if sum >= 100:\n",
    "    print(x)\n"
   ]
  },
  {
   "cell_type": "code",
   "execution_count": 70,
   "id": "f1207035-56b7-4498-a290-2f96456e635c",
   "metadata": {},
   "outputs": [
    {
     "name": "stdout",
     "output_type": "stream",
     "text": [
      "456\n"
     ]
    }
   ],
   "source": [
    "#Without using max(), find the largest number in a list using a for loop.\n",
    "x=[23,2,456,78]\n",
    "largest=x[0]\n",
    "for i in x:\n",
    "    if  i> largest :\n",
    "        largest=i\n",
    "\n",
    "print(largest)\n",
    "                                                               "
   ]
  },
  {
   "cell_type": "code",
   "execution_count": 72,
   "id": "c79ed943-ab88-4f2d-8325-e2c779da3cd0",
   "metadata": {},
   "outputs": [
    {
     "name": "stdout",
     "output_type": "stream",
     "text": [
      "4\n"
     ]
    }
   ],
   "source": [
    "#Count how many even numbers are in a tuple.\n",
    "x=(1,2,3,4,5,6,7,8,9)\n",
    "t=0\n",
    "for i in x:\n",
    "    if i%2==0 :\n",
    "        t=t+1\n",
    "print(t)"
   ]
  },
  {
   "cell_type": "code",
   "execution_count": 74,
   "id": "6204b33e-da3b-433e-9b7f-89762f6544d6",
   "metadata": {},
   "outputs": [
    {
     "name": "stdin",
     "output_type": "stream",
     "text": [
      "which index do you want print 5\n"
     ]
    },
    {
     "name": "stdout",
     "output_type": "stream",
     "text": [
      "4\n"
     ]
    }
   ],
   "source": [
    "#Ask the user for a number and print the index if it exists in a tuple. If not, print “Not found”\n",
    "x=(1,2,3,4,5,6,7,8,9)\n",
    "y=int(input(\"which index do you want print\"))\n",
    "if y in x:\n",
    "    print(x.index(y))\n",
    "else : \n",
    "    print(\"not found\")"
   ]
  },
  {
   "cell_type": "code",
   "execution_count": 85,
   "id": "6a0d1267-0d90-44f4-ae5e-b45087001178",
   "metadata": {},
   "outputs": [
    {
     "name": "stdin",
     "output_type": "stream",
     "text": [
      "enter words you want  a\n",
      "enter words you want  b\n",
      "enter words you want  a\n",
      "enter words you want  c\n",
      "enter words you want  d\n"
     ]
    },
    {
     "name": "stdout",
     "output_type": "stream",
     "text": [
      "{'c', 'a', 'b', 'd'}\n"
     ]
    }
   ],
   "source": [
    "#Ask the user to enter 5 words and store them in a set (to remove duplicates). \n",
    "#Print the set.\n",
    "y=set()\n",
    "for i in range(5):\n",
    "    x=input(\"enter words you want \")\n",
    "    y.add(x)\n",
    "print(y)\n"
   ]
  },
  {
   "cell_type": "code",
   "execution_count": null,
   "id": "ab20a172-d19f-4c64-985e-b35f472e11b6",
   "metadata": {},
   "outputs": [],
   "source": []
  }
 ],
 "metadata": {
  "kernelspec": {
   "display_name": "Python 3 (ipykernel)",
   "language": "python",
   "name": "python3"
  },
  "language_info": {
   "codemirror_mode": {
    "name": "ipython",
    "version": 3
   },
   "file_extension": ".py",
   "mimetype": "text/x-python",
   "name": "python",
   "nbconvert_exporter": "python",
   "pygments_lexer": "ipython3",
   "version": "3.13.0"
  }
 },
 "nbformat": 4,
 "nbformat_minor": 5
}
