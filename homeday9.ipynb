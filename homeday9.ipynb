{
 "cells": [
  {
   "cell_type": "code",
   "execution_count": 4,
   "id": "51dc6f4d-ca2a-42e7-b746-7441182c356b",
   "metadata": {},
   "outputs": [
    {
     "name": "stdout",
     "output_type": "stream",
     "text": [
      "Woof!\n",
      "Meow!\n"
     ]
    }
   ],
   "source": [
    "#ploymorphism\n",
    "class Dog:\n",
    "    def speak(self):\n",
    "        return \"Woof!\"\n",
    "\n",
    "class Cat:\n",
    "    def speak(self):\n",
    "        return \"Meow!\"\n",
    "\n",
    "def make_sound(animal):\n",
    "    print(animal.speak())\n",
    "\n",
    "d = Dog()\n",
    "c = Cat()\n",
    "\n",
    "make_sound(d)  # Passing objects allows the same function to work differently depending on the object's class.\n",
    "make_sound(c)  # Passing objects allows the same function to work differently depending on the object's class.\n"
   ]
  },
  {
   "cell_type": "code",
   "execution_count": 6,
   "id": "ed6a31cd-ba24-43b6-9461-fe6cdb43b070",
   "metadata": {},
   "outputs": [
    {
     "name": "stdout",
     "output_type": "stream",
     "text": [
      "Woof!\n",
      "Meow!\n",
      "Some sound\n"
     ]
    }
   ],
   "source": [
    "#Method Overriding(Runtime ployNorphism)\n",
    "class Animal:\n",
    "    def speak(self):\n",
    "        return \"Some sound\"\n",
    "\n",
    "class Dog(Animal):\n",
    "    def speak(self):\n",
    "        return \"Woof!\"\n",
    "\n",
    "class Cat(Animal):\n",
    "    def speak(self):\n",
    "        return \"Meow!\"\n",
    "\n",
    "animals = [Dog(), Cat(), Animal()] # creating object for all class  at once by using list.\n",
    "\n",
    "for a in animals:\n",
    "    print(a.speak())\n"
   ]
  },
  {
   "cell_type": "code",
   "execution_count": 7,
   "id": "2adbe2b3-804a-433e-bfe8-303b0e997022",
   "metadata": {},
   "outputs": [
    {
     "name": "stdout",
     "output_type": "stream",
     "text": [
      "(6, 8)\n"
     ]
    }
   ],
   "source": [
    "class Point:\n",
    "    def __init__(self, x, y):\n",
    "        self.x = x\n",
    "        self.y = y\n",
    "\n",
    "    # Overloading the + operator\n",
    "    def __add__(self, other):\n",
    "        return Point(self.x + other.x, self.y + other.y)\n",
    "\n",
    "    def __str__(self):\n",
    "        return f\"({self.x}, {self.y})\"\n",
    "\n",
    "p1 = Point(2, 3)\n",
    "p2 = Point(4, 5)\n",
    "result = p1 + p2\n",
    "\n",
    "print(result)  # Output: (6, 8)\n"
   ]
  },
  {
   "cell_type": "code",
   "execution_count": 9,
   "id": "6bc0ef19-6fca-4b4b-9a08-a8732e908be4",
   "metadata": {},
   "outputs": [],
   "source": [
    "#File handling is how Python lets you work with files: reading, writing, updating, or deleting.\n",
    "f = open(\"puja.txt\", \"w\")\n",
    "f.write(\"Hello Puja!\\nThis is your first file.\")\n",
    "f.close()\n",
    "#If the file doesn't exist, it will be created.\n",
    "\n",
    "#If it already exists, it will be overwritten\n"
   ]
  },
  {
   "cell_type": "code",
   "execution_count": 10,
   "id": "eda0f487-49c8-46bc-bb83-ffdc19131513",
   "metadata": {},
   "outputs": [
    {
     "name": "stdout",
     "output_type": "stream",
     "text": [
      "Hello Puja!\n",
      "This is your first file.\n"
     ]
    }
   ],
   "source": [
    "# reading file\n",
    "f = open(\"puja.txt\", \"r\")\n",
    "content = f.read()\n",
    "print(content)\n",
    "f.close()"
   ]
  },
  {
   "cell_type": "code",
   "execution_count": 12,
   "id": "b5b5d910-89db-4987-9faa-bab2bbf8fbfa",
   "metadata": {},
   "outputs": [],
   "source": [
    "#Appending to a file means adding new content to the end of an existing file without overwriting its current contents.\n",
    "f = open(\"puja.txt\", \"a\")\n",
    "f.write(\"\\nThis is an added line.\")\n",
    "f.close()\n"
   ]
  },
  {
   "cell_type": "code",
   "execution_count": 14,
   "id": "5e256f87-42cd-4b0e-8672-a7dd91b4c1bc",
   "metadata": {},
   "outputs": [
    {
     "name": "stdout",
     "output_type": "stream",
     "text": [
      "File exists!\n"
     ]
    }
   ],
   "source": [
    "import os\n",
    "\n",
    "if os.path.exists(\"puja.txt\"):\n",
    "    print(\"File exists!\")\n",
    "else:\n",
    "    print(\"File not found.\")\n"
   ]
  },
  {
   "cell_type": "code",
   "execution_count": null,
   "id": "09cac603-064e-4ada-90b5-b8bfdef41616",
   "metadata": {},
   "outputs": [],
   "source": []
  }
 ],
 "metadata": {
  "kernelspec": {
   "display_name": "Python 3 (ipykernel)",
   "language": "python",
   "name": "python3"
  },
  "language_info": {
   "codemirror_mode": {
    "name": "ipython",
    "version": 3
   },
   "file_extension": ".py",
   "mimetype": "text/x-python",
   "name": "python",
   "nbconvert_exporter": "python",
   "pygments_lexer": "ipython3",
   "version": "3.13.0"
  }
 },
 "nbformat": 4,
 "nbformat_minor": 5
}
