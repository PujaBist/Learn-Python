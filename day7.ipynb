{
 "cells": [
  {
   "cell_type": "code",
   "execution_count": 1,
   "id": "a89c4615-3c0e-4563-b82d-50108832b897",
   "metadata": {},
   "outputs": [],
   "source": [
    "# oop => object oriented  Programming\n",
    "#class => Person =>blueprint =>template /structure\n",
    "# object =>ram => actually exists /instance of class"
   ]
  },
  {
   "cell_type": "code",
   "execution_count": 3,
   "id": "7c0b65b1-eff8-43a4-a461-6de59f3609cd",
   "metadata": {},
   "outputs": [],
   "source": [
    "class Person :\n",
    "    #attribute/property\n",
    "    name =\"Puja\"\n",
    "    age=20\n",
    "    gender ='Female'\n",
    "    level= 'Bachelor'\n",
    "# action /behaviour/characteristics/method\n",
    "def eat():\n",
    "    print(\"eating\")\n",
    "def sleep():\n",
    "    print(\"sleeping...\")\n",
    "def walk():\n",
    "    print(\"Walking...\")"
   ]
  },
  {
   "cell_type": "code",
   "execution_count": 5,
   "id": "de460f69-3c57-4d4e-90a8-dbc3b0cf5019",
   "metadata": {},
   "outputs": [
    {
     "name": "stdout",
     "output_type": "stream",
     "text": [
      "<__main__.Person object at 0x0000021DF8235160>\n"
     ]
    }
   ],
   "source": [
    "#making object\n",
    "p1=Person()\n",
    "print(p1)"
   ]
  },
  {
   "cell_type": "code",
   "execution_count": 6,
   "id": "bb65ece2-48d2-4209-bec9-7625bbfe0e5f",
   "metadata": {},
   "outputs": [
    {
     "name": "stdout",
     "output_type": "stream",
     "text": [
      "<__main__.Person object at 0x0000021DF8053ED0>\n"
     ]
    }
   ],
   "source": [
    "p2=Person()\n",
    "print(p2)"
   ]
  },
  {
   "cell_type": "code",
   "execution_count": 7,
   "id": "c0b1ab1d-eaf2-4910-8b4d-5a441c9232aa",
   "metadata": {},
   "outputs": [
    {
     "data": {
      "text/plain": [
       "'Puja'"
      ]
     },
     "execution_count": 7,
     "metadata": {},
     "output_type": "execute_result"
    }
   ],
   "source": [
    "p1.name "
   ]
  },
  {
   "cell_type": "code",
   "execution_count": 8,
   "id": "2e28af75-7646-473f-bc29-8a8ab09a1f43",
   "metadata": {},
   "outputs": [
    {
     "data": {
      "text/plain": [
       "'Puja'"
      ]
     },
     "execution_count": 8,
     "metadata": {},
     "output_type": "execute_result"
    }
   ],
   "source": [
    "p2.name"
   ]
  },
  {
   "cell_type": "code",
   "execution_count": 23,
   "id": "5ceb79d1-e17c-4b8f-9a5f-df421ff91909",
   "metadata": {},
   "outputs": [],
   "source": [
    "class Person :\n",
    "    def __init__(self, name, age, address):# self hunaai parxh to make method/property\n",
    "        self.name=name\n",
    "        self.age=age\n",
    "        self.address=address\n",
    "        print(name, age,address)\n",
    "   \n",
    "# action /behaviour/characteristics/method \n",
    "    def eat(self): # self lekhera function method ma convert hunch\n",
    "        print(\"eating\")\n",
    "    def sleep(self):\n",
    "        print(\"sleeping...\")\n",
    "    def walk(self):\n",
    "        print(\"Walking...\")"
   ]
  },
  {
   "cell_type": "code",
   "execution_count": 24,
   "id": "320a3697-7a0a-41bb-92af-80193f6667ff",
   "metadata": {},
   "outputs": [
    {
     "name": "stdout",
     "output_type": "stream",
     "text": [
      "puja 22 ktm\n"
     ]
    }
   ],
   "source": [
    "p=Person(name=\"puja\",age=22,address=\"ktm\")"
   ]
  },
  {
   "cell_type": "code",
   "execution_count": 25,
   "id": "a599b467-5c37-4acc-9a23-52a900acf46b",
   "metadata": {},
   "outputs": [
    {
     "data": {
      "text/plain": [
       "'puja'"
      ]
     },
     "execution_count": 25,
     "metadata": {},
     "output_type": "execute_result"
    }
   ],
   "source": [
    "p.name"
   ]
  },
  {
   "cell_type": "markdown",
   "id": "7f6a4e90-7cac-4154-998a-9c29b6cd20ee",
   "metadata": {},
   "source": []
  },
  {
   "cell_type": "code",
   "execution_count": 27,
   "id": "b1f11fce-b63e-4af3-b64f-8a2a63befbc8",
   "metadata": {},
   "outputs": [
    {
     "name": "stdout",
     "output_type": "stream",
     "text": [
      "shyam 20 ktm\n"
     ]
    },
    {
     "data": {
      "text/plain": [
       "'shyam'"
      ]
     },
     "execution_count": 27,
     "metadata": {},
     "output_type": "execute_result"
    }
   ],
   "source": [
    "p2=Person('shyam',20,'ktm')\n",
    "p2.name"
   ]
  },
  {
   "cell_type": "code",
   "execution_count": 43,
   "id": "7150620e-13c8-43be-9de0-282f647f063e",
   "metadata": {},
   "outputs": [],
   "source": [
    "#student  name,age,addres, \n",
    "class Student():\n",
    "    def __init__(self, name, age, faculty, level) :\n",
    "        self.name=name\n",
    "        self.age=age\n",
    "        self.faculty=faculty\n",
    "        self.level=level\n",
    "    def doasw(self) :\n",
    "        print(\"Complete assignment\")\n",
    "    def project(self):\n",
    "        print(\"project completed\")\n",
    "    \n"
   ]
  },
  {
   "cell_type": "code",
   "execution_count": 45,
   "id": "20aa40dc-948d-49de-9e7f-5c17f29b6f69",
   "metadata": {},
   "outputs": [
    {
     "data": {
      "text/plain": [
       "22"
      ]
     },
     "execution_count": 45,
     "metadata": {},
     "output_type": "execute_result"
    }
   ],
   "source": [
    "p1=Student('puja', 22, 'BE comp' ,'bachelor')\n",
    "p1.age\n",
    "\n"
   ]
  },
  {
   "cell_type": "code",
   "execution_count": 46,
   "id": "a8fa3410-9981-4971-9c0e-435e36f51ada",
   "metadata": {},
   "outputs": [
    {
     "name": "stdout",
     "output_type": "stream",
     "text": [
      "Complete assignment\n"
     ]
    }
   ],
   "source": [
    "p1.doasw()"
   ]
  },
  {
   "cell_type": "code",
   "execution_count": 82,
   "id": "0da1a844-2feb-4eea-be95-6fd61093325e",
   "metadata": {},
   "outputs": [],
   "source": [
    "#student  name,age,addres, \n",
    "class Student():\n",
    "    def __init__(self, name, age, faculty, level) :\n",
    "        self.name=name\n",
    "        self.age=age\n",
    "        self.faculty=faculty\n",
    "        self.level=level\n",
    "        self.subject=[]\n",
    "    def doasw(self) :\n",
    "        print(\"Complete assignment\")\n",
    "    def project(self):\n",
    "        print(\"project completed\")\n",
    "    def add_subjects(self,subject_name):\n",
    "        if subject_name  not in self.subject:\n",
    "            self.subject.append(subject_name)\n"
   ]
  },
  {
   "cell_type": "code",
   "execution_count": 83,
   "id": "5d265d5e-70a0-4f7e-b9af-3fd410073c0c",
   "metadata": {},
   "outputs": [
    {
     "data": {
      "text/plain": [
       "22"
      ]
     },
     "execution_count": 83,
     "metadata": {},
     "output_type": "execute_result"
    }
   ],
   "source": [
    "p1=Student('puja', 22, 'BE comp' ,'bachelor')\n",
    "p1.age"
   ]
  },
  {
   "cell_type": "code",
   "execution_count": 84,
   "id": "a48caed7-acba-41fb-979c-8d866195bed4",
   "metadata": {},
   "outputs": [
    {
     "data": {
      "text/plain": [
       "[]"
      ]
     },
     "execution_count": 84,
     "metadata": {},
     "output_type": "execute_result"
    }
   ],
   "source": [
    "p1.subject\n"
   ]
  },
  {
   "cell_type": "code",
   "execution_count": 85,
   "id": "b29cb7f9-d906-4ba0-bbe9-31b61e5d16d0",
   "metadata": {},
   "outputs": [],
   "source": [
    "p1.add_subjects(\"python\")\n"
   ]
  },
  {
   "cell_type": "code",
   "execution_count": 86,
   "id": "6a97061a-b53d-43e6-9410-c046ccdafdcb",
   "metadata": {},
   "outputs": [
    {
     "data": {
      "text/plain": [
       "['python']"
      ]
     },
     "execution_count": 86,
     "metadata": {},
     "output_type": "execute_result"
    }
   ],
   "source": [
    "p1.subject"
   ]
  },
  {
   "cell_type": "code",
   "execution_count": 89,
   "id": "3fc5fd0f-0af1-494a-a278-7a7a0f55e08f",
   "metadata": {},
   "outputs": [],
   "source": [
    "p1.add_subjects(\"django\")"
   ]
  },
  {
   "cell_type": "code",
   "execution_count": 90,
   "id": "db8845a6-a6d4-4c62-a86d-374e3ee43fb0",
   "metadata": {},
   "outputs": [
    {
     "data": {
      "text/plain": [
       "['python', 'django']"
      ]
     },
     "execution_count": 90,
     "metadata": {},
     "output_type": "execute_result"
    }
   ],
   "source": [
    "p1.subject"
   ]
  },
  {
   "cell_type": "code",
   "execution_count": 141,
   "id": "281f7d0b-2d25-40ca-872a-58dd26c0dd61",
   "metadata": {},
   "outputs": [],
   "source": [
    "class Rectangle():\n",
    "    def __init__(self,length,breadth):\n",
    "        self.l=length\n",
    "        self.b=breadth\n",
    "    def calculate_area(self ):\n",
    "       return self.l *self.b\n",
    "    def calculate_perimeter(self ):\n",
    "        return 2*(self.l +self.b)"
   ]
  },
  {
   "cell_type": "code",
   "execution_count": 144,
   "id": "ab212e65-0589-4a0b-bb83-8420031536e7",
   "metadata": {},
   "outputs": [
    {
     "name": "stdout",
     "output_type": "stream",
     "text": [
      "12\n",
      "14\n"
     ]
    }
   ],
   "source": [
    "p=Rectangle(4,3)\n",
    "print(p.calculate_area())\n",
    "print(p.calculate_perimeter())"
   ]
  },
  {
   "cell_type": "code",
   "execution_count": null,
   "id": "173e4ae4-3e75-4ef2-b350-70a6aa891c06",
   "metadata": {},
   "outputs": [],
   "source": []
  },
  {
   "cell_type": "code",
   "execution_count": 133,
   "id": "299332d6-f4f5-4d70-a867-116bdf36cb8f",
   "metadata": {},
   "outputs": [
    {
     "name": "stdout",
     "output_type": "stream",
     "text": [
      "p is walking\n"
     ]
    }
   ],
   "source": [
    "class Person:\n",
    "    def __init__(self, name ,age, address):\n",
    "        self.name = name\n",
    "        self.age = age\n",
    "        self.address = address\n",
    "    \n",
    "    def eat(self):\n",
    "        print(f'{self.name} is eating')\n",
    "    \n",
    "    def sleep(self):\n",
    "        print(f'{self.name} is sleeping')\n",
    "    \n",
    "    def walk(self):\n",
    "        print(f'{self.name} is walking')\n",
    "        \n",
    "    def info(self):\n",
    "        print(f\"Name: {self.name}\")\n",
    "        print(f\"Age: {self.age}\")\n",
    "        print(f\"Address: {self.address}\")\n",
    "\n",
    "class Student(Person):\n",
    "    def __init__(self, name, age, address, college, faculty, roll_no):\n",
    "        self.name = name\n",
    "        self.age = age        \n",
    "        self.address = address        \n",
    "        self.college = college\n",
    "        self.faculty = faculty        \n",
    "        self.roll_no = roll_no\n",
    "        self.subjects = []\n",
    "        \n",
    "    def learn(self):\n",
    "        print(f\"Student is learning: {self.subjects}\")\n",
    "\n",
    "    def add_subject(self, name):\n",
    "        if name not in self.subjects:\n",
    "            self.subjects.append(name)\n",
    "\n",
    "        \n",
    "    def info(self):\n",
    "        print(f\"Name: {self.name}\")\n",
    "        print(f\"Age: {self.age}\")\n",
    "        print(f\"Address: {self.address}\")\n",
    "        print(f\"College: {self.college}\")\n",
    "        print(f\"Faculty: {self.faculty}\")\n",
    "        print(f\"Roll no: {self.roll_no}\")\n",
    "        print(f\"Subjects: {self.subjects}\")\n",
    "s=Student('p',22,'l','c','b',345)\n",
    "s.walk()"
   ]
  },
  {
   "cell_type": "code",
   "execution_count": 131,
   "id": "378d4fcf-2dcf-4b25-93b6-2dadbbd2de51",
   "metadata": {},
   "outputs": [],
   "source": [
    "#inheritance"
   ]
  },
  {
   "cell_type": "code",
   "execution_count": 127,
   "id": "27a5f570-d22f-4017-8ab4-6420bb89511e",
   "metadata": {},
   "outputs": [],
   "source": [
    "class Parent:\n",
    "    def hello(self):\n",
    "        print(\"HEllo world\")\n",
    "class Child(Parent) :\n",
    "    pass\n",
    "    "
   ]
  },
  {
   "cell_type": "code",
   "execution_count": 129,
   "id": "835ddc25-7f6d-42c2-a528-b92e3dea5930",
   "metadata": {},
   "outputs": [
    {
     "name": "stdout",
     "output_type": "stream",
     "text": [
      "HEllo world\n"
     ]
    }
   ],
   "source": [
    "s=Child()\n",
    "s.hello()\n",
    "\n"
   ]
  },
  {
   "cell_type": "code",
   "execution_count": 145,
   "id": "5cfc8c13-679d-4b72-b182-72dfc5acb1ce",
   "metadata": {},
   "outputs": [],
   "source": [
    "class Person:\n",
    "    def __init__(self, name ,age, address):\n",
    "        self.name = name\n",
    "        self.age = age\n",
    "        self.address = address\n",
    "    \n",
    "    def eat(self):\n",
    "        print(f'{self.name} is eating')\n",
    "    \n",
    "    def sleep(self):\n",
    "        print(f'{self.name} is sleeping')\n",
    "    \n",
    "    def walk(self):\n",
    "        print(f'{self.name} is walking')\n",
    "        \n",
    "    def info(self):\n",
    "        print(f\"Name: {self.name}\")\n",
    "        print(f\"Age: {self.age}\")\n",
    "        print(f\"Address: {self.address}\")\n",
    "\n",
    "class Student(Person): #single inheritance (auta mtr class xh)\n",
    "    def __init__(self, name, age, address, college, faculty, roll_no):\n",
    "        super().__init__(name,age,address)     # calling person's init  \n",
    "        self.college = college\n",
    "        self.faculty = faculty        \n",
    "        self.roll_no = roll_no\n",
    "        self.subjects = []\n",
    "        \n",
    "    def learn(self):\n",
    "        print(f\"Student is learning: {self.subjects}\")\n",
    "\n",
    "    def add_subject(self, name):\n",
    "        if name not in self.subjects:\n",
    "            self.subjects.append(name)\n",
    "\n",
    "        \n",
    "    def info(self):\n",
    "        super().info()# calling Person's info  method\n",
    "        print(f\"College: {self.college}\")\n",
    "        print(f\"Faculty: {self.faculty}\")\n",
    "        print(f\"Roll no: {self.roll_no}\")\n",
    "        print(f\"Subjects: {self.subjects}\")\n"
   ]
  },
  {
   "cell_type": "code",
   "execution_count": 146,
   "id": "050d844c-7fc5-47da-a276-23a598bc531a",
   "metadata": {},
   "outputs": [],
   "source": [
    "s=Student('p',22,'l','c','b',345)"
   ]
  },
  {
   "cell_type": "code",
   "execution_count": 147,
   "id": "1e4af613-5835-41a6-bf58-b93fc6e7eb95",
   "metadata": {},
   "outputs": [
    {
     "name": "stdout",
     "output_type": "stream",
     "text": [
      "Name: p\n",
      "Age: 22\n",
      "Address: l\n",
      "College: c\n",
      "Faculty: b\n",
      "Roll no: 345\n",
      "Subjects: []\n"
     ]
    }
   ],
   "source": [
    "s.info()\n"
   ]
  },
  {
   "cell_type": "code",
   "execution_count": 148,
   "id": "07078b08-980c-458e-82ba-8a9effc1d18f",
   "metadata": {},
   "outputs": [],
   "source": [
    "class Father :\n",
    "    pass\n",
    "class Mother :\n",
    "    pass\n",
    "class Child(Father,Mother): #multiple iheritance\n",
    "    pass"
   ]
  },
  {
   "cell_type": "code",
   "execution_count": 157,
   "id": "8dde097f-f855-4383-83db-49d5d9434f6a",
   "metadata": {},
   "outputs": [
    {
     "name": "stdout",
     "output_type": "stream",
     "text": [
      "inside Person class\n",
      "Name:  Ramesh\n",
      "age:  22\n",
      "inside Company class\n",
      "Name:  statup\n",
      "Location:  ktm\n",
      "inside Employee class\n",
      "Salary:  600000\n",
      "skill:  python\n"
     ]
    }
   ],
   "source": [
    "# Parent class 1\n",
    "class Person :\n",
    "    def person_info(self,name,age):\n",
    "        print(\"inside Person class\")\n",
    "        print(\"Name: \",name )\n",
    "        print(\"age: \", age)\n",
    "# Parent class 2\n",
    "class Company :\n",
    "    def company_info(self,company_name, location):\n",
    "        print(\"inside Company class\")\n",
    "        print(\"Name: \",company_name )\n",
    "        print(\"Location: \", location)\n",
    "# Child class \n",
    "class Employee(Person,Company):\n",
    "    def employee_info(self,salary,skill):\n",
    "        print(\"inside Employee class\")\n",
    "        print(\"Salary: \",salary )\n",
    "        print(\"skill: \", skill)\n",
    "# creating employee objects\n",
    "e=Employee()\n",
    "# access data\n",
    "e.person_info( 'Ramesh' ,22)\n",
    "e.company_info('statup', 'ktm')\n",
    "e.employee_info(600000,'python')\n"
   ]
  },
  {
   "cell_type": "code",
   "execution_count": null,
   "id": "7735ea19-2d02-405d-a118-0e2a1991cbe5",
   "metadata": {},
   "outputs": [],
   "source": []
  },
  {
   "cell_type": "code",
   "execution_count": null,
   "id": "0c4e4c4e-b5a5-499b-a0bb-4a945d157875",
   "metadata": {},
   "outputs": [],
   "source": []
  }
 ],
 "metadata": {
  "kernelspec": {
   "display_name": "Python 3 (ipykernel)",
   "language": "python",
   "name": "python3"
  },
  "language_info": {
   "codemirror_mode": {
    "name": "ipython",
    "version": 3
   },
   "file_extension": ".py",
   "mimetype": "text/x-python",
   "name": "python",
   "nbconvert_exporter": "python",
   "pygments_lexer": "ipython3",
   "version": "3.13.0"
  }
 },
 "nbformat": 4,
 "nbformat_minor": 5
}
