{
 "cells": [
  {
   "cell_type": "code",
   "execution_count": 1,
   "id": "c06a043d-8de5-4d02-9292-b86235d7593f",
   "metadata": {},
   "outputs": [
    {
     "name": "stdout",
     "output_type": "stream",
     "text": [
      "All books have been scrapped and saved to the database.\n"
     ]
    }
   ],
   "source": [
    "import requests \n",
    "from bs4 import BeautifulSoup \n",
    "import sqlite3\n",
    "\n",
    "URL=\"http://books.toscrape.com/\"\n",
    "def create_table():\n",
    "  con=sqlite3.connect(\"books.sqlite3\")\n",
    "  cur=con.cursor()\n",
    "  cur.execute(\n",
    "      \"\"\"\n",
    "    CREATE TABLE  if  not exists books(\n",
    "      id integer primary key autoincrement,\n",
    "      title text,\n",
    "      currency text,\n",
    "      price real);\n",
    "      \"\"\"\n",
    "    )\n",
    "  con.commit()\n",
    "  con.close()\n",
    "def insert_book(title,currency,price):\n",
    "  conn=sqlite3.connect(\"books.sqlite3\")\n",
    "  cursor=conn.cursor()\n",
    "  cursor.execute(\"INSERT INTO books(title,currency,price) VALUES (?,?,?)\",\n",
    "    (title,currency,price),\n",
    "    )\n",
    "  conn.commit()\n",
    "  conn.close()\n",
    "\n",
    "\n",
    "def scrape_books(url) :\n",
    "  response=requests.get(url)\n",
    "  #print(response) # same way to get requests\n",
    "  # another waay to get requests\n",
    "  #print(response.status_code)\n",
    "  if response.status_code != 200 :\n",
    "    return \n",
    "    # set encoding explicily to handle special characters correctly\n",
    "  response.encoding=response.apparent_encoding\n",
    "  #print(response.text)\n",
    "  soup = BeautifulSoup(response.text,\"html.parser\")\n",
    "  book_elements=soup.find_all(\"article\",class_=\"product_pod\")\n",
    "  #print(book_elements)\n",
    "  for book in book_elements :\n",
    "    title=book.h3.a['title']\n",
    "    price_text=book.find(\"p\", class_=\"price_color\").text\n",
    "    currency=price_text[0]\n",
    "    price=price_text[1:]\n",
    "   # print(title,currency,price)\n",
    "    insert_book(title,currency,price)\n",
    "  \n",
    "\n",
    "  print(\"All books have been scrapped and saved to the database.\")\n",
    "\n",
    "\n",
    "create_table() \n",
    "\n",
    "scrape_books(URL)\n",
    "\n"
   ]
  },
  {
   "cell_type": "code",
   "execution_count": null,
   "id": "ce04ffc5-8908-4730-9cd8-56a3e77caae1",
   "metadata": {},
   "outputs": [],
   "source": []
  }
 ],
 "metadata": {
  "kernelspec": {
   "display_name": "Python 3 (ipykernel)",
   "language": "python",
   "name": "python3"
  },
  "language_info": {
   "codemirror_mode": {
    "name": "ipython",
    "version": 3
   },
   "file_extension": ".py",
   "mimetype": "text/x-python",
   "name": "python",
   "nbconvert_exporter": "python",
   "pygments_lexer": "ipython3",
   "version": "3.13.0"
  }
 },
 "nbformat": 4,
 "nbformat_minor": 5
}
