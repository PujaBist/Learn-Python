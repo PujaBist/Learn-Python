{
 "cells": [
  {
   "cell_type": "code",
   "execution_count": null,
   "id": "b1141462-aa97-43e9-afb5-c5a63f9a238e",
   "metadata": {},
   "outputs": [],
   "source": []
  },
  {
   "cell_type": "code",
   "execution_count": 5,
   "id": "3e2e8ca5-89db-4214-a68d-da12636655f7",
   "metadata": {},
   "outputs": [
    {
     "name": "stdout",
     "output_type": "stream",
     "text": [
      ".......Heartly Welcome To Our Show!..\n",
      "\n",
      "📜 RULES OF THE GAME:\n",
      "\n",
      "1️⃣ You will be asked 10 multiple-choice questions.\n",
      "2️⃣ Each correct answer wins you more money.\n",
      "3️⃣ Choose your answer by typing A, B, C, or D.\n",
      "4️⃣ One wrong answer or invalid input ends the game immediately.\n",
      "5️⃣ You can quit anytime by typing 'Q'.\n",
      "6️⃣ Type '5050' to use the 50:50 lifeline (once only).\n",
      "7️⃣ No negative marking. Good luck!\n",
      "\n"
     ]
    },
    {
     "name": "stdin",
     "output_type": "stream",
     "text": [
      "Enter your name:  Puja Bist\n"
     ]
    },
    {
     "name": "stdout",
     "output_type": "stream",
     "text": [
      "\n",
      "Welcome, Puja Bist! Let’s begin \n",
      "\n",
      "Question 1: Where is the capital of Nepal?\n",
      "  A: Pokhara\n",
      "  B: Kathmandu\n",
      "  C: Lalitpur\n",
      "  D: Bhaktapur\n",
      "Type '5050' to use the 50:50 lifeline.\n"
     ]
    },
    {
     "name": "stdin",
     "output_type": "stream",
     "text": [
      "Your answer (A/B/C/D, 5050 for lifeline, or Q to quit):  b\n"
     ]
    },
    {
     "name": "stdout",
     "output_type": "stream",
     "text": [
      " Correct! You've won ₹1000\n",
      "\n",
      "Question 2: Which is the smallest prime number?\n",
      "  A: 0\n",
      "  B: 1\n",
      "  C: 2\n",
      "  D: 3\n",
      "Type '5050' to use the 50:50 lifeline.\n"
     ]
    },
    {
     "name": "stdin",
     "output_type": "stream",
     "text": [
      "Your answer (A/B/C/D, 5050 for lifeline, or Q to quit):  5050\n"
     ]
    },
    {
     "name": "stdout",
     "output_type": "stream",
     "text": [
      "\n",
      " 50:50 Lifeline Activated! Remaining options:\n",
      "  C: 2\n",
      "  D: 3\n"
     ]
    },
    {
     "name": "stdin",
     "output_type": "stream",
     "text": [
      "Now, your answer (A/B/C/D or Q to quit):  2\n"
     ]
    },
    {
     "name": "stdout",
     "output_type": "stream",
     "text": [
      " Invalid input. Game Over!\n",
      "You leave with ₹1000\n"
     ]
    }
   ],
   "source": [
    "import random\n",
    "\n",
    "print(\".......Heartly Welcome To Our Show!..\") \n",
    "print(\"\\n📜 RULES OF THE GAME:\\n\")\n",
    "print(\"1️⃣ You will be asked 10 multiple-choice questions.\")\n",
    "print(\"2️⃣ Each correct answer wins you more money.\")\n",
    "print(\"3️⃣ Choose your answer by typing A, B, C, or D.\")\n",
    "print(\"4️⃣ One wrong answer or invalid input ends the game immediately.\")\n",
    "print(\"5️⃣ You can quit anytime by typing 'Q'.\")\n",
    "print(\"6️⃣ Type '5050' to use the 50:50 lifeline (once only).\")\n",
    "print(\"7️⃣ No negative marking. Good luck!\\n\")\n",
    "\n",
    "player_name = input(\"Enter your name: \").title()\n",
    "print(f\"\\nWelcome, {player_name}! Let’s begin \")\n",
    "\n",
    "prize_money = [1000, 2000, 3000, 5000, 10000, 20000, 40000, 80000, 160000, 320000]\n",
    "winnings = 0\n",
    "lifeline_5050_used = False\n",
    "\n",
    "questions = [\n",
    "    {\n",
    "        \"question\": \"Where is the capital of Nepal?\",\n",
    "        \"options\": {\"A\": \"Pokhara\", \"B\": \"Kathmandu\", \"C\": \"Lalitpur\", \"D\": \"Bhaktapur\"},\n",
    "        \"answer\": \"B\"\n",
    "    },\n",
    "    {\n",
    "        \"question\": \"Which is the smallest prime number?\",\n",
    "        \"options\": {\"A\": \"0\", \"B\": \"1\", \"C\": \"2\", \"D\": \"3\"},\n",
    "        \"answer\": \"C\"\n",
    "    },\n",
    "     {\n",
    "        \"question\": \"Who wrote the Ramayana?\",\n",
    "        \"options\": {\"A\": \"Tulsidas\", \"B\": \"Ved Vyas\", \"C\": \"Valmiki\", \"D\": \"Kalidas\"},\n",
    "        \"answer\": \"C\"\n",
    "    },\n",
    "    {\n",
    "        \"question\": \"Which gas do plants absorb from the atmosphere?\",\n",
    "        \"options\": {\"A\": \"Oxygen\", \"B\": \"Hydrogen\", \"C\": \"Carbon Dioxide\", \"D\": \"Nitrogen\"},\n",
    "        \"answer\": \"C\"\n",
    "    },\n",
    "    {\n",
    "        \"question\": \"Which is the largest mammal?\",\n",
    "        \"options\": {\"A\": \"Elephant\", \"B\": \"Blue Whale\", \"C\": \"Giraffe\", \"D\": \"Hippopotamus\"},\n",
    "        \"answer\": \"B\"\n",
    "    },\n",
    "    {\n",
    "        \"question\": \"In which year did India gain independence?\",\n",
    "        \"options\": {\"A\": \"1942\", \"B\": \"1945\", \"C\": \"1947\", \"D\": \"1950\"},\n",
    "        \"answer\": \"C\"\n",
    "    },\n",
    "    {\n",
    "        \"question\": \"What does CPU stand for?\",\n",
    "        \"options\": {\"A\": \"Central Processing Unit\", \"B\": \"Control Power Unit\", \"C\": \"Central Performance Utility\", \"D\": \"Computer Processing Unit\"},\n",
    "        \"answer\": \"A\"\n",
    "    },\n",
    "    {\n",
    "        \"question\": \"Who painted the Mona Lisa?\",\n",
    "        \"options\": {\"A\": \"Leonardo da Vinci\", \"B\": \"Vincent van Gogh\", \"C\": \"Pablo Picasso\", \"D\": \"Michelangelo\"},\n",
    "        \"answer\": \"A\"\n",
    "    },\n",
    "    {\n",
    "        \"question\": \"What is the capital of Australia?\",\n",
    "        \"options\": {\"A\": \"Sydney\", \"B\": \"Melbourne\", \"C\": \"Canberra\", \"D\": \"Brisbane\"},\n",
    "        \"answer\": \"C\"\n",
    "    },\n",
    "    {\n",
    "        \"question\": \"Which is the smallest prime number?\",\n",
    "        \"options\": {\"A\": \"0\", \"B\": \"1\", \"C\": \"2\", \"D\": \"3\"},\n",
    "        \"answer\": \"C\"\n",
    "    }\n",
    "]\n",
    "\n",
    "for i, q in enumerate(questions):\n",
    "    print(f\"\\nQuestion {i+1}: {q['question']}\")\n",
    "    for key, value in q['options'].items():\n",
    "        print(f\"  {key}: {value}\")\n",
    "\n",
    "    if not lifeline_5050_used:\n",
    "        print(\"Type '5050' to use the 50:50 lifeline.\")\n",
    "\n",
    "    user_input = input(\"Your answer (A/B/C/D, 5050 for lifeline, or Q to quit): \").strip().upper()\n",
    "\n",
    "    if user_input == 'Q':\n",
    "        print(f\"\\nYou've chosen to quit. Total winnings: ₹{winnings}\")\n",
    "        break\n",
    "\n",
    "    elif user_input == '5050' and not lifeline_5050_used:\n",
    "        lifeline_5050_used = True\n",
    "        correct_option = q['answer']\n",
    "        incorrect_options = [key for key in q['options'] if key != correct_option]\n",
    "        removed = random.sample(incorrect_options, 2)\n",
    "        print(\"\\n 50:50 Lifeline Activated! Remaining options:\")\n",
    "        for key in q['options']:\n",
    "            if key == correct_option or key not in removed:\n",
    "                print(f\"  {key}: {q['options'][key]}\")\n",
    "        user_input = input(\"Now, your answer (A/B/C/D or Q to quit): \").strip().upper()\n",
    "\n",
    "        if user_input == 'Q':\n",
    "            print(f\"\\nYou've chosen to quit. Total winnings: ₹{winnings}\")\n",
    "            break\n",
    "        elif user_input == q['answer']:\n",
    "            winnings += prize_money[i]\n",
    "            print(f\"Correct! You've won ₹{prize_money[i]}\")\n",
    "            continue\n",
    "        elif user_input in q['options']:\n",
    "            print(f\" Wrong answer! Correct answer was '{q['answer']}'.\")\n",
    "            print(f\"Game Over! You leave with ₹{winnings}\")\n",
    "            break\n",
    "        else:\n",
    "            print(\" Invalid input. Game Over!\")\n",
    "            print(f\"You leave with ₹{winnings}\")\n",
    "            break\n",
    "\n",
    "    elif user_input == '5050' and lifeline_5050_used:\n",
    "        print(\" You've already used the 50:50 lifeline. No second chance.\")\n",
    "        print(f\"Game Over! You leave with ₹{winnings}\")\n",
    "        break\n",
    "\n",
    "    elif user_input == q['answer']:\n",
    "        winnings += prize_money[i]\n",
    "        print(f\" Correct! You've won ₹{prize_money[i]}\")\n",
    "\n",
    "    elif user_input in q['options']:\n",
    "        print(f\"Wrong answer! Correct answer was '{q['answer']}'.\")\n",
    "        print(f\"Game Over! You leave with ₹{winnings}\")\n",
    "        break\n",
    "\n",
    "    else:\n",
    "        print(\"Invalid input. Game Over!\")\n",
    "        print(f\"You leave with ₹{winnings}\")\n",
    "        break\n",
    "\n",
    "else:\n",
    "    # Only runs if the loop wasn't broken (i.e., all questions answered correctly)\n",
    "    print(f\"\\n Congratulations {player_name}! You answered all questions and won ₹{winnings}\")\n"
   ]
  },
  {
   "cell_type": "code",
   "execution_count": null,
   "id": "031f741b-b1fb-4ba4-bc40-08fe5d5b3c4b",
   "metadata": {},
   "outputs": [],
   "source": []
  }
 ],
 "metadata": {
  "kernelspec": {
   "display_name": "Python 3 (ipykernel)",
   "language": "python",
   "name": "python3"
  },
  "language_info": {
   "codemirror_mode": {
    "name": "ipython",
    "version": 3
   },
   "file_extension": ".py",
   "mimetype": "text/x-python",
   "name": "python",
   "nbconvert_exporter": "python",
   "pygments_lexer": "ipython3",
   "version": "3.13.0"
  }
 },
 "nbformat": 4,
 "nbformat_minor": 5
}
