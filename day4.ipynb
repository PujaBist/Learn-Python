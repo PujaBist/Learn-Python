{
 "cells": [
  {
   "cell_type": "code",
   "execution_count": 1,
   "id": "699ad472-8b01-4a09-b8d1-c7a05d103ee6",
   "metadata": {},
   "outputs": [
    {
     "name": "stdout",
     "output_type": "stream",
     "text": [
      "ram\n",
      "shyam\n",
      "gita\n",
      "sita\n"
     ]
    }
   ],
   "source": [
    "names=['ram', 'shyam', 'gita', 'sita']\n",
    "i=0 # intializer\n",
    "while i < len(names) : #condition \n",
    "     print(names[i])\n",
    "     i+=1 #incrementer/decrementer"
   ]
  },
  {
   "cell_type": "code",
   "execution_count": null,
   "id": "e1fe0549-3f0f-43ed-9de4-db81af58c3ff",
   "metadata": {},
   "outputs": [],
   "source": []
  },
  {
   "cell_type": "code",
   "execution_count": 2,
   "id": "fe3cf2cd-ca40-46c5-b15b-3d139e4011d8",
   "metadata": {},
   "outputs": [
    {
     "name": "stdout",
     "output_type": "stream",
     "text": [
      "10\n"
     ]
    }
   ],
   "source": [
    "numbers=[1,2,3,4] #using for loop\n",
    "sum=0\n",
    "for i in numbers :\n",
    "    sum+=i\n",
    "print(sum)"
   ]
  },
  {
   "cell_type": "code",
   "execution_count": 3,
   "id": "0e5e15dc-58ec-49d5-b42f-ccf339a040df",
   "metadata": {},
   "outputs": [
    {
     "name": "stdout",
     "output_type": "stream",
     "text": [
      "10\n"
     ]
    }
   ],
   "source": [
    "#while  loop \n",
    "numbers=[1,2,3,4]\n",
    "i=0\n",
    "sum=0\n",
    "while i< len(numbers): # 4<4\n",
    "    sum+=numbers[i] #0+1+2+3+4\n",
    "    i +=1\n",
    "print(sum)"
   ]
  },
  {
   "cell_type": "code",
   "execution_count": 4,
   "id": "325051d1-e7b2-407b-9bb1-6beb3b666d34",
   "metadata": {},
   "outputs": [],
   "source": [
    "#for \n",
    "# => finite iteratiion\n",
    "# => if you know how many times you are iterating\n",
    "\n",
    "#while\n",
    "# => infinite iteration\n",
    "# => if you dont know how many times you are iterating (kati patak loop chalan\n"
   ]
  },
  {
   "cell_type": "raw",
   "id": "2cf648b1-8985-4d4d-975f-c9fb4ed7ebe9",
   "metadata": {},
   "source": [
    "# generate infinite numbers ,strating from 1\n",
    "i=1\n",
    "while True:\n",
    "    print(i)\n",
    "    i+=1\n",
    "# if we want"
   ]
  },
  {
   "cell_type": "code",
   "execution_count": 2,
   "id": "4238461d-83d9-447c-a453-6f0da8c03c5c",
   "metadata": {},
   "outputs": [
    {
     "name": "stdin",
     "output_type": "stream",
     "text": [
      "enter the age 10\n",
      "enter the age 23\n"
     ]
    },
    {
     "name": "stdout",
     "output_type": "stream",
     "text": [
      "welcome\n"
     ]
    }
   ],
   "source": [
    "age=int(input(\"enter the age\"))\n",
    "while age < 18 :\n",
    "        age=int(input(\"enter the age\"))\n",
    "print(\"welcome\")\n",
    "\n",
    "      "
   ]
  },
  {
   "cell_type": "code",
   "execution_count": 2,
   "id": "f2fc04e9-a977-4568-ac47-acc4701a76ab",
   "metadata": {},
   "outputs": [],
   "source": [
    " def  addition(): # function banako ho => function defintion\n",
    "     x=1\n",
    "     y=2\n",
    "     sum=x+y\n",
    "     print(sum)"
   ]
  },
  {
   "cell_type": "code",
   "execution_count": 3,
   "id": "975436fa-18f2-401f-ba71-8afd08b94cf6",
   "metadata": {},
   "outputs": [
    {
     "name": "stdout",
     "output_type": "stream",
     "text": [
      "3\n"
     ]
    }
   ],
   "source": [
    "addition() # function call /run/execute\n"
   ]
  },
  {
   "cell_type": "code",
   "execution_count": 4,
   "id": "416fd789-813a-4680-9a18-7ec6a2e2a8e7",
   "metadata": {},
   "outputs": [
    {
     "name": "stdout",
     "output_type": "stream",
     "text": [
      "3\n"
     ]
    }
   ],
   "source": [
    "addition() # function call# function call\n"
   ]
  },
  {
   "cell_type": "code",
   "execution_count": 5,
   "id": "a7f5df55-2b2c-441e-b990-db502ccefb67",
   "metadata": {},
   "outputs": [],
   "source": [
    " def  addition( x,y): # function banako ho => function defintion\n",
    "     # x and y are called argument\n",
    "     sum=x+y\n",
    "     print(sum)"
   ]
  },
  {
   "cell_type": "code",
   "execution_count": 6,
   "id": "32d8aabe-5aaf-4436-9250-febdcf1b84ef",
   "metadata": {},
   "outputs": [
    {
     "ename": "TypeError",
     "evalue": "addition() missing 2 required positional arguments: 'x' and 'y'",
     "output_type": "error",
     "traceback": [
      "\u001b[31m--------------------------------------------------------------------------\u001b[39m",
      "\u001b[31mTypeError\u001b[39m                                Traceback (most recent call last)",
      "\u001b[36mCell\u001b[39m\u001b[36m \u001b[39m\u001b[32mIn[6]\u001b[39m\u001b[32m, line 1\u001b[39m\n\u001b[32m----> \u001b[39m\u001b[32m1\u001b[39m \u001b[43maddition\u001b[49m\u001b[43m(\u001b[49m\u001b[43m)\u001b[49m\n",
      "\u001b[31mTypeError\u001b[39m: addition() missing 2 required positional arguments: 'x' and 'y'"
     ]
    }
   ],
   "source": [
    "addition()\n"
   ]
  },
  {
   "cell_type": "code",
   "execution_count": 8,
   "id": "17daba14-21fe-4e18-b155-b4c1ce1eae16",
   "metadata": {},
   "outputs": [
    {
     "name": "stdout",
     "output_type": "stream",
     "text": [
      "6\n"
     ]
    }
   ],
   "source": [
    "addition(x=2,y=4)# function call"
   ]
  },
  {
   "cell_type": "code",
   "execution_count": 10,
   "id": "68d27756-c130-466a-89f4-1b19e26cb650",
   "metadata": {},
   "outputs": [
    {
     "name": "stdout",
     "output_type": "stream",
     "text": [
      "6\n"
     ]
    }
   ],
   "source": [
    " addition(2,4) # function call\n",
    "    "
   ]
  },
  {
   "cell_type": "code",
   "execution_count": 11,
   "id": "2d6188c8-31f9-45a7-a304-1f237c9e6261",
   "metadata": {},
   "outputs": [
    {
     "name": "stdout",
     "output_type": "stream",
     "text": [
      "96\n"
     ]
    }
   ],
   "source": [
    " addition(y=2,x=94) # function call"
   ]
  },
  {
   "cell_type": "code",
   "execution_count": 12,
   "id": "894a4057-d49d-4861-8e85-13aedf12370c",
   "metadata": {},
   "outputs": [
    {
     "ename": "SyntaxError",
     "evalue": "positional argument follows keyword argument (1448314475.py, line 1)",
     "output_type": "error",
     "traceback": [
      "  \u001b[36mCell\u001b[39m\u001b[36m \u001b[39m\u001b[32mIn[12]\u001b[39m\u001b[32m, line 1\u001b[39m\n\u001b[31m    \u001b[39m\u001b[31maddition(x=2,4)\u001b[39m\n                  ^\n\u001b[31mSyntaxError\u001b[39m\u001b[31m:\u001b[39m positional argument follows keyword argument\n"
     ]
    }
   ],
   "source": [
    "addition(x=2,4) # x=2 => keyword argument , 4=> positonal argument\n",
    "# agdi keyword argument vayo vaney chai paxadi postional argument rakhna mildaena"
   ]
  },
  {
   "cell_type": "code",
   "execution_count": 13,
   "id": "3aefe20f-7566-4689-9ecb-119bb73c7a17",
   "metadata": {},
   "outputs": [
    {
     "name": "stdout",
     "output_type": "stream",
     "text": [
      "11\n"
     ]
    }
   ],
   "source": [
    "addition(2,y=9)"
   ]
  },
  {
   "cell_type": "code",
   "execution_count": 27,
   "id": "b7f49c7c-f072-4c89-89af-a0b25861f585",
   "metadata": {},
   "outputs": [],
   "source": [
    " def  addition(x,y=0): # function banako ho => function defintion\n",
    "     sum=x+y\n",
    "     return sum\n",
    "     "
   ]
  },
  {
   "cell_type": "code",
   "execution_count": 28,
   "id": "327ded21-86cd-4389-ba36-2720c75b9111",
   "metadata": {},
   "outputs": [],
   "source": [
    "s=addition(4,5)"
   ]
  },
  {
   "cell_type": "code",
   "execution_count": 29,
   "id": "98f25eaf-c3ba-4784-8603-2cfcaa194d32",
   "metadata": {},
   "outputs": [
    {
     "name": "stdout",
     "output_type": "stream",
     "text": [
      "81\n"
     ]
    }
   ],
   "source": [
    "print(s ** 2)"
   ]
  },
  {
   "cell_type": "code",
   "execution_count": 31,
   "id": "b3a84a33-1df9-48a8-b328-dcf8fb951cd7",
   "metadata": {},
   "outputs": [
    {
     "name": "stdout",
     "output_type": "stream",
     "text": [
      "2\n"
     ]
    }
   ],
   "source": [
    "s=addition(2) # y value na dida by default mathi defined gareko vlaue linch\n",
    "print(s)"
   ]
  },
  {
   "cell_type": "code",
   "execution_count": 38,
   "id": "9b3f9498-f229-4819-a9f6-55987bcc3b1b",
   "metadata": {},
   "outputs": [],
   "source": [
    "def calculator(x,y) :\n",
    "    add=x+y\n",
    "    sub=x-y\n",
    "    mul=x*y\n",
    "    div=x/y\n",
    "    return add # exit from here\n",
    "    return sub\n",
    "    return mul\n",
    "    return div"
   ]
  },
  {
   "cell_type": "code",
   "execution_count": 39,
   "id": "789eedc5-fbfd-432c-a957-0c092d19ec47",
   "metadata": {},
   "outputs": [
    {
     "name": "stdout",
     "output_type": "stream",
     "text": [
      "9\n"
     ]
    }
   ],
   "source": [
    "result = calculator(4,5)\n",
    "print(result)"
   ]
  },
  {
   "cell_type": "code",
   "execution_count": 42,
   "id": "75cdd4c5-b7be-4286-ba24-3a5e9f62fc81",
   "metadata": {},
   "outputs": [],
   "source": [
    "def calculator(x,y) :\n",
    "    add=x+y\n",
    "    sub=x-y\n",
    "    mul=x*y\n",
    "    div=x/y\n",
    "    return add,sub,mul,div # sabai print vaye coma garer lekhney"
   ]
  },
  {
   "cell_type": "code",
   "execution_count": 43,
   "id": "64cc2ce4-2a50-4965-b534-29c3a25fc0af",
   "metadata": {},
   "outputs": [
    {
     "name": "stdout",
     "output_type": "stream",
     "text": [
      "(10, 0, 25, 1.0)\n"
     ]
    }
   ],
   "source": [
    "result = calculator(5,5)\n",
    "print(result)"
   ]
  },
  {
   "cell_type": "code",
   "execution_count": 59,
   "id": "e920b1a0-8e47-4890-bf15-fe74b7b90fd7",
   "metadata": {},
   "outputs": [],
   "source": [
    "def addition(*args) : # jatti ota argument \n",
    "    print(args,type(args))\n"
   ]
  },
  {
   "cell_type": "code",
   "execution_count": 60,
   "id": "aa9c9550-3fd5-4b95-ad23-7c47e71e18bc",
   "metadata": {},
   "outputs": [
    {
     "name": "stdout",
     "output_type": "stream",
     "text": [
      "(2, 4, 4) <class 'tuple'>\n",
      "None\n"
     ]
    }
   ],
   "source": [
    "s=()\n",
    "s=addition(2,4,4)\n",
    "print(s)"
   ]
  },
  {
   "cell_type": "code",
   "execution_count": 3,
   "id": "4dca01a6-1662-4843-b438-77c8130a7abf",
   "metadata": {},
   "outputs": [],
   "source": [
    "# loop layera sum garney\n",
    "def addition(*args) :# any number of positional arguments \n",
    "#jati ota pani variables haru define garna milch if we use *args\n",
    "    sum=0\n",
    "    for i in args :\n",
    "        sum +=i\n",
    "    return sum\n",
    "    \n",
    "    "
   ]
  },
  {
   "cell_type": "code",
   "execution_count": 5,
   "id": "a41e25b0-82f8-4c51-8c63-145d00296eb2",
   "metadata": {},
   "outputs": [
    {
     "data": {
      "text/plain": [
       "55"
      ]
     },
     "execution_count": 5,
     "metadata": {},
     "output_type": "execute_result"
    }
   ],
   "source": [
    "addition(1,2,3,4,5,6,7,8,9,10)"
   ]
  },
  {
   "cell_type": "code",
   "execution_count": 7,
   "id": "a109e608-c598-4c72-b93a-99eb4ee2063d",
   "metadata": {},
   "outputs": [
    {
     "ename": "TypeError",
     "evalue": "addition() got an unexpected keyword argument 'x'",
     "output_type": "error",
     "traceback": [
      "\u001b[31m--------------------------------------------------------------------\u001b[39m",
      "\u001b[31mTypeError\u001b[39m                          Traceback (most recent call last)",
      "\u001b[36mCell\u001b[39m\u001b[36m \u001b[39m\u001b[32mIn[7]\u001b[39m\u001b[32m, line 1\u001b[39m\n\u001b[32m----> \u001b[39m\u001b[32m1\u001b[39m \u001b[43maddition\u001b[49m\u001b[43m(\u001b[49m\u001b[43mx\u001b[49m\u001b[43m=\u001b[49m\u001b[32;43m1\u001b[39;49m\u001b[43m,\u001b[49m\u001b[43m \u001b[49m\u001b[43my\u001b[49m\u001b[43m=\u001b[49m\u001b[32;43m2\u001b[39;49m\u001b[43m)\u001b[49m \n\u001b[32m      2\u001b[39m \u001b[38;5;66;03m#error aaunch because yesle positional arguments support garchaa\u001b[39;00m\n\u001b[32m      3\u001b[39m \u001b[38;5;66;03m# x=2 yesto vaneko keyword argument ho\u001b[39;00m\n",
      "\u001b[31mTypeError\u001b[39m: addition() got an unexpected keyword argument 'x'"
     ]
    }
   ],
   "source": [
    "addition(x=1, y=2) \n",
    "#error aaunch because yesle positional arguments support garchaa\n",
    "# x=2 yesto vaneko keyword argument ho"
   ]
  },
  {
   "cell_type": "code",
   "execution_count": 65,
   "id": "f6350454-f2df-4aa5-b800-13dcdd24151f",
   "metadata": {},
   "outputs": [],
   "source": [
    "def addition(**kwargs): #support any number of keyword arguments\n",
    "    print(kwargs,type(kwargs))"
   ]
  },
  {
   "cell_type": "code",
   "execution_count": 66,
   "id": "5eb2ca00-7b80-4ad9-a1d4-6271a5664b5b",
   "metadata": {},
   "outputs": [
    {
     "name": "stdout",
     "output_type": "stream",
     "text": [
      "{'x': 1, 'y': 2} <class 'dict'>\n"
     ]
    }
   ],
   "source": [
    "addition(x=1,y=2)"
   ]
  },
  {
   "cell_type": "code",
   "execution_count": 9,
   "id": "6b62fdd8-4e19-4eb4-943a-ff1fe1b31610",
   "metadata": {},
   "outputs": [],
   "source": [
    "def addition(**kwargs) : # keyword argument support garxh double star le\n",
    "    sum=0\n",
    "    for i in kwargs.values() : \n",
    "        sum +=i\n",
    "    return sum\n",
    "    "
   ]
  },
  {
   "cell_type": "code",
   "execution_count": 14,
   "id": "1928ad0e-7cb2-422b-a698-2b8e063b1085",
   "metadata": {},
   "outputs": [
    {
     "data": {
      "text/plain": [
       "106"
      ]
     },
     "execution_count": 14,
     "metadata": {},
     "output_type": "execute_result"
    }
   ],
   "source": [
    "addition(x=1,y=2,z=5,c=98)"
   ]
  },
  {
   "cell_type": "code",
   "execution_count": 15,
   "id": "53593187-93f7-4198-9c66-818c8f39afb4",
   "metadata": {},
   "outputs": [],
   "source": [
    "def addition (*args, **kwargs): # any numbers of positional argument +keyword arguments\n",
    "    sum=0\n",
    "    for i in args :\n",
    "        sum += i\n",
    "    for i in kwargs.values():\n",
    "         sum += i\n",
    "    return sum"
   ]
  },
  {
   "cell_type": "code",
   "execution_count": 17,
   "id": "1232f077-2724-415e-9c5c-b7bccc0d641f",
   "metadata": {},
   "outputs": [
    {
     "data": {
      "text/plain": [
       "24"
      ]
     },
     "execution_count": 17,
     "metadata": {},
     "output_type": "execute_result"
    }
   ],
   "source": [
    "addition (2,8,4,5,a=2,b=3)"
   ]
  },
  {
   "cell_type": "code",
   "execution_count": 83,
   "id": "ffbae4ed-7608-43bb-90b8-fe05aa1e05d5",
   "metadata": {},
   "outputs": [
    {
     "name": "stdout",
     "output_type": "stream",
     "text": [
      "8\n"
     ]
    }
   ],
   "source": [
    "def hello() :\n",
    "    xyz=8 # function level => local scope\n",
    "    print(xyz) # Local scope ma basch value\n",
    "hello()"
   ]
  },
  {
   "cell_type": "code",
   "execution_count": 19,
   "id": "ca22273d-6a82-46b6-b2c6-e0d7fc903488",
   "metadata": {},
   "outputs": [
    {
     "ename": "NameError",
     "evalue": "name 'xyz' is not defined",
     "output_type": "error",
     "traceback": [
      "\u001b[31m--------------------------------------------------------------------\u001b[39m",
      "\u001b[31mNameError\u001b[39m                          Traceback (most recent call last)",
      "\u001b[36mCell\u001b[39m\u001b[36m \u001b[39m\u001b[32mIn[19]\u001b[39m\u001b[32m, line 1\u001b[39m\n\u001b[32m----> \u001b[39m\u001b[32m1\u001b[39m \u001b[38;5;28mprint\u001b[39m(\u001b[43mxyz\u001b[49m) \u001b[38;5;66;03m# function vitra defined gareko variable  function bahira access garana meldena\u001b[39;00m\n",
      "\u001b[31mNameError\u001b[39m: name 'xyz' is not defined"
     ]
    }
   ],
   "source": [
    "print(xyz) # function vitra defined gareko variable  function bahira access garana meldena"
   ]
  },
  {
   "cell_type": "code",
   "execution_count": 85,
   "id": "ae21474b-d493-49ad-8290-33979c28590b",
   "metadata": {},
   "outputs": [
    {
     "name": "stdout",
     "output_type": "stream",
     "text": [
      "Shyam\n"
     ]
    }
   ],
   "source": [
    "#module level /file level => global scope\n",
    "name='Shyam'\n",
    "print(name)"
   ]
  },
  {
   "cell_type": "code",
   "execution_count": 86,
   "id": "56d8bc28-cc44-4f51-b700-ae23e05851b6",
   "metadata": {},
   "outputs": [
    {
     "name": "stdout",
     "output_type": "stream",
     "text": [
      "Shyam\n"
     ]
    }
   ],
   "source": [
    "def hi():\n",
    "    print(name) # first name ko value local scope ma khojch vetnan vney global scope ma khojch\n",
    "hi()"
   ]
  },
  {
   "cell_type": "code",
   "execution_count": 87,
   "id": "1eb48ab2-9a2a-4266-90c1-4fa6d0f179b8",
   "metadata": {},
   "outputs": [
    {
     "data": {
      "text/plain": [
       "3"
      ]
     },
     "execution_count": 87,
     "metadata": {},
     "output_type": "execute_result"
    }
   ],
   "source": [
    "max([1,2,3]) #built -in scope"
   ]
  },
  {
   "cell_type": "code",
   "execution_count": 88,
   "id": "880f1a0b-ff9b-4e25-af2a-9bd4ab05d6e4",
   "metadata": {},
   "outputs": [
    {
     "data": {
      "text/plain": [
       "3"
      ]
     },
     "execution_count": 88,
     "metadata": {},
     "output_type": "execute_result"
    }
   ],
   "source": [
    "len([1,2,3])"
   ]
  },
  {
   "cell_type": "code",
   "execution_count": 90,
   "id": "5885914e-fee5-41e7-bc3b-eb4fdeda0fa5",
   "metadata": {},
   "outputs": [
    {
     "ename": "NameError",
     "evalue": "name 'aged' is not defined",
     "output_type": "error",
     "traceback": [
      "\u001b[31m--------------------------------------------------------------------------\u001b[39m",
      "\u001b[31mNameError\u001b[39m                                Traceback (most recent call last)",
      "\u001b[36mCell\u001b[39m\u001b[36m \u001b[39m\u001b[32mIn[90]\u001b[39m\u001b[32m, line 3\u001b[39m\n\u001b[32m      1\u001b[39m \u001b[38;5;28;01mdef\u001b[39;00m\u001b[38;5;250m \u001b[39m\u001b[34mhi\u001b[39m():\n\u001b[32m      2\u001b[39m     \u001b[38;5;28mprint\u001b[39m(aged) \u001b[38;5;66;03m# first loacal scope ma search  then global then built -in scope\u001b[39;00m\n\u001b[32m----> \u001b[39m\u001b[32m3\u001b[39m \u001b[43mhi\u001b[49m\u001b[43m(\u001b[49m\u001b[43m)\u001b[49m\n",
      "\u001b[36mCell\u001b[39m\u001b[36m \u001b[39m\u001b[32mIn[90]\u001b[39m\u001b[32m, line 2\u001b[39m, in \u001b[36mhi\u001b[39m\u001b[34m()\u001b[39m\n\u001b[32m      1\u001b[39m \u001b[38;5;28;01mdef\u001b[39;00m\u001b[38;5;250m \u001b[39m\u001b[34mhi\u001b[39m():\n\u001b[32m----> \u001b[39m\u001b[32m2\u001b[39m     \u001b[38;5;28mprint\u001b[39m(\u001b[43maged\u001b[49m)\n",
      "\u001b[31mNameError\u001b[39m: name 'aged' is not defined"
     ]
    }
   ],
   "source": [
    "def hi():\n",
    "    print(aged) # first loacal scope ma search  then global then built -in scope\n",
    "hi()"
   ]
  },
  {
   "cell_type": "code",
   "execution_count": 92,
   "id": "c649539d-3f8e-4e8b-a4bb-1055287b285f",
   "metadata": {},
   "outputs": [],
   "source": [
    " # built -in scope => anywhere in python file =>print ,min,max, sorted ,sum\n",
    "# global scope =>created variable within the python file /module\n",
    "# local scope => inside function"
   ]
  },
  {
   "cell_type": "code",
   "execution_count": null,
   "id": "c0c79007-0460-4bcb-b6a1-000c990afb44",
   "metadata": {},
   "outputs": [],
   "source": []
  }
 ],
 "metadata": {
  "kernelspec": {
   "display_name": "Python 3 (ipykernel)",
   "language": "python",
   "name": "python3"
  },
  "language_info": {
   "codemirror_mode": {
    "name": "ipython",
    "version": 3
   },
   "file_extension": ".py",
   "mimetype": "text/x-python",
   "name": "python",
   "nbconvert_exporter": "python",
   "pygments_lexer": "ipython3",
   "version": "3.13.0"
  }
 },
 "nbformat": 4,
 "nbformat_minor": 5
}
