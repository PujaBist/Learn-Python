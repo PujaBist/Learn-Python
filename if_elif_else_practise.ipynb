{
 "cells": [
  {
   "cell_type": "code",
   "execution_count": 6,
   "id": "9869ec6b-9384-45e2-a31d-a20b826406d6",
   "metadata": {},
   "outputs": [
    {
     "name": "stdin",
     "output_type": "stream",
     "text": [
      "enter first number : 5\n",
      "enter second number : 4\n"
     ]
    },
    {
     "name": "stdout",
     "output_type": "stream",
     "text": [
      "5 is greater than 4\n"
     ]
    }
   ],
   "source": [
    "#Compare two numbers:\n",
    "\n",
    "#Get two numbers from the user.\n",
    "num_1=int(input(\"enter first number :\"))\n",
    "num_2=int(input(\"enter second number :\"))\n",
    "\n",
    "\n",
    "#If num_1 is greater than num_2, return:\n",
    "#num_1 is greater than num_2\n",
    "if num_1 > num_2 :\n",
    "    print(f\"{num_1} is greater than {num_2}\")\n",
    "\n",
    "\n",
    "#If num_1 is less than num_2, return:\n",
    "#num_1 is smaller than num_2\n",
    "elif num_1 < num_2 :\n",
    "    print(f\"{num_1} is smaller than {num_2}\")\n",
    "\n",
    "\n",
    "#If num_1 equals num_2, return:\n",
    "#num_1 is equal to num_2\n",
    "else :\n",
    "    print(f\"{num_1} is equal to {num_2}\")"
   ]
  },
  {
   "cell_type": "code",
   "execution_count": 23,
   "id": "7af97211-e6db-4eb4-b91d-7ecb5151733d",
   "metadata": {},
   "outputs": [
    {
     "name": "stdin",
     "output_type": "stream",
     "text": [
      "enter the marks you obtained : 95\n"
     ]
    },
    {
     "name": "stdout",
     "output_type": "stream",
     "text": [
      "Grade A\n"
     ]
    }
   ],
   "source": [
    "##Grade Calculator:\n",
    "\n",
    "#Write a program that assigns a grade based on a student's score:\n",
    "grade=int (input(\"enter the marks you obtained :\"))\n",
    "\n",
    "#90-100 ➞ Grade A\n",
    "if 90 <= grade <= 100:\n",
    "    print(\"Grade A\")\n",
    "#70-89 ➞ Grade B\n",
    "elif 70 <= grade <= 89:\n",
    "    print(\"Grade B\")\n",
    "#60-69 ➞ Grade C\n",
    "elif 60 <= grade <= 69:\n",
    "    print(\"Grade C\")\n",
    "#50-59 ➞ Grade D\n",
    "elif 50 < grade <= 59:\n",
    "    print(\"Grade D\")\n",
    "#0-49 ➞ Grade F\n",
    "else : \n",
    "    print(\"Grade F\")"
   ]
  },
  {
   "cell_type": "code",
   "execution_count": 28,
   "id": "0e388d3d-a8d9-4629-83dd-72029bca658a",
   "metadata": {},
   "outputs": [
    {
     "name": "stdin",
     "output_type": "stream",
     "text": [
      "enter the month_name :  march\n"
     ]
    },
    {
     "name": "stdout",
     "output_type": "stream",
     "text": [
      " it's Spring.\n"
     ]
    }
   ],
   "source": [
    "#Season Finder:\n",
    "\n",
    "#Check the season based on the month the user enters:\n",
    "mnth=input(\"enter the month_name : \").capitalize()\n",
    "Autumn=['September', 'October',  'November']\n",
    "Winter=['December', 'January', 'February']\n",
    "Spring =['March', 'April',  'May']\n",
    "Summer=['June', 'July',  'August']\n",
    "#If it's September, October, or November, it's Autumn.  \n",
    "if  mnth in Autumn:\n",
    "    print(\" it's Autumn.  \")\n",
    "\n",
    "#If it's December, January, or February, it's Winter.\n",
    "elif mnth in Winter :\n",
    "    print(\"it's Winter\")\n",
    "\n",
    "\n",
    "#If it's March, April, or May, it's Spring.\n",
    "elif mnth in Spring :\n",
    "    print(\" it's Spring.\")\n",
    "    \n",
    "\n",
    "#If it's June, July, or August, it's Summer.\n",
    "elif mnth in Summer:\n",
    "    print(\"it's Summer.\")\n",
    "else:\n",
    "    print(\"Invalid month name. Please enter a valid month (e.g., March).\")"
   ]
  },
  {
   "cell_type": "code",
   "execution_count": 34,
   "id": "129602d5-e7be-40fa-a5d1-88854fc67eef",
   "metadata": {},
   "outputs": [
    {
     "name": "stdin",
     "output_type": "stream",
     "text": [
      "enter the fruits name : pear\n"
     ]
    },
    {
     "name": "stdout",
     "output_type": "stream",
     "text": [
      "fruit already exists in the list\n"
     ]
    }
   ],
   "source": [
    "#Fruit List Checker:\n",
    "\n",
    "#Given the following fruit list:\n",
    "fruits = ['banana', 'orange', 'mango', 'pear']\n",
    "f=input(\"enter the fruits name :\")\n",
    "\n",
    "\n",
    "#If the fruit doesn't exist in the list, add it and print the modified list.\n",
    "if  f not in fruits :\n",
    "    fruits.append(f)\n",
    "    print(fruits)\n",
    "\n",
    "    \n",
    "#If the fruit is already in the list, print:\n",
    "#That fruit already exists in the list\n",
    "else :\n",
    "    print(\"fruit already exists in the list\")"
   ]
  },
  {
   "cell_type": "code",
   "execution_count": 63,
   "id": "f5a5821f-2c98-4dcf-b261-f7df4201037b",
   "metadata": {},
   "outputs": [
    {
     "name": "stdout",
     "output_type": "stream",
     "text": [
      "Middle skill: R\n",
      "Python is one of the skills.\n",
      "All skills: ['Python', 'Matlab', 'R', 'C', 'C++']\n",
      "She knows machine learning.\n",
      "Ramesh Pradhan lives in Nepal. He is married.\n"
     ]
    }
   ],
   "source": [
    "person = {\n",
    "    'first_name': 'Ramesh',\n",
    "    'last_name': 'Pradhan',\n",
    "    'age': 96,\n",
    "    'country': 'Nepal',\n",
    "    'is_married': True,\n",
    "    'skills': ['Python', 'Matlab', 'R', 'C', 'C++'],\n",
    "    'address': {\n",
    "        'street': 'Tinkune street',\n",
    "        'zipcode': '12345'\n",
    "    }\n",
    "}\n",
    "\n",
    "# Task 1: Check if 'skills' key exists and print the middle skill\n",
    "if 'skills' in person:\n",
    "    skills = person['skills']\n",
    "    mid_index = len(skills) // 2\n",
    "    print(\"Middle skill:\", skills[mid_index])\n",
    "else:\n",
    "    print(\"No 'skills' key found in dictionary.\")\n",
    "\n",
    "# Task 2: Check if 'Python' is one of the skills\n",
    "if 'Python' in person['skills']:\n",
    "    print(\"Python is one of the skills.\")\n",
    "    print(\"All skills:\", person['skills'])\n",
    "\n",
    "# Task 3: Print the title based on skills\n",
    "skills_set = set(person['skills'])\n",
    "\n",
    "if {'Python', 'Matlab'}.issubset(skills_set):\n",
    "    print(\"She knows machine learning.\")\n",
    "elif {'Python', 'R'}.issubset(skills_set):\n",
    "    print(\"She knows statistics.\")\n",
    "elif {'C', 'C++'}.issubset(skills_set):\n",
    "    print(\"She knows software development.\")\n",
    "else:\n",
    "    print(\"Unknown title.\")\n",
    "\n",
    "# Task 4: If married and lives in Nepal\n",
    "if person['is_married'] and person['country'] == 'Nepal':\n",
    "    full_name = person['first_name'] + ' ' + person['last_name']\n",
    "    print(f\"{full_name} lives in Nepal. He is married.\")\n"
   ]
  },
  {
   "cell_type": "code",
   "execution_count": null,
   "id": "a848b4ab-5567-4b5d-9814-5b0fce7e6618",
   "metadata": {},
   "outputs": [],
   "source": []
  },
  {
   "cell_type": "code",
   "execution_count": null,
   "id": "bf64f6fb-107f-4850-a354-0a92c82427fe",
   "metadata": {},
   "outputs": [],
   "source": []
  }
 ],
 "metadata": {
  "kernelspec": {
   "display_name": "Python 3 (ipykernel)",
   "language": "python",
   "name": "python3"
  },
  "language_info": {
   "codemirror_mode": {
    "name": "ipython",
    "version": 3
   },
   "file_extension": ".py",
   "mimetype": "text/x-python",
   "name": "python",
   "nbconvert_exporter": "python",
   "pygments_lexer": "ipython3",
   "version": "3.13.0"
  }
 },
 "nbformat": 4,
 "nbformat_minor": 5
}
