{
 "cells": [
  {
   "cell_type": "code",
   "execution_count": 2,
   "id": "62790fc7-5aa9-4f91-b759-91631f6d33fc",
   "metadata": {},
   "outputs": [],
   "source": [
    "f=open(\"hello.txt\", \"w\") # to open the file in the write mode to write something in the file\n",
    "f.write(\"hello world \") # we have wrote the hello world to that file\n",
    "f.close()# this is used for closing the file"
   ]
  },
  {
   "cell_type": "code",
   "execution_count": 3,
   "id": "a0493ec9-8d8c-43f0-ae69-80d526ea7d38",
   "metadata": {},
   "outputs": [
    {
     "name": "stdout",
     "output_type": "stream",
     "text": [
      "hello world \n"
     ]
    },
    {
     "data": {
      "text/plain": [
       "<function TextIOWrapper.close()>"
      ]
     },
     "execution_count": 3,
     "metadata": {},
     "output_type": "execute_result"
    }
   ],
   "source": [
    "f=open(\"hello.txt\", \"r\")\n",
    "print(f.read())\n",
    "f.close"
   ]
  },
  {
   "cell_type": "code",
   "execution_count": 4,
   "id": "dd75463e-0018-4b00-be83-56cf4b1526e6",
   "metadata": {},
   "outputs": [
    {
     "ename": "ZeroDivisionError",
     "evalue": "division by zero",
     "output_type": "error",
     "traceback": [
      "\u001b[31m---------------------------------------------------------------------------\u001b[39m",
      "\u001b[31mZeroDivisionError\u001b[39m                         Traceback (most recent call last)",
      "\u001b[36mCell\u001b[39m\u001b[36m \u001b[39m\u001b[32mIn[4]\u001b[39m\u001b[32m, line 1\u001b[39m\n\u001b[32m----> \u001b[39m\u001b[32m1\u001b[39m \u001b[32;43m1\u001b[39;49m\u001b[43m/\u001b[49m\u001b[32;43m0\u001b[39;49m\n",
      "\u001b[31mZeroDivisionError\u001b[39m: division by zero"
     ]
    }
   ],
   "source": [
    "1/0"
   ]
  },
  {
   "cell_type": "code",
   "execution_count": 7,
   "id": "0074b401-b26b-4adf-9acb-6f5d9edbe067",
   "metadata": {},
   "outputs": [
    {
     "name": "stdout",
     "output_type": "stream",
     "text": [
      "hi\n"
     ]
    },
    {
     "ename": "ZeroDivisionError",
     "evalue": "division by zero",
     "output_type": "error",
     "traceback": [
      "\u001b[31m---------------------------------------------------------------------------\u001b[39m",
      "\u001b[31mZeroDivisionError\u001b[39m                         Traceback (most recent call last)",
      "\u001b[36mCell\u001b[39m\u001b[36m \u001b[39m\u001b[32mIn[7]\u001b[39m\u001b[32m, line 2\u001b[39m\n\u001b[32m      1\u001b[39m \u001b[38;5;28mprint\u001b[39m(\u001b[33m\"\u001b[39m\u001b[33mhi\u001b[39m\u001b[33m\"\u001b[39m)\n\u001b[32m----> \u001b[39m\u001b[32m2\u001b[39m \u001b[32;43m1\u001b[39;49m\u001b[43m/\u001b[49m\u001b[32;43m0\u001b[39;49m\n\u001b[32m      3\u001b[39m \u001b[38;5;28mprint\u001b[39m(\u001b[33m\"\u001b[39m\u001b[33mhello\u001b[39m\u001b[33m\"\u001b[39m)\n",
      "\u001b[31mZeroDivisionError\u001b[39m: division by zero"
     ]
    }
   ],
   "source": [
    "print(\"hi\")\n",
    "1/0\n",
    "print(\"hello\")"
   ]
  },
  {
   "cell_type": "code",
   "execution_count": 9,
   "id": "31a25253-32ca-4f9e-9449-1bd246ec1f36",
   "metadata": {},
   "outputs": [
    {
     "name": "stdout",
     "output_type": "stream",
     "text": [
      "hello world \n"
     ]
    },
    {
     "ename": "ZeroDivisionError",
     "evalue": "division by zero",
     "output_type": "error",
     "traceback": [
      "\u001b[31m---------------------------------------------------------------------------\u001b[39m",
      "\u001b[31mZeroDivisionError\u001b[39m                         Traceback (most recent call last)",
      "\u001b[36mCell\u001b[39m\u001b[36m \u001b[39m\u001b[32mIn[9]\u001b[39m\u001b[32m, line 3\u001b[39m\n\u001b[32m      1\u001b[39m f=\u001b[38;5;28mopen\u001b[39m(\u001b[33m\"\u001b[39m\u001b[33mhello.txt\u001b[39m\u001b[33m\"\u001b[39m,\u001b[33m\"\u001b[39m\u001b[33mr\u001b[39m\u001b[33m\"\u001b[39m)\n\u001b[32m      2\u001b[39m \u001b[38;5;28mprint\u001b[39m(f.read())\n\u001b[32m----> \u001b[39m\u001b[32m3\u001b[39m \u001b[32;43m1\u001b[39;49m\u001b[43m/\u001b[49m\u001b[32;43m0\u001b[39;49m\n\u001b[32m      4\u001b[39m f.close\n",
      "\u001b[31mZeroDivisionError\u001b[39m: division by zero"
     ]
    }
   ],
   "source": [
    "f=open(\"hello.txt\",\"r\")\n",
    "print(f.read())\n",
    "1/0\n",
    "f.close"
   ]
  },
  {
   "cell_type": "code",
   "execution_count": 12,
   "id": "a43f9bc2-1534-4895-be1c-4a9105eb35e2",
   "metadata": {},
   "outputs": [
    {
     "ename": "TypeError",
     "evalue": "'bool' object is not callable",
     "output_type": "error",
     "traceback": [
      "\u001b[31m---------------------------------------------------------------------------\u001b[39m",
      "\u001b[31mTypeError\u001b[39m                                 Traceback (most recent call last)",
      "\u001b[36mCell\u001b[39m\u001b[36m \u001b[39m\u001b[32mIn[12]\u001b[39m\u001b[32m, line 1\u001b[39m\n\u001b[32m----> \u001b[39m\u001b[32m1\u001b[39m \u001b[43mf\u001b[49m\u001b[43m.\u001b[49m\u001b[43mclosed\u001b[49m\u001b[43m(\u001b[49m\u001b[43m)\u001b[49m\n",
      "\u001b[31mTypeError\u001b[39m: 'bool' object is not callable"
     ]
    }
   ],
   "source": [
    "f.closed()"
   ]
  },
  {
   "cell_type": "code",
   "execution_count": 14,
   "id": "30edb810-bc2b-4686-9288-dc96001f2673",
   "metadata": {},
   "outputs": [],
   "source": [
    "# error /Exception handling \n",
    "def division(a,b):\n",
    "    div =a/b\n",
    "    return div\n",
    "    "
   ]
  },
  {
   "cell_type": "code",
   "execution_count": 15,
   "id": "8c77bc6d-0e14-4b30-8511-890e9312fd7e",
   "metadata": {},
   "outputs": [
    {
     "data": {
      "text/plain": [
       "0.5"
      ]
     },
     "execution_count": 15,
     "metadata": {},
     "output_type": "execute_result"
    }
   ],
   "source": [
    "division(2,4)"
   ]
  },
  {
   "cell_type": "code",
   "execution_count": 16,
   "id": "0678f660-0644-486a-86ae-72f75bd11627",
   "metadata": {},
   "outputs": [
    {
     "ename": "ZeroDivisionError",
     "evalue": "division by zero",
     "output_type": "error",
     "traceback": [
      "\u001b[31m---------------------------------------------------------------------------\u001b[39m",
      "\u001b[31mZeroDivisionError\u001b[39m                         Traceback (most recent call last)",
      "\u001b[36mCell\u001b[39m\u001b[36m \u001b[39m\u001b[32mIn[16]\u001b[39m\u001b[32m, line 1\u001b[39m\n\u001b[32m----> \u001b[39m\u001b[32m1\u001b[39m \u001b[43mdivision\u001b[49m\u001b[43m(\u001b[49m\u001b[32;43m4\u001b[39;49m\u001b[43m,\u001b[49m\u001b[32;43m0\u001b[39;49m\u001b[43m)\u001b[49m\n",
      "\u001b[36mCell\u001b[39m\u001b[36m \u001b[39m\u001b[32mIn[14]\u001b[39m\u001b[32m, line 3\u001b[39m, in \u001b[36mdivision\u001b[39m\u001b[34m(a, b)\u001b[39m\n\u001b[32m      2\u001b[39m \u001b[38;5;28;01mdef\u001b[39;00m\u001b[38;5;250m \u001b[39m\u001b[34mdivision\u001b[39m(a,b):\n\u001b[32m----> \u001b[39m\u001b[32m3\u001b[39m     div =\u001b[43ma\u001b[49m\u001b[43m/\u001b[49m\u001b[43mb\u001b[49m\n\u001b[32m      4\u001b[39m     \u001b[38;5;28;01mreturn\u001b[39;00m div\n",
      "\u001b[31mZeroDivisionError\u001b[39m: division by zero"
     ]
    }
   ],
   "source": [
    "division(4,0)"
   ]
  },
  {
   "cell_type": "code",
   "execution_count": 17,
   "id": "c86312b1-b971-4ea1-8c33-17d213cb70c4",
   "metadata": {},
   "outputs": [],
   "source": [
    "# so to overcome this we use the exception handling(try and catch to gracefully handle the error)\n",
    "def division(a,b):\n",
    "    try :\n",
    "        div =a/b\n",
    "        return div\n",
    "    except ZeroDivisionError:\n",
    "        print(\"cannot divide by 0\")"
   ]
  },
  {
   "cell_type": "code",
   "execution_count": 18,
   "id": "287652bf-b9c2-4596-ba7c-77eb20ce01c6",
   "metadata": {},
   "outputs": [
    {
     "data": {
      "text/plain": [
       "0.5"
      ]
     },
     "execution_count": 18,
     "metadata": {},
     "output_type": "execute_result"
    }
   ],
   "source": [
    "division(2,4)"
   ]
  },
  {
   "cell_type": "code",
   "execution_count": 19,
   "id": "aa53d081-cfaa-43f4-8d3c-40ba8e2cbe3e",
   "metadata": {},
   "outputs": [
    {
     "name": "stdout",
     "output_type": "stream",
     "text": [
      "cannot divide by 0\n"
     ]
    }
   ],
   "source": [
    "division(1,0)"
   ]
  },
  {
   "cell_type": "code",
   "execution_count": null,
   "id": "6dc7f982-35ae-498c-9fbc-1091f4377245",
   "metadata": {},
   "outputs": [],
   "source": []
  },
  {
   "cell_type": "code",
   "execution_count": 1,
   "id": "392acca1-759f-4f3f-86af-752b69d03a6b",
   "metadata": {},
   "outputs": [],
   "source": [
    "def division(a,b):\n",
    "    try :\n",
    "        div=a/b\n",
    "        return div\n",
    "    except ZeroDivisionError:\n",
    "        print(\"cannot divide by zero\")\n",
    "    except TypeError:\n",
    "        print(\"Invalid Datatype\")\n",
    "    \n",
    "    "
   ]
  },
  {
   "cell_type": "code",
   "execution_count": 2,
   "id": "bb6e608d-d590-4063-bd80-c30ee90bac9a",
   "metadata": {},
   "outputs": [
    {
     "data": {
      "text/plain": [
       "2.0"
      ]
     },
     "execution_count": 2,
     "metadata": {},
     "output_type": "execute_result"
    }
   ],
   "source": [
    "division(4,2)"
   ]
  },
  {
   "cell_type": "code",
   "execution_count": 5,
   "id": "5e900096-1cbf-473b-85a5-bf8cdf5738b6",
   "metadata": {},
   "outputs": [
    {
     "name": "stdout",
     "output_type": "stream",
     "text": [
      "Invalid Datatype\n"
     ]
    }
   ],
   "source": [
    "\n",
    "division(2,'s')"
   ]
  },
  {
   "cell_type": "code",
   "execution_count": 6,
   "id": "d9f36430-bade-4d16-8403-7b06d499343c",
   "metadata": {},
   "outputs": [],
   "source": [
    "def division(a,b):\n",
    "    try :\n",
    "        div=a/b\n",
    "        return div\n",
    "    except ZeroDivisionError:\n",
    "        print(\"cannot divide by zero\")\n",
    "    except TypeError:\n",
    "        print(\"Invalid Datatype\")\n",
    "    except Exception as e :# to handle all type of exception this type of exception is used when we dont know abot which exception is actually ocuured\n",
    "        print(e)\n",
    "    \n",
    "    "
   ]
  },
  {
   "cell_type": "code",
   "execution_count": 7,
   "id": "be075a63-2a09-4ab7-99d3-dc5d9f5f13fa",
   "metadata": {},
   "outputs": [
    {
     "name": "stdout",
     "output_type": "stream",
     "text": [
      "Invalid Datatype\n"
     ]
    }
   ],
   "source": [
    "division('aa',3)"
   ]
  },
  {
   "cell_type": "code",
   "execution_count": 8,
   "id": "d4ceaf90-9ce0-4996-9846-68883723f913",
   "metadata": {},
   "outputs": [
    {
     "data": {
      "text/plain": [
       "0.6666666666666666"
      ]
     },
     "execution_count": 8,
     "metadata": {},
     "output_type": "execute_result"
    }
   ],
   "source": [
    "division(2,3)"
   ]
  },
  {
   "cell_type": "code",
   "execution_count": 12,
   "id": "8877bbd5-93bf-4c41-b967-d45628a7e21b",
   "metadata": {},
   "outputs": [],
   "source": [
    "def division(a,b):\n",
    "    try :\n",
    "        div=a/b\n",
    "        \n",
    "    except ZeroDivisionError:\n",
    "        print(\"cannot divide by zero\")\n",
    "    except TypeError:\n",
    "        print(\"Invalid Datatype\")\n",
    "    except Exception as e :# to handle all type of exception this type of exception is used when we dont know abot which exception is actually ocuured\n",
    "        print(e)\n",
    "    else :\n",
    "        print(\"I will run if there is no exception\")\n",
    "        return div\n",
    "    \n",
    "    "
   ]
  },
  {
   "cell_type": "code",
   "execution_count": 13,
   "id": "22e8953f-1f63-4b04-b702-6f605f7d9a2f",
   "metadata": {},
   "outputs": [
    {
     "name": "stdout",
     "output_type": "stream",
     "text": [
      "I will run if there is no exception\n"
     ]
    },
    {
     "data": {
      "text/plain": [
       "1.5"
      ]
     },
     "execution_count": 13,
     "metadata": {},
     "output_type": "execute_result"
    }
   ],
   "source": [
    "division(3,2)"
   ]
  },
  {
   "cell_type": "code",
   "execution_count": 14,
   "id": "dbfac718-2974-488b-aa1c-9d3a36210647",
   "metadata": {},
   "outputs": [
    {
     "name": "stdout",
     "output_type": "stream",
     "text": [
      "Invalid Datatype\n"
     ]
    }
   ],
   "source": [
    "division('a',6)"
   ]
  },
  {
   "cell_type": "code",
   "execution_count": 15,
   "id": "b8928a31-f4c6-4727-9fdc-d9d0bba66751",
   "metadata": {},
   "outputs": [],
   "source": [
    "def division(a,b):\n",
    "    try :\n",
    "        div=a/b\n",
    "        \n",
    "    except ZeroDivisionError:\n",
    "        print(\"cannot divide by zero\")\n",
    "    except TypeError:\n",
    "        print(\"Invalid Datatype\")\n",
    "    except Exception as e :# to handle all type of exception this type of exception is used when we dont know abot which exception is actually ocuured\n",
    "        print(e)\n",
    "    else :\n",
    "        print(\"I will run if there is no exception\")\n",
    "        return div\n",
    "    finally:\n",
    "        print(\"I will run no matter what happens in the code.\")\n",
    "        \n",
    "    \n",
    "    "
   ]
  },
  {
   "cell_type": "code",
   "execution_count": 16,
   "id": "741f77c6-cdfb-497c-baa2-06c177b56790",
   "metadata": {},
   "outputs": [
    {
     "name": "stdout",
     "output_type": "stream",
     "text": [
      "I will run if there is no exception\n",
      "I will run no matter what happens in the code.\n"
     ]
    },
    {
     "data": {
      "text/plain": [
       "1.5"
      ]
     },
     "execution_count": 16,
     "metadata": {},
     "output_type": "execute_result"
    }
   ],
   "source": [
    "division(3,2)"
   ]
  },
  {
   "cell_type": "code",
   "execution_count": 17,
   "id": "b910a2c2-b8fa-439e-9777-4b7c6c71e238",
   "metadata": {},
   "outputs": [
    {
     "name": "stdout",
     "output_type": "stream",
     "text": [
      "cannot divide by zero\n",
      "I will run no matter what happens in the code.\n"
     ]
    }
   ],
   "source": [
    "division(3,0)"
   ]
  },
  {
   "cell_type": "code",
   "execution_count": 20,
   "id": "53b8f83c-bae7-4249-a8a6-f82bc08b51d7",
   "metadata": {},
   "outputs": [
    {
     "name": "stdout",
     "output_type": "stream",
     "text": [
      "hello world \n",
      "division by zero\n"
     ]
    }
   ],
   "source": [
    "f=open (\"hello.txt\",\"r\")\n",
    "print(f.read())\n",
    "try:\n",
    "    1/0\n",
    "except Exception as e :# to handle all type of exception this type of exception is used when we dont know abot which exception is actually ocuured\n",
    "        print(e)\n",
    "f.close()"
   ]
  },
  {
   "cell_type": "code",
   "execution_count": 22,
   "id": "c80919ff-0a6b-486a-80a6-2b3d21e60bb4",
   "metadata": {},
   "outputs": [
    {
     "name": "stdout",
     "output_type": "stream",
     "text": [
      "hello world \n"
     ]
    }
   ],
   "source": [
    "with open(\"hello.txt\", \"r\") as f:\n",
    "    print(f.read())\n",
    "    "
   ]
  },
  {
   "cell_type": "code",
   "execution_count": 23,
   "id": "9acaea9c-2877-47e4-9825-98a7f89a197b",
   "metadata": {},
   "outputs": [
    {
     "data": {
      "text/plain": [
       "True"
      ]
     },
     "execution_count": 23,
     "metadata": {},
     "output_type": "execute_result"
    }
   ],
   "source": [
    "f.closed"
   ]
  },
  {
   "cell_type": "code",
   "execution_count": 24,
   "id": "65169e11-fab6-4a6f-9ccb-5dcc0760b47f",
   "metadata": {},
   "outputs": [
    {
     "name": "stdout",
     "output_type": "stream",
     "text": [
      "False\n",
      "hello world \n",
      "False\n",
      "True\n"
     ]
    }
   ],
   "source": [
    "with open(\"hello.txt\",\"r\") as f:\n",
    "    print(f.closed)\n",
    "\n",
    "    print(f.read())\n",
    "    print(f.closed)\n",
    "print(f.closed)\n"
   ]
  },
  {
   "cell_type": "code",
   "execution_count": 25,
   "id": "d1f55def-b409-4bbd-861e-650b37ef8d11",
   "metadata": {},
   "outputs": [
    {
     "name": "stdout",
     "output_type": "stream",
     "text": [
      "False\n",
      "hello world \n"
     ]
    },
    {
     "ename": "ZeroDivisionError",
     "evalue": "division by zero",
     "output_type": "error",
     "traceback": [
      "\u001b[31m---------------------------------------------------------------------------\u001b[39m",
      "\u001b[31mZeroDivisionError\u001b[39m                         Traceback (most recent call last)",
      "\u001b[36mCell\u001b[39m\u001b[36m \u001b[39m\u001b[32mIn[25]\u001b[39m\u001b[32m, line 5\u001b[39m\n\u001b[32m      2\u001b[39m \u001b[38;5;28mprint\u001b[39m(f.closed)\n\u001b[32m      4\u001b[39m \u001b[38;5;28mprint\u001b[39m(f.read())\n\u001b[32m----> \u001b[39m\u001b[32m5\u001b[39m \u001b[32;43m1\u001b[39;49m\u001b[43m/\u001b[49m\u001b[32;43m0\u001b[39;49m\n",
      "\u001b[31mZeroDivisionError\u001b[39m: division by zero"
     ]
    }
   ],
   "source": [
    "with open(\"hello.txt\",\"r\") as f:\n",
    "    print(f.closed)\n",
    "\n",
    "    print(f.read())\n",
    "    1/0\n"
   ]
  },
  {
   "cell_type": "code",
   "execution_count": 26,
   "id": "7a7f02af-a50d-4cb3-b448-384f26872718",
   "metadata": {},
   "outputs": [
    {
     "data": {
      "text/plain": [
       "True"
      ]
     },
     "execution_count": 26,
     "metadata": {},
     "output_type": "execute_result"
    }
   ],
   "source": [
    "f.closed"
   ]
  },
  {
   "cell_type": "code",
   "execution_count": 27,
   "id": "a3180a9a-92ec-499b-b12b-0daaaa0adf23",
   "metadata": {},
   "outputs": [
    {
     "name": "stdout",
     "output_type": "stream",
     "text": [
      "hello world \n"
     ]
    }
   ],
   "source": [
    "with open(\"hello.txt\", \"r\") as f:\n",
    "    print(f.read())"
   ]
  },
  {
   "cell_type": "code",
   "execution_count": 28,
   "id": "9fafc623-3927-44df-a569-52fc0452e5b2",
   "metadata": {},
   "outputs": [
    {
     "name": "stdout",
     "output_type": "stream",
     "text": [
      "hello world \n"
     ]
    }
   ],
   "source": [
    "with open(\"hello.txt\", \"rt\") as f:  # by default=> read in text mode\n",
    "    print(f.read())"
   ]
  },
  {
   "cell_type": "code",
   "execution_count": 29,
   "id": "e0246803-1f02-4330-9262-50085b1f74e8",
   "metadata": {},
   "outputs": [
    {
     "name": "stdout",
     "output_type": "stream",
     "text": [
      "hello world \n"
     ]
    }
   ],
   "source": [
    "with open(\"hello.txt\") as f: # by default =>read in text mode\n",
    "    print(f.read())"
   ]
  },
  {
   "cell_type": "code",
   "execution_count": 28,
   "id": "444bd5fb-f61a-4f69-a11c-1a6e485ae122",
   "metadata": {},
   "outputs": [
    {
     "name": "stdout",
     "output_type": "stream",
     "text": [
      "b'\\x89PNG\\r\\n\\x1a\\n\\x00\\x00\\x00\\rIHDR\\x00\\x00\\x00@\\x00\\x00\\x00@\\x08\\x06\\x00\\x00\\x00\\xaaiq\\xde\\x00\\x00\\x00\\x06bKGD\\x00\\xff\\x00\\xff\\x00\\xff\\xa0\\xbd\\xa7\\x93\\x00\\x00\\x00\\tpHYs\\x00\\x00\\x06\\xe6\\x00\\x00\\x06\\xe6\\x01E\\x01\\xf3\\xd9\\x00\\x00\\x00\\x07tIME\\x07\\xde\\x0c\\x0c\\x16\"\\x1a)\\xbd\\xe5\\xde\\x00\\x00\\x08\\x11IDATx\\xda\\xed[}lUg\\x19\\xff=\\xb7\\xa5\"\\xad\\t\\x8a\\x97\\x8dm\\xd1\\xe0:\\x84v\\x93U\\x836\\x8a\\x01u\\x04\\xdd\\xec6\\xc5\\x12\\xc7D\\xa3.\\x93u\\x9a\\x8d\\xb4:\\rn\\xb93\\x88\\xe0\\x18\\x88\\x8bd\\xfee\\xc4i\\xb2\\xa1\\xf8A\\x97\\xc9V\\xb0\\xc0V(\\x13\\xd6t.3\\x1d\\x10#\\xf2Qh7\\xa6\\xa5\\xeb\\xc7=\\xcf\\xcf?\\xee\\xb9\\xe7\\x9es\\xef9\\xe7\\xbe\\xe7\\xf6v;\\xc6\\xbem\\xd3\\xf7\\xbe\\xe7\\xde\\xb7\\xe7\\xf9=\\xcf\\xef\\xf9:o\\x81\\xa915\\xa6\\xc6\\xff\\xf3\\x90\\xc9\\xdc\\xfc\\xe6\\x9ft\\\\6>\\xc6\\xe5$\\xe7\\x03HR\\x99$9\\x9bd\\x12\\xaa\\xb3IN\\'9Hb@\\xa1\\x03\\t\\x8b\\x83\\n\\x0c(\\xac\\x01Q\\xed\\x1d\\x9a6\\xfd\\xc9\\xa3\\xa9\\xa6\\xe1\\xff)\\x00\\x9aS/U\\r\\xd7\\xf4\\xb7)\\xb1\\x02\\xd4\\x06\\x90B\\x12\\xd9\\x1f8s-\\\\\\xd3\\xdc5{mX\\xc9]\\xe9\\x84\\xd5\\xd6\\xbdaU\\x7f\\xec\\x01\\xb8i\\xeb\\xfe\\x05\\xb0\\xf47$\\xafG\\x9e\\x90^\\xe1\\x0b\\x04\\xf5y\\x9f\\xeb\\xb3\\xca\\x0b\\xa4\\xf5\\xb5C\\x0f}\\xa9=\\xb6\\x004?\\xf1D\\xc5\\xf0?\\x93\\x7f\\x07Y\\xcb<-\\x1b\\tY\\xf0\\xbe\\x82\\xcf\\x8e\\x13\\xdax\\xf8\\xa1\\xd5\\xc7\\xca\\t@\\xa2\\\\\\x1b\\r\\x9fJ\\xde\\xe6\\x16^\\x89\\x03P\\xdc\"\\xd4[H\\x1cp\\x0b\\t\\x1f0\\x0c\\xd6\\xa6A\\xf1\\xab\\xa5\\xa9_L/\\'\\x00\\x95\\xe5\\xda\\x88\\xcaO\\xc2\\x11\\x9e\\x17\\xabFF>\\xb3\\xdbv`M\\xa9\\xdd\\x1doT$N\\x83\\x9c\\xe9o\\t\\xc6ku\\xc3\\xffN\\xdc\\x00\\xa0=v\\x16\\x00`\\x0eA\\x00\\x04\\x88]\\xbb]\\xde{w\\xaai\\x18\\xe4\\xaeB\\r#D\\xeb\\xf0\\xb7\\x04\\xc5\\x87cI\\x01R\\x93\\xd9\\x1b\\x05\\xac\\xc5 \\xc5uQH.\\x0e\\xd2p4ZX\\x0bcI\\x01!*5\\xa7\\xbdy\\xcb7<\\xf5`\\xe5\\x8f\\xda\\xb7\\x02\\xc0\\xc8\\x0f\\xda\\xd7\\x12\\x9c\\x07\\xdbB\\xdc_@$\\n\\x00\\x8a\\xb7\\xc5\\x12\\x00\\xcd\\x8b\\xebJ\\xdc?\\x9a\\x96\\xd6\\x8cEpF\\xa8\\x86]`x\\x00\\xf2\\xb3\\x04\\x10\\xf1t\\x82\\xfef;\\xa3\\xb8\\x93C\\xb0\\xd6\\xf3\\xec\\xc5\\xf6/\\xf1\\x04 \\x9c\\xc3\\x98h\\x08\\xf4XKL-@w\\x12<\\x0c\\x02\\xa2\\x84\\x02P[\\x8b`V{\\x04\\x15P\\x10\\xf6\\xe4#\\x04\\xaf\\x0f\\x17\\xdc\\x07\\xdc8\\x02\\xf0\\xf4\\xba\\x1b\\x7f\\x18\\xf53\\x1f\\xfd\\xce\\xe3\\x1ba\\x03`\\x9c\\x0f\\xa8\\xbe5\\x00\\xdc\\xf4p\\xe7\\'\\xa8\\xda\\xa0\\xd4\\x05 \\xaf\\x02)\\xcc\\xdeL&\\xf9\\x01\\xa1\\xa0\\xda\\xdaeF\\xd3\\xb4h\\xdf\\xb3\\x05P\\xed\\xf0O@\\t\\x8b:O\\x8a\\xe6\\x03\\xde5\\xc7\\xe2\\xfa[[\\xa1X\\x96w\\x9b\\x97\\x90`\\x0fT\\xfe\\x8a\\xcb\\xdf\\xb1G$\\xa5\\x13\\x06\\xa0i\\xcb\\xbe%T\\xd9\\xa8\\xaa\\x8d !\\x1e\\x8f\\x8c\\x00\\x87\\x06\\xaf\\xd7\\x16:\\xfe\\x8b\\xae\\xb0\\'%\\xf8\\x03W\\xf1r\\x1d\\x04\\xcb\\x0b\\xb9\\x88\\xcf\\x03\\n\\x9c}\\xed\\x19\\x9e\\xfd\\xd6\\xed2\\xe7\\x91\\x0b%\\'BM[:[T\\xa5\\x93d\\xe3\\xc4\\x92\\x17\\x9f\\xb5\\x82|\\x00!\\x14\\x80!\\xf7\\xb3\\xd6g\\x01\\xd0e\\xb0\\xf40\\xcf\\xb5U\\x97\\x04@\\xd3\\xc3\\xfbV\\xa8\\xe2\\x11\\x13n\\xa2\\\\kA\\xf9\\x80\\x89\\xe7\\xcf\\nNu\\x81`\\xbd\\x0f\\xe9\\xa1\\x07#\\x03p\\xeb\\xd6\\xbf\\xcc$\\x12;@M\\x98\\xe4\\xef\\x13,p\\x8c\\xc0\\r\\xd7z\\x81\\xe0\\xae\\xd7\\xe9{\\xf8\\x8f;\\xe6F\\x02\\xc0R\\xf92\\xa93\\xbc\\t\\x88\\xa96Q\\xd6| \\xd4\\xf4\\x1d!5Oh\\x87\\x06\\x00\\xb5\\x12H\\x7f!\\x12\\x00J|\\xc3/\\x01\\xf1\\xf0\\x15\\x93A\\x8bB\\x80|\\xc6E[K33\\x02\\x86i\\xdf\\x9e\\x8b\\x9a\\x03p\\xe3\\xe6\\xbd\\xef%\\xb5\\xceH\\x80@\\xbe\\x96\\x87\\x02\\xfe\\x06/G3\\xd5\\x97\\xb5\\xc8+\\xa8\\x8f\\xe0\\xb9k\\x8bx\\xaa\\xf9\\xedF\\x00\\xa8H-\\\\\\xda(Y\\xc3Q\\n\\x1c\\x9f\\xb5\\x10\\xb3\\x7f\\x9e\\xa7\\xd6^\\t\\xd5+\\x1c\\xc1\\xe1#8<\\xa0\\x08F\\x13W\\x1b\\x01\\x90P\\xad5\\xce\\xcb\\xcbV\\xe0\\x98\\xa6\\xba\\xdc\\xdf\\xf3\\xe8\\x9a\\xfdH\\x8c-\\xcf\\t\\xed\\x12\\x1c!\\xd6\\x00\\xbd\\xc6(\\x11\"YK;\\xff~3\\x0b\\x1c\\x83p\\xf7FB\\xf4\\x0e\\x9e\\xbb+\\x89\\xb4lr\\x00pb\\x7f\\xfe\\\\\\xed\\xe8\\xe1\\\\\\xab5\\xa3\\x80\\xa2v\\xf2c?\\xa2\\x86\\xbbWH.=\\xb6\\xfd\\xee\\xe3\\xb0\\xf0(`\\xbd;\\x84\\xef\\x01\\x94H_cF\\x01a\\xadG\\x1f%Q\\xa0\\xb4\\xb5<[\\xbc\\x00\\xf0)\\x08\\xbf\\xaf\\xd53\\x1az\\xd6\\xf5\\xbd\\xc8\\x7f\\xad\\xd9\\x0e\\xd5\\xcf\\x05$=E(\\xe1o\\x01\\x95\\x85\\x16\\xc0\\xb9\\x1e\\xcd\\xc1\\xc7\\xa1\\x15\\xd30xT\\x88v%\\xbauD\\x8f\\x1c\\xf9\\xd9W\\x06\\'Tj\\x9f\\xb9\\xfb\\x83\\xd0\\xf4\\xafA\\x9d\\xef1\\xf5\\xac\\x99;\\xf3\\x00\\x1aD\\xf4\\x01\\xaf\\x83\\xac\\x0euh\\xf9\\xf9@\\xce\\xc3\\x8f\\x81\\xbc\\xbf\\xab\\xbao3R)\\xe5\\xf9\\x96\\x1a\\xa4\\xab\\x1b\\xf0@\\xeb,#I-\\xcb\\x9e\\xa4\\x01`6\\xc8F\\xd0j\\x845>\\x1fP\\xf1p\\xda3\\xcf\\x07\\xa5\\x80\\xff\\x00u\\xb6Y5H\\x9e yE\\t\\\\\\xbf`)o\\xe8\\xde\\xbc\\xaa\\x97g\\xdb\\x96bM\\xeb6(\\xaeEB\\x13ES\\xf9\\xec\\xcd\\xc2D\\xab!\\x8e\\xce#t\\xc1>\\xaf\\x1a\\xf9\\x00\\x92\\'Ksrh\\xe9\\xde\\xbc\\xaa\\x97\\xe7\\xda\\xd6C\\xb8\\x17\\xc0\\x07\\x8c\\xda\\xee\\x851;\\xcf\\x91Eqta\\t\\x91\\x0e\\x98\\xf9\\x00\\xe2\\x84Dvh\\xfax\\xd7\\x8fo\\xff-\\xfb[W\\x83\\\\g\\xc8\\xec\\x00\\xf3-j\\xca\\x01\\xda\\xd7\\x90=\\x15 \\xcf\\x1a\\x01 \\x19\\nD*p\\xd2\\xe9\\x8a\\x07x\\xfe\\xdb\\x97\\x83\\xba\\xcd\\xf09Z8g#9:SP\\xd8eD\\x01\\x0b8\\x111\\xf6\\x0f\\x1e\\xd9\\xf2\\xc5>Po\\x05\\xf1N#\\xad\\xa3H\\xfenZ\\xe4\\x14\\xa5\\x84\\xeb\\xb5\\xa6;\\x8d,\\xa0J+^\\x19G\\x9a\\x00\\xc5\\x13\\x02\\x03(\\xa0d\\xb7-\\xdb\"s\\x93\\xcf\\xd7j\\x04\\xed\\x87:\\xba@J\\x0c\\xa3\\xa6\\xf2\\xb0\\x91\\x05\\xecI}\\xfaU\\xc2\\xe7q6\\x02\\x0b\\x9c\\x97\\x9c\\x1e\\x9dq\\xb7F}\\xb4f\\x05k\\xbf\\xc0\\xd1\\x19\\xec\\xe3\\xf9\\x9b\\xfc\\xbd\\xcc\\xed\\x1c1\\xee\\x07\\xd0\\xe2c\\xc6\\x05\\x8e2\\xdby\\xad\\x8a\\xde\\xad\\xf1\\x11\\x86%\\x80\\x12\\x06nFY;\"5D*\\xc7\\xc6v\\x82\\xec7kn\\xaaa\\xb7&\\x84\\xc3\\x81ilDP\\xf2\\xad#3\\xfapmWG$\\x00:6\\xad|\\x9d\\xc0\\x9d&\\xf9@a\\x92\\xc3\\x80\\x1b4\\x88\\xd9\\xc5L\\xd94\\xf6\\xbboJ\\x12-\"\\xd0\\xc8]\\xe1\\x03\\xebW\\xfcI\\x80ME\\xf3\\x01\\xcf\\xde4\\xd4Z\\x10\\xa7\\rA\\t\\x03\\xd7\\x13\\xd3\\xe5\\xa7R\\x7fpo\\xc9\\xcf\\x05\\x0elh\\xfe\\xaeR?K\\xf0t`>\\xa06\\xdcZbx\\xa2!(E)\\xe11\\xc5\\xff\\x80\\xf2u\\xa9\\x7f\\xf6\\x9e\\t?\\x19\\xea\\xdat\\xdb\\x93\\x00\\xaeZ|\\xdf\\x8e\\xf7\\x8c[\\x15\\rT\\xce\\xb1s\\xc6\\xcc\\xb7\\xf0\\x85\\x92\\xc3\\x9cZ\\x7f@\\x82{2\\xf7\\xae\\xce\\x9e\\x9e\\xba\\xc0I\\x9c\\xd4iXd\\xe6\\x96\\xeb\\xb5c\\x81C\\xa8@\\x0f\\xfev\\xe5\\xcb\\xb2r\\xa7\\xf5\\xa6\\x1e\\x93\\xe3\\x99o\\xf6\\x80\\\\hX\\x9af\\x8f\\xbb|O\\xae\\xde\\xb9\\x11o\\xe1(\\x1f\\x00\\xa7\\xef\\xca\\x00\\xe0+h (C /\\x05&9`N\\xe3\\xd9}D\\xf7I\\xdd\\xc1U1< \\x11\\xa54u\\xe65\\xa0\\xd6D*q\\x15\\xef\\x8a\\xe9\\t\\x11\\x83\\xc6Dii\\xac\\xeb:Q\\xee\\xe3\\xcd\\xe5\\x05\\xc0\\xbc4-\\xe6\\',\\xc0\\xfa#\\xc8Y\\x00\\x97x\\xc3[y\\x8f\\x88\\x94\\x0f\\x00X9\\x8dN\\xac\\xc8\\x19\\x03Y/\\xf5\\xfb\\x8f\\x03\\x00_\\xfc\\xd82\\x08\\x9ev\\x07\\xf7r\\x02P\\xbe\\x93\\xa2\\xaa\\x03e\\x89\\xfd\\xd0\\xdfI}\\xe7qG\\xdc\\xeb\\x9e{\\x06\\xc0\\x0b.\\x0b\\x18\\x8c\\'\\x00HwEzR\\x13\\x08Jz\\xd4\\xa7\\xa6\\x1au1\\xa0;\\xa6\\x16\\x80\\x0e\\xf3|>,\\xf3\\xc3J\\x1e\\xfbx\\xd2\\x91\\xb7w\\xf1\\x87 h\\xcc\\xdd1\\x0f\\xc62\\x0f\\x00\\x00\\x9el\\xfe9\\xa8wF\\xeb\\xe5\\xb9\\xdf\\xe7\\x8c!\\x80; 2+s\\xe6\\x07\\xd3\\xec~\\xdd6\\xa9\\xef\\xba7\\xa6N\\x10\\xc04\\xdc\\x8bQ}?\\xa8K\\xa258\\x0b\\x1c{\\r -y\\xcb\\x7f\\xc6\\xf9\\xaa\\xb6\\xd8f\\x829\\x8a\\xa6\\x12\\xe8;\\xb6\\x16b\\xad\\x07uz\\x91^\\xbd\\xc9\\x96\\x97\\x00\\xb9\\x0f\\xf5\\xcfn\\x17)\\xf7A\\xd9I\\xfc\\xaf1\\x9e\\xbc\\xf92\\x8c\\x8e\\xac\\x06\\xf8U\\xc0>p\\x91\\xaf\\xfd\\xf0\\xd1\\x0b\\xe1/\\x91\\xc6c\\xb2\\xb0\\xeb|\\xeck\\x81P0^\\xfe\\xd4,h\\xba\\x0e`\\x1d\\xa0\\x0b2\\xbfQ\\x07\"\\t\\xe0\"\\x04\\xafA\\xd1\\x0f\\xf0y\\x08\\x0e\\xa1R\\x0e\\xc9\\xfc\\xe7\\xce`jL\\x8d\\xa915&y\\xfc\\x17\\xe4\\xcc\\xfc\\xa7\\x9c\\xd5n\\x7f\\x00\\x00\\x00\\x00IEND\\xaeB`\\x82'\n"
     ]
    }
   ],
   "source": [
    "with open(\"logo.png\", \"rb\") as f: # rb is used for reading binary mode\n",
    "    print(f.read())"
   ]
  },
  {
   "cell_type": "code",
   "execution_count": 30,
   "id": "83977ec4-b227-4ae7-931f-db8bf866e20a",
   "metadata": {},
   "outputs": [],
   "source": [
    "#JSON String"
   ]
  },
  {
   "cell_type": "code",
   "execution_count": 30,
   "id": "635f76a5-2b5a-47cd-854c-3c7ccf71cb78",
   "metadata": {},
   "outputs": [
    {
     "name": "stdout",
     "output_type": "stream",
     "text": [
      "{\"name\": \"ram\", \"age\": 22, \"address\": \"ktm\", \"skills\": [\"python\", \"Django\", \"Machine Learning\"], \"is_programmer\": true, \"phone\": null} <class 'str'>\n"
     ]
    }
   ],
   "source": [
    "#JSON String\n",
    "import json\n",
    "person={\n",
    "    \"name\":\"ram\",\n",
    "    \"age\":22,\n",
    "    'address':'ktm',\n",
    "    \"skills\":['python','Django' ,'Machine Learning'],\n",
    "    \"is_programmer\":True,\n",
    "    \"phone\": None\n",
    "}\n",
    "x=json.dumps(person)\n",
    "print(x,type(x))"
   ]
  },
  {
   "cell_type": "code",
   "execution_count": 31,
   "id": "c1f148ab-1049-48ef-95c1-e4ac5c17b1e8",
   "metadata": {},
   "outputs": [
    {
     "name": "stdout",
     "output_type": "stream",
     "text": [
      "[{\"name\": \"ram\", \"age\": 22, \"address\": \"ktm\", \"skills\": [\"python\", \"Django\", \"Machine Learning\"], \"is_programmer\": true, \"phone\": null}] <class 'str'>\n"
     ]
    }
   ],
   "source": [
    "#JSON String\n",
    "import json\n",
    "person=[{\n",
    "    \"name\":\"ram\",\n",
    "    \"age\":22,\n",
    "    'address':'ktm',\n",
    "    \"skills\":['python','Django' ,'Machine Learning'],\n",
    "    \"is_programmer\":True,\n",
    "    \"phone\": None\n",
    "}]\n",
    "x=json.dumps(person)\n",
    "print(x,type(x))\n"
   ]
  },
  {
   "cell_type": "code",
   "execution_count": 32,
   "id": "80425500-d472-47e5-88c7-9cef1b65e607",
   "metadata": {},
   "outputs": [
    {
     "name": "stdout",
     "output_type": "stream",
     "text": [
      "[{'name': 'ram', 'age': 22, 'address': 'ktm', 'skills': ['python', 'Django', 'Machine Learning'], 'is_programmer': True, 'phone': None}] <class 'list'>\n"
     ]
    }
   ],
   "source": [
    "import json\n",
    "json_string=\"\"\"\n",
    "[{\n",
    "\"name\": \"ram\",\n",
    "\"age\": 22,\n",
    "\"address\": \"ktm\",\n",
    "\"skills\": [\"python\", \"Django\", \"Machine Learning\"], \n",
    "\"is_programmer\": true, \n",
    "\"phone\": null\n",
    "}]\n",
    "\n",
    "\"\"\"\n",
    "x=json.loads(json_string)\n",
    "print(x,type(x))\n"
   ]
  },
  {
   "cell_type": "code",
   "execution_count": 33,
   "id": "d72e0773-ffa2-45ec-a96c-2e1f57965e74",
   "metadata": {},
   "outputs": [
    {
     "name": "stdout",
     "output_type": "stream",
     "text": [
      "[{\"name\": \"ram\", \"age\": 22, \"address\": \"ktm\", \"skills\": [\"python\", \"Django\", \"Machine Learning\"], \"is_programmer\": true, \"phone\": null}] <class 'str'>\n"
     ]
    }
   ],
   "source": [
    "#JSON String\n",
    "import json\n",
    "person=[{\n",
    "    \"name\":\"ram\",\n",
    "    \"age\":22,\n",
    "    'address':'ktm',\n",
    "    \"skills\":['python','Django' ,'Machine Learning'],\n",
    "    \"is_programmer\":True,\n",
    "    \"phone\": None\n",
    "}]\n",
    "x=json.dumps(person)\n",
    "print(x,type(x))\n",
    "# that  x is used to store in person.json file\n",
    "with open(\"person.json\", \"w\") as f:\n",
    "    f.write(x)"
   ]
  },
  {
   "cell_type": "code",
   "execution_count": 38,
   "id": "f20e9567-08b7-439c-84f4-6f05cb44a053",
   "metadata": {},
   "outputs": [
    {
     "name": "stdout",
     "output_type": "stream",
     "text": [
      "[\n",
      "    {\n",
      "        \"name\": \"ram\",\n",
      "        \"age\": 22,\n",
      "        \"address\": \"ktm\",\n",
      "        \"skills\": [\n",
      "            \"python\",\n",
      "            \"Django\",\n",
      "            \"Machine Learning\"\n",
      "        ],\n",
      "        \"is_programmer\": true,\n",
      "        \"phone\": null\n",
      "    }\n",
      "]\n"
     ]
    }
   ],
   "source": [
    "#JSON String\n",
    "import json\n",
    "person=[{\n",
    "    \"name\":\"ram\",\n",
    "    \"age\":22,\n",
    "    'address':'ktm',\n",
    "    \"skills\":['python','Django' ,'Machine Learning'],\n",
    "    \"is_programmer\":True,\n",
    "    \"phone\": None\n",
    "}]\n",
    "\n",
    "with open (\"person.json\",\"w\") as f:\n",
    "    json.dump(person,f,indent=4)\n",
    "with open(\"person.json\",\"r\") as f:\n",
    "    data =f.read()\n",
    "    print(data)\n"
   ]
  },
  {
   "cell_type": "code",
   "execution_count": 39,
   "id": "3d6d2a0c-041b-4129-984c-87de3a80059b",
   "metadata": {},
   "outputs": [
    {
     "name": "stdout",
     "output_type": "stream",
     "text": [
      "python <class 'list'>\n"
     ]
    }
   ],
   "source": [
    "with open(\"person.json\",\"r\") as f:\n",
    "    data=f.read()\n",
    "    x=json.loads(data)\n",
    "    print(x[0]['skills'][0],type(x))"
   ]
  },
  {
   "cell_type": "code",
   "execution_count": 40,
   "id": "795f98ae-fe91-45c7-871a-6132333e2162",
   "metadata": {},
   "outputs": [
    {
     "name": "stdout",
     "output_type": "stream",
     "text": [
      "[{'name': 'ram', 'age': 22, 'address': 'ktm', 'skills': ['python', 'Django', 'Machine Learning'], 'is_programmer': True, 'phone': None}]\n"
     ]
    }
   ],
   "source": [
    "with open(\"person.json\",\"r\") as f:\n",
    " \n",
    "    x=json.load(f)\n",
    "    print(x)"
   ]
  },
  {
   "cell_type": "code",
   "execution_count": null,
   "id": "ad6f2fb6-8b5d-43fa-885a-9b58b640a09e",
   "metadata": {},
   "outputs": [],
   "source": []
  }
 ],
 "metadata": {
  "kernelspec": {
   "display_name": "Python 3 (ipykernel)",
   "language": "python",
   "name": "python3"
  },
  "language_info": {
   "codemirror_mode": {
    "name": "ipython",
    "version": 3
   },
   "file_extension": ".py",
   "mimetype": "text/x-python",
   "name": "python",
   "nbconvert_exporter": "python",
   "pygments_lexer": "ipython3",
   "version": "3.13.0"
  }
 },
 "nbformat": 4,
 "nbformat_minor": 5
}
