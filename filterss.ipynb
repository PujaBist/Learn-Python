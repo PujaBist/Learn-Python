{
 "cells": [
  {
   "cell_type": "code",
   "execution_count": 7,
   "id": "c7457f34-5972-4cc6-96fb-7af187cc4a97",
   "metadata": {},
   "outputs": [],
   "source": [
    "#factorial(5)=5*4*3*2*1\n",
    "def factorial(n) :\n",
    "    fact=1\n",
    "    for i in range(n,0,-1) :#(start from, ak value kam dinch,decrement/increment)\n",
    "        fact *=i\n",
    "    return fact\n",
    "    "
   ]
  },
  {
   "cell_type": "code",
   "execution_count": 8,
   "id": "614cdb0f-1ec5-4ea4-943b-9d97f5a70190",
   "metadata": {},
   "outputs": [
    {
     "data": {
      "text/plain": [
       "720"
      ]
     },
     "execution_count": 8,
     "metadata": {},
     "output_type": "execute_result"
    }
   ],
   "source": [
    "factorial(6)\n"
   ]
  },
  {
   "cell_type": "code",
   "execution_count": 9,
   "id": "ec83acfe-b89c-491d-ba4a-42e5535ca3cf",
   "metadata": {},
   "outputs": [
    {
     "name": "stdout",
     "output_type": "stream",
     "text": [
      "1\n",
      "2\n",
      "3\n",
      "4\n",
      "5\n",
      "6\n",
      "7\n",
      "8\n",
      "9\n"
     ]
    }
   ],
   "source": [
    "for i in range(1,10,1):\n",
    "    print(i)"
   ]
  },
  {
   "cell_type": "code",
   "execution_count": null,
   "id": "7c76da30-17ea-42a3-959f-014ef2814741",
   "metadata": {},
   "outputs": [],
   "source": [
    "#recursion =>calling itself\n",
    "def hello():\n",
    "    print('Hello')\n",
    "    hello()\n",
    "hello()"
   ]
  },
  {
   "cell_type": "code",
   "execution_count": 18,
   "id": "74fe27c2-7984-4794-9a82-28a549486498",
   "metadata": {},
   "outputs": [],
   "source": [
    "#recursive function hunalai \n",
    "# 1. call itself\n",
    "#2.base condition =>terminating condition /returning"
   ]
  },
  {
   "cell_type": "code",
   "execution_count": 1,
   "id": "7fcdc42b-c71b-4373-a93d-5c6b2a954409",
   "metadata": {},
   "outputs": [],
   "source": [
    "def factorial(n) :\n",
    "    \n",
    "    \n",
    "    if n <=1 :\n",
    "        return 1\n",
    "    else:\n",
    "        return n* factorial(n-1)\n",
    "        # 5*factorial(4)\n",
    "        #5*4*factorial(3)"
   ]
  },
  {
   "cell_type": "code",
   "execution_count": 2,
   "id": "f2a10882-10f1-43c0-b68a-0c308f1e7228",
   "metadata": {},
   "outputs": [
    {
     "data": {
      "text/plain": [
       "120"
      ]
     },
     "execution_count": 2,
     "metadata": {},
     "output_type": "execute_result"
    }
   ],
   "source": [
    "factorial(5)"
   ]
  },
  {
   "cell_type": "raw",
   "id": "75affe30-7d59-429c-aaac-37dfa48e50bc",
   "metadata": {},
   "source": [
    "#factorial(5)=5*4*3*2*1\n",
    "def factorial(n) :\n",
    "    fact=1\n",
    "    for i in range(n,0,-1) :#(start from, ak value kam dinch,decrement/increment)\n",
    "        fact *=i\n",
    "    return fact\n",
    "import sys\n",
    "sys.set_int_max_str_digits(1_00_000)\n",
    "factorial(50)\n",
    "# recursion r loop bat slove hunch vaney loop use garney because it takes less memory\n"
   ]
  },
  {
   "cell_type": "code",
   "execution_count": 4,
   "id": "20abcb82-9688-454d-b77e-2b4806d3c107",
   "metadata": {},
   "outputs": [
    {
     "data": {
      "text/plain": [
       "4"
      ]
     },
     "execution_count": 4,
     "metadata": {},
     "output_type": "execute_result"
    }
   ],
   "source": [
    "def square(n) :\n",
    "     return n**2\n",
    "\n",
    "square(2)"
   ]
  },
  {
   "cell_type": "code",
   "execution_count": null,
   "id": "c2b1b817-0330-4fa8-a640-bdc4cd33e8a7",
   "metadata": {},
   "outputs": [],
   "source": [
    "#next way to generate  function\n",
    "#input linch :output generate\n",
    "# "
   ]
  },
  {
   "cell_type": "code",
   "execution_count": 5,
   "id": "264ba85a-90fc-48d3-88a5-e52947ce4f6d",
   "metadata": {},
   "outputs": [
    {
     "data": {
      "text/plain": [
       "16"
      ]
     },
     "execution_count": 5,
     "metadata": {},
     "output_type": "execute_result"
    }
   ],
   "source": [
    "s=lambda n : n**2 #anonymous function /lambda\n",
    "s(4)"
   ]
  },
  {
   "cell_type": "code",
   "execution_count": 8,
   "id": "5fe661b7-2389-4bf8-a53f-317651130a1d",
   "metadata": {},
   "outputs": [
    {
     "data": {
      "text/plain": [
       "5"
      ]
     },
     "execution_count": 8,
     "metadata": {},
     "output_type": "execute_result"
    }
   ],
   "source": [
    "def addition(x,y) :\n",
    "    return x+y\n",
    "s(2,3)"
   ]
  },
  {
   "cell_type": "code",
   "execution_count": 7,
   "id": "4c8c31c2-2518-4c61-9a67-2fc22891d785",
   "metadata": {},
   "outputs": [
    {
     "data": {
      "text/plain": [
       "5"
      ]
     },
     "execution_count": 7,
     "metadata": {},
     "output_type": "execute_result"
    }
   ],
   "source": [
    "s= lambda x,y: x+y\n",
    "s(2,3)"
   ]
  },
  {
   "cell_type": "code",
   "execution_count": 9,
   "id": "31938e77-2029-433f-a278-fc043f8e34e9",
   "metadata": {},
   "outputs": [],
   "source": [
    "# boolean / Truthness\n"
   ]
  },
  {
   "cell_type": "code",
   "execution_count": 10,
   "id": "34c1cf92-8f57-4257-9915-3a8b50571513",
   "metadata": {},
   "outputs": [
    {
     "data": {
      "text/plain": [
       "False"
      ]
     },
     "execution_count": 10,
     "metadata": {},
     "output_type": "execute_result"
    }
   ],
   "source": [
    "bool(0)"
   ]
  },
  {
   "cell_type": "code",
   "execution_count": 11,
   "id": "447de3fd-8e2e-476c-9a05-0ac8e4d4a191",
   "metadata": {},
   "outputs": [
    {
     "data": {
      "text/plain": [
       "False"
      ]
     },
     "execution_count": 11,
     "metadata": {},
     "output_type": "execute_result"
    }
   ],
   "source": [
    "bool(None)"
   ]
  },
  {
   "cell_type": "code",
   "execution_count": 12,
   "id": "4adfbf7f-3bec-44ed-8e2f-989901b08d1a",
   "metadata": {},
   "outputs": [],
   "source": [
    "#0,0.0.,oj,'',None,[],{},(),set(),False,range(0) =>Boolean value /Truthness => always give False value"
   ]
  },
  {
   "cell_type": "code",
   "execution_count": 13,
   "id": "f9dc65d8-d2e3-4c4a-aeec-2eb0f9e8c199",
   "metadata": {},
   "outputs": [
    {
     "name": "stdout",
     "output_type": "stream",
     "text": [
      "Help on class filter in module builtins:\n",
      "\n",
      "class filter(object)\n",
      " |  filter(function, iterable, /)\n",
      " |\n",
      " |  Return an iterator yielding those items of iterable for which function(item)\n",
      " |  is true. If function is None, return the items that are true.\n",
      " |\n",
      " |  Methods defined here:\n",
      " |\n",
      " |  __getattribute__(self, name, /)\n",
      " |      Return getattr(self, name).\n",
      " |\n",
      " |  __iter__(self, /)\n",
      " |      Implement iter(self).\n",
      " |\n",
      " |  __next__(self, /)\n",
      " |      Implement next(self).\n",
      " |\n",
      " |  __reduce__(self, /)\n",
      " |      Return state information for pickling.\n",
      " |\n",
      " |  ----------------------------------------------------------------------\n",
      " |  Static methods defined here:\n",
      " |\n",
      " |  __new__(*args, **kwargs)\n",
      " |      Create and return a new object.  See help(type) for accurate signature.\n",
      "\n"
     ]
    }
   ],
   "source": [
    "help(filter)"
   ]
  },
  {
   "cell_type": "code",
   "execution_count": 14,
   "id": "c11dfd9e-da2d-40be-b8dd-b35ed14521ef",
   "metadata": {},
   "outputs": [
    {
     "data": {
      "text/plain": [
       "<filter at 0x17975c60dc0>"
      ]
     },
     "execution_count": 14,
     "metadata": {},
     "output_type": "execute_result"
    }
   ],
   "source": [
    "filter(None,[1,2,0,False,5,'ram',{},5.5])"
   ]
  },
  {
   "cell_type": "code",
   "execution_count": 16,
   "id": "0ec99f52-39f4-42c9-ac11-b7a8db84e1e4",
   "metadata": {},
   "outputs": [
    {
     "data": {
      "text/plain": [
       "[1, 2, 5, 'ram', 5.5]"
      ]
     },
     "execution_count": 16,
     "metadata": {},
     "output_type": "execute_result"
    }
   ],
   "source": [
    "list(filter(None,[1,2,0,False,5,'ram',{},5.5]))"
   ]
  },
  {
   "cell_type": "code",
   "execution_count": 17,
   "id": "b55ba153-e285-4d7c-bf74-90431142008d",
   "metadata": {},
   "outputs": [
    {
     "name": "stdout",
     "output_type": "stream",
     "text": [
      "1\n",
      "2\n",
      "5\n",
      "ram\n",
      "5.5\n"
     ]
    }
   ],
   "source": [
    "for i in filter(None,[1,2,0,False,5,'ram',{},5.5]) :\n",
    "    print(i)"
   ]
  },
  {
   "cell_type": "code",
   "execution_count": 18,
   "id": "5e9ec8be-8641-46b0-b157-995291d04223",
   "metadata": {},
   "outputs": [],
   "source": [
    "x=filter(None,[1,2,0,False,5,'ram',{},5.5])\n"
   ]
  },
  {
   "cell_type": "code",
   "execution_count": 19,
   "id": "02bdde28-3a86-4a70-aeb1-770018a94a77",
   "metadata": {},
   "outputs": [
    {
     "data": {
      "text/plain": [
       "1"
      ]
     },
     "execution_count": 19,
     "metadata": {},
     "output_type": "execute_result"
    }
   ],
   "source": [
    "next(x)"
   ]
  },
  {
   "cell_type": "code",
   "execution_count": 20,
   "id": "f8bab003-0c74-4e83-9166-c154763caac8",
   "metadata": {},
   "outputs": [
    {
     "data": {
      "text/plain": [
       "2"
      ]
     },
     "execution_count": 20,
     "metadata": {},
     "output_type": "execute_result"
    }
   ],
   "source": [
    "next(x)"
   ]
  },
  {
   "cell_type": "code",
   "execution_count": 21,
   "id": "76e9fa50-2fa4-4d3c-9c43-490bc5a40bf1",
   "metadata": {},
   "outputs": [
    {
     "data": {
      "text/plain": [
       "5"
      ]
     },
     "execution_count": 21,
     "metadata": {},
     "output_type": "execute_result"
    }
   ],
   "source": [
    "next(x)"
   ]
  },
  {
   "cell_type": "code",
   "execution_count": 22,
   "id": "5360208d-5414-4d66-a193-79d3f7543e1c",
   "metadata": {},
   "outputs": [
    {
     "data": {
      "text/plain": [
       "'ram'"
      ]
     },
     "execution_count": 22,
     "metadata": {},
     "output_type": "execute_result"
    }
   ],
   "source": [
    "next(x)"
   ]
  },
  {
   "cell_type": "code",
   "execution_count": 23,
   "id": "c3311954-3851-4eb4-ba07-0345adef051e",
   "metadata": {},
   "outputs": [
    {
     "data": {
      "text/plain": [
       "5.5"
      ]
     },
     "execution_count": 23,
     "metadata": {},
     "output_type": "execute_result"
    }
   ],
   "source": [
    "next(x)"
   ]
  },
  {
   "cell_type": "code",
   "execution_count": 32,
   "id": "5a6455c6-f543-4bbd-b626-db1cf287f788",
   "metadata": {},
   "outputs": [],
   "source": [
    "def is_odd(n) :\n",
    "    if n%2 ==1 :\n",
    "        return True\n",
    "    else :\n",
    "        return False"
   ]
  },
  {
   "cell_type": "code",
   "execution_count": 35,
   "id": "8276697c-b9da-4324-874b-4be5a6003c21",
   "metadata": {},
   "outputs": [
    {
     "data": {
      "text/plain": [
       "False"
      ]
     },
     "execution_count": 35,
     "metadata": {},
     "output_type": "execute_result"
    }
   ],
   "source": [
    "is_odd(6)"
   ]
  },
  {
   "cell_type": "code",
   "execution_count": 36,
   "id": "74397b13-38fd-44f0-8891-c54db02c7be5",
   "metadata": {},
   "outputs": [
    {
     "data": {
      "text/plain": [
       "[1, 3, 45, 9]"
      ]
     },
     "execution_count": 36,
     "metadata": {},
     "output_type": "execute_result"
    }
   ],
   "source": [
    "#filters ma function pani use hunch\n",
    "list(filter(is_odd,[1,2,3,45,56,78,9]))"
   ]
  },
  {
   "cell_type": "code",
   "execution_count": 37,
   "id": "e2d96f01-49ec-4251-bd3f-5471164a6694",
   "metadata": {},
   "outputs": [],
   "source": [
    "def is_odd(n) :\n",
    "    return n % 2==1"
   ]
  },
  {
   "cell_type": "code",
   "execution_count": 38,
   "id": "b41252f7-ba63-4e39-9048-fa3b8714e631",
   "metadata": {},
   "outputs": [
    {
     "data": {
      "text/plain": [
       "True"
      ]
     },
     "execution_count": 38,
     "metadata": {},
     "output_type": "execute_result"
    }
   ],
   "source": [
    "is_odd(3)"
   ]
  },
  {
   "cell_type": "code",
   "execution_count": 39,
   "id": "392ae8f6-8e40-48ce-a32c-81a5e135fdbe",
   "metadata": {},
   "outputs": [
    {
     "data": {
      "text/plain": [
       "False"
      ]
     },
     "execution_count": 39,
     "metadata": {},
     "output_type": "execute_result"
    }
   ],
   "source": [
    "is_odd(4)"
   ]
  },
  {
   "cell_type": "code",
   "execution_count": 40,
   "id": "42c109ad-311b-4701-8933-e8ab54e2a896",
   "metadata": {},
   "outputs": [],
   "source": [
    "a= lambda n : n%2==1"
   ]
  },
  {
   "cell_type": "code",
   "execution_count": 41,
   "id": "3fed4184-fb46-44ce-982b-16a4f10bdde5",
   "metadata": {},
   "outputs": [
    {
     "data": {
      "text/plain": [
       "False"
      ]
     },
     "execution_count": 41,
     "metadata": {},
     "output_type": "execute_result"
    }
   ],
   "source": [
    "a(8)"
   ]
  },
  {
   "cell_type": "code",
   "execution_count": 42,
   "id": "a8c84ce5-c904-4748-b137-777b6c9ae6e6",
   "metadata": {},
   "outputs": [
    {
     "data": {
      "text/plain": [
       "True"
      ]
     },
     "execution_count": 42,
     "metadata": {},
     "output_type": "execute_result"
    }
   ],
   "source": [
    "a(7)"
   ]
  },
  {
   "cell_type": "code",
   "execution_count": 43,
   "id": "f6495fe6-65a4-4e82-a738-724d11bce855",
   "metadata": {},
   "outputs": [
    {
     "data": {
      "text/plain": [
       "[1, 3, 45, 9]"
      ]
     },
     "execution_count": 43,
     "metadata": {},
     "output_type": "execute_result"
    }
   ],
   "source": [
    "list(filter(lambda n : n%2==1,[1,2,3,45,56,78,9]))"
   ]
  },
  {
   "cell_type": "code",
   "execution_count": 44,
   "id": "5f43d9d5-b27e-4ffc-9de2-d762b5d2d7fc",
   "metadata": {},
   "outputs": [
    {
     "name": "stdout",
     "output_type": "stream",
     "text": [
      "Help on class map in module builtins:\n",
      "\n",
      "class map(object)\n",
      " |  map(function, iterable, /, *iterables)\n",
      " |\n",
      " |  Make an iterator that computes the function using arguments from\n",
      " |  each of the iterables.  Stops when the shortest iterable is exhausted.\n",
      " |\n",
      " |  Methods defined here:\n",
      " |\n",
      " |  __getattribute__(self, name, /)\n",
      " |      Return getattr(self, name).\n",
      " |\n",
      " |  __iter__(self, /)\n",
      " |      Implement iter(self).\n",
      " |\n",
      " |  __next__(self, /)\n",
      " |      Implement next(self).\n",
      " |\n",
      " |  __reduce__(self, /)\n",
      " |      Return state information for pickling.\n",
      " |\n",
      " |  ----------------------------------------------------------------------\n",
      " |  Static methods defined here:\n",
      " |\n",
      " |  __new__(*args, **kwargs)\n",
      " |      Create and return a new object.  See help(type) for accurate signature.\n",
      "\n"
     ]
    }
   ],
   "source": [
    "help(map)"
   ]
  },
  {
   "cell_type": "code",
   "execution_count": 45,
   "id": "48004b35-1595-4b21-9d1d-3fcbd2f993fb",
   "metadata": {},
   "outputs": [],
   "source": [
    "def square(n):\n",
    "    return n**2\n",
    "    "
   ]
  },
  {
   "cell_type": "code",
   "execution_count": 46,
   "id": "d47516ee-fb08-4614-a4c7-a5e06a0fdb6f",
   "metadata": {},
   "outputs": [
    {
     "data": {
      "text/plain": [
       "[1, 4, 9, 16]"
      ]
     },
     "execution_count": 46,
     "metadata": {},
     "output_type": "execute_result"
    }
   ],
   "source": [
    "list(map(square,[1,2,3,4]))"
   ]
  },
  {
   "cell_type": "code",
   "execution_count": 47,
   "id": "2e3c3206-71a9-481f-bbd9-ca495da64b9a",
   "metadata": {},
   "outputs": [],
   "source": [
    "a=lambda n:n**2"
   ]
  },
  {
   "cell_type": "code",
   "execution_count": 48,
   "id": "ccbd620b-7df0-48ec-b716-9709c4ca3200",
   "metadata": {},
   "outputs": [
    {
     "data": {
      "text/plain": [
       "[1, 4, 9, 16]"
      ]
     },
     "execution_count": 48,
     "metadata": {},
     "output_type": "execute_result"
    }
   ],
   "source": [
    "list(map(lambda n:n**2,[1,2,3,4]))"
   ]
  },
  {
   "cell_type": "code",
   "execution_count": 57,
   "id": "01b2f96c-7cee-43a9-b335-67532f6f3bcb",
   "metadata": {},
   "outputs": [
    {
     "data": {
      "text/plain": [
       "2"
      ]
     },
     "execution_count": 57,
     "metadata": {},
     "output_type": "execute_result"
    }
   ],
   "source": [
    "int('2')"
   ]
  },
  {
   "cell_type": "code",
   "execution_count": 54,
   "id": "5cbd6171-1dff-43b6-a070-92f6f372439c",
   "metadata": {},
   "outputs": [
    {
     "data": {
      "text/plain": [
       "[1, 2]"
      ]
     },
     "execution_count": 54,
     "metadata": {},
     "output_type": "execute_result"
    }
   ],
   "source": [
    "strings=['1','2','3'] # conversion of strings into integer\n",
    "list(map(int,strings))"
   ]
  },
  {
   "cell_type": "code",
   "execution_count": 62,
   "id": "b0fa5770-6556-41c3-a2be-613580f40e25",
   "metadata": {},
   "outputs": [
    {
     "name": "stdout",
     "output_type": "stream",
     "text": [
      "[5, 7, 9]\n"
     ]
    }
   ],
   "source": [
    "def addition(x,y) :\n",
    "    return x+y\n",
    "a=[1,2,3]\n",
    "b=[4,5,6,7]\n",
    "added=list(map(addition,a,b))\n",
    "print(added)"
   ]
  },
  {
   "cell_type": "code",
   "execution_count": 66,
   "id": "0f3be053-e56f-41ad-ab35-9814f15e766f",
   "metadata": {},
   "outputs": [
    {
     "name": "stdout",
     "output_type": "stream",
     "text": [
      "Help on built-in function reduce in module _functools:\n",
      "\n",
      "reduce(...)\n",
      "    reduce(function, iterable[, initial], /) -> value\n",
      "\n",
      "    Apply a function of two arguments cumulatively to the items of a sequence\n",
      "    or iterable, from left to right, so as to reduce the iterable to a single\n",
      "    value.  For example, reduce(lambda x, y: x+y, [1, 2, 3, 4, 5]) calculates\n",
      "    ((((1+2)+3)+4)+5).  If initial is present, it is placed before the items\n",
      "    of the iterable in the calculation, and serves as a default when the\n",
      "    iterable is empty.\n",
      "\n"
     ]
    }
   ],
   "source": [
    "from functools import reduce\n",
    "help(reduce)"
   ]
  },
  {
   "cell_type": "code",
   "execution_count": 71,
   "id": "12b1f3f4-c678-4500-a42c-27f2598b11f6",
   "metadata": {},
   "outputs": [
    {
     "data": {
      "text/plain": [
       "10"
      ]
     },
     "execution_count": 71,
     "metadata": {},
     "output_type": "execute_result"
    }
   ],
   "source": [
    "def addition (x,y) :\n",
    "    return x+y\n",
    "reduce(addition,[1,2,3,4]) # 1,2,3,4 => 1+2,3,4 (3,3,4) =>6,4 =>10\n",
    "# yo le iteratively answer dinna it doesnt usee list"
   ]
  },
  {
   "cell_type": "code",
   "execution_count": null,
   "id": "9116be47-d935-4b9c-9690-b5d05fdbf244",
   "metadata": {},
   "outputs": [],
   "source": []
  }
 ],
 "metadata": {
  "kernelspec": {
   "display_name": "Python 3 (ipykernel)",
   "language": "python",
   "name": "python3"
  },
  "language_info": {
   "codemirror_mode": {
    "name": "ipython",
    "version": 3
   },
   "file_extension": ".py",
   "mimetype": "text/x-python",
   "name": "python",
   "nbconvert_exporter": "python",
   "pygments_lexer": "ipython3",
   "version": "3.13.0"
  }
 },
 "nbformat": 4,
 "nbformat_minor": 5
}
