{
 "cells": [
  {
   "cell_type": "code",
   "execution_count": 14,
   "id": "f21193b1-5258-4d64-bb14-1df55c09dbcd",
   "metadata": {},
   "outputs": [
    {
     "name": "stdout",
     "output_type": "stream",
     "text": [
      "\"('Name', 'Address', 'Age')\",\"('Puja', 'ktm', 22)\",\"('ram', 'ktm', 22)\",\"('Sita', 'pkh', 20)\",\"('Kabi', 'india', 19)\"\n",
      "\n",
      "\n"
     ]
    }
   ],
   "source": [
    "# read garne file lai \n",
    "with open (\"sample_users.csv\",\"r\") as f: #csv =>comma seperated value\n",
    "    print(f.read())"
   ]
  },
  {
   "cell_type": "code",
   "execution_count": 18,
   "id": "1b4fbf85-ee32-4391-8223-ae8350290a8c",
   "metadata": {},
   "outputs": [
    {
     "name": "stdout",
     "output_type": "stream",
     "text": [
      "('Name', 'Address', 'Age') ('Puja', 'ktm', 22)\n"
     ]
    },
    {
     "ename": "IndexError",
     "evalue": "list index out of range",
     "output_type": "error",
     "traceback": [
      "\u001b[31m---------------------------------------------------------------------------\u001b[39m",
      "\u001b[31mIndexError\u001b[39m                                Traceback (most recent call last)",
      "\u001b[36mCell\u001b[39m\u001b[36m \u001b[39m\u001b[32mIn[18]\u001b[39m\u001b[32m, line 5\u001b[39m\n\u001b[32m      3\u001b[39m data=csv.reader(f)\n\u001b[32m      4\u001b[39m \u001b[38;5;28;01mfor\u001b[39;00m i \u001b[38;5;129;01min\u001b[39;00m data :\n\u001b[32m----> \u001b[39m\u001b[32m5\u001b[39m     \u001b[38;5;28mprint\u001b[39m(\u001b[43mi\u001b[49m\u001b[43m[\u001b[49m\u001b[32;43m0\u001b[39;49m\u001b[43m]\u001b[49m,i[\u001b[32m1\u001b[39m]) \u001b[38;5;66;03m# first name oth index ma cha ra address 3rd index ma cha so, first name \u001b[39;00m\n\u001b[32m      6\u001b[39m     \u001b[38;5;66;03m# ra address jhikna ko lagi i[0] and i[3] gareko ho index bata acees grana ko lagi\u001b[39;00m\n",
      "\u001b[31mIndexError\u001b[39m: list index out of range"
     ]
    }
   ],
   "source": [
    "import csv \n",
    "with open(\"sample_users.csv\",\"r\") as f :\n",
    "    data=csv.reader(f)\n",
    "    for i in data :\n",
    "        print(i[0],i[3]) # first name oth index ma cha ra address 3rd index ma cha so, first name \n",
    "        # ra address jhikna ko lagi i[0] and i[3] gareko ho index bata acees grana ko lagi"
   ]
  },
  {
   "cell_type": "code",
   "execution_count": 29,
   "id": "25b387b8-521d-4c63-be6e-0a1eb6a42f3c",
   "metadata": {},
   "outputs": [],
   "source": [
    "# dictionary bata access grna ko lagi \n",
    "import csv\n",
    "with open(\"sample_users.csv\",\"r\")  as f:\n",
    "    data=csv.DictReader(f)\n",
    "    for i in data :\n",
    "        print(i['first_name'],i['address'])"
   ]
  },
  {
   "cell_type": "code",
   "execution_count": 9,
   "id": "780c76f0-0209-4f38-b224-a14485069aee",
   "metadata": {},
   "outputs": [],
   "source": [
    "#index baTA access garna ko i[0],i[1] but dictionary bata grna ko lagi i['first_name'] yesto grane\n",
    "#dictionary bata access  gareko better\n",
    "#json,csv(very imp)"
   ]
  },
  {
   "cell_type": "code",
   "execution_count": 30,
   "id": "a64965ca-300d-477a-a1cc-7daad3841c75",
   "metadata": {},
   "outputs": [],
   "source": [
    "import csv \n",
    "student=('Puja','ktm',22)\n",
    "\n",
    "with open(\"sample_users.csv\",\"w\") as f:\n",
    "    writer=csv.writer(f)\n",
    "    writer.writerow(student)"
   ]
  },
  {
   "cell_type": "code",
   "execution_count": 31,
   "id": "c6745d15-6475-47c3-b9b0-c6daed416b1b",
   "metadata": {},
   "outputs": [],
   "source": [
    "import csv \n",
    "students=[('Name','Address','Age'),\n",
    "          ('Puja','ktm',22),\n",
    "         ('ram','ktm',22),\n",
    "         ('Sita', 'pkh',20),\n",
    "         ('Kabi','india',19)]\n",
    "\n",
    "\n",
    "with open(\"sample_users.csv\",\"w\") as f:\n",
    "    writer=csv.writer(f)\n",
    "    writer.writerow(students)#bulk write / multiple write once"
   ]
  },
  {
   "cell_type": "code",
   "execution_count": 32,
   "id": "abdd3e6a-84c1-432a-a8f9-0c6e99389bda",
   "metadata": {},
   "outputs": [],
   "source": [
    "import csv\n",
    "student ={'name':\"Ram\", \"address\":\"ktm\",\"age\":22}\n",
    "\n",
    "with open(\"person.csv\",\"w\") as f:\n",
    "    writer=csv.DictWriter(f,fieldnames=student.keys())\n",
    "    writer.writeheader()\n",
    "    writer.writerow(student)\n",
    "    "
   ]
  },
  {
   "cell_type": "code",
   "execution_count": 33,
   "id": "f94097f5-1412-40c8-b439-dce70145a85d",
   "metadata": {},
   "outputs": [],
   "source": [
    "import csv\n",
    "students=[\n",
    "{'name':'puja', 'address':'ktm', 'Age':22},\n",
    "{'name':\"mamata\", 'address':'mnr', 'Age':20},\n",
    "{'name':'Kabi', 'address':'pkh', 'Age':20},\n",
    "]\n",
    "with open(\"students.csv\",\"w\") as f:\n",
    "    writer =csv.DictWriter(f,fieldnames=students[0].keys())\n",
    "    writer.writeheader()\n",
    "    for student in students:\n",
    "        writer.writerow(student) # single write once\n"
   ]
  },
  {
   "cell_type": "code",
   "execution_count": 34,
   "id": "b4ae6125-2ecb-47e4-9f97-5749bd07e39f",
   "metadata": {},
   "outputs": [],
   "source": [
    "import csv\n",
    "students=[\n",
    "{'name':'puja', 'address':'ktm', 'Age':22},\n",
    "{'name':\"mamata\", 'address':'mnr', 'Age':20},\n",
    "{'name':'Kabi', 'address':'pkh', 'Age':20},\n",
    "]\n",
    "with open(\"students.csv\",\"w\",newline='',encoding='utf-8') as f: # for removing extra row which is seen in excel\n",
    "    writer =csv.DictWriter(f,fieldnames=students[0].keys())\n",
    "    writer.writeheader()\n",
    "    writer.writerows(students) # bulk/multiple write once\n"
   ]
  },
  {
   "cell_type": "code",
   "execution_count": 35,
   "id": "b37e2c44-7e10-44bb-9cd6-f0bda1495d49",
   "metadata": {},
   "outputs": [
    {
     "name": "stdout",
     "output_type": "stream",
     "text": [
      "[1, 4, 9, 16, 25, 36]\n"
     ]
    }
   ],
   "source": [
    "ls=[1,2,3,4,5,6]\n",
    "square=[]\n",
    "for s in ls:\n",
    "    square.append(s**2)\n",
    "print(square)\n",
    "    \n"
   ]
  },
  {
   "cell_type": "code",
   "execution_count": 36,
   "id": "0e02279c-b79d-4add-b0f5-d5b6ee9e38cf",
   "metadata": {},
   "outputs": [
    {
     "name": "stdout",
     "output_type": "stream",
     "text": [
      "[1, 4, 9, 16, 25, 36]\n"
     ]
    }
   ],
   "source": [
    "ls=[1,2,3,4,5,6]\n",
    "#pythonic code\n",
    "squares=[i ** 2 for i in ls]# list compression\n",
    "print(squares)"
   ]
  },
  {
   "cell_type": "code",
   "execution_count": 37,
   "id": "8ca2817e-4ad1-4a5b-b2ff-4564122a9d34",
   "metadata": {},
   "outputs": [
    {
     "name": "stdout",
     "output_type": "stream",
     "text": [
      "Unauthorized\n"
     ]
    }
   ],
   "source": [
    "age=17\n",
    "if age< 18:\n",
    "    print(\"Unauthorized\")\n",
    "else :\n",
    "    print(\"authorized\")\n"
   ]
  },
  {
   "cell_type": "code",
   "execution_count": 38,
   "id": "c4939eb2-2abb-415d-9586-5afa01d066a5",
   "metadata": {},
   "outputs": [
    {
     "name": "stdout",
     "output_type": "stream",
     "text": [
      "Unauthorized\n"
     ]
    }
   ],
   "source": [
    "age =17\n",
    "#ternary operator\n",
    "is_authorized=\"Unauthorized\" if age< 18 else \"authorized\"\n",
    "print(is_authorized)"
   ]
  },
  {
   "cell_type": "code",
   "execution_count": 39,
   "id": "c5cd3645-b06c-4e70-9fc5-d65059de875e",
   "metadata": {},
   "outputs": [
    {
     "name": "stdout",
     "output_type": "stream",
     "text": [
      "['odd', 'odd', 'even', 'odd', 'even', 'even', 'even']\n"
     ]
    }
   ],
   "source": [
    "#pythonic way\n",
    "num=[1,23,4,3,4,2,2]\n",
    "ni=[\"even\" if i % 2==0 else \"odd\" for i in  num]\n",
    "print(ni)"
   ]
  },
  {
   "cell_type": "code",
   "execution_count": 40,
   "id": "7994e2b3-c358-47d4-ad6b-01d6253a008f",
   "metadata": {},
   "outputs": [
    {
     "name": "stdout",
     "output_type": "stream",
     "text": [
      "['odd', 'odd', 'even', 'odd', 'even', 'even', 'even']\n"
     ]
    }
   ],
   "source": [
    "#nonpythonic way\n",
    "num=[1,23,4,3,4,2,2]\n",
    "output=[]\n",
    "for i in num:\n",
    "     if i %2 ==0 :\n",
    "         output.append(\"even\")\n",
    "     else :\n",
    "         output.append(\"odd\")\n",
    "print(output)\n",
    "     "
   ]
  },
  {
   "cell_type": "code",
   "execution_count": 41,
   "id": "284d90ea-933f-402c-8f0c-e600804be60d",
   "metadata": {},
   "outputs": [
    {
     "name": "stdout",
     "output_type": "stream",
     "text": [
      "[3, 0, 1, 3, 4, 5, 6, 8, 10]\n"
     ]
    }
   ],
   "source": [
    "numbers=[-8,-7,3,-1,0,1,3,4,5,-7,6,8,10]\n",
    "#output=[3, 0, 1, 3, 4, 5, 6, 8, 10]\n",
    "s=[]\n",
    "#non-pytonic way\n",
    "for i in numbers :\n",
    "    if i >=0 :\n",
    "        s.append(i)\n",
    "print(s)"
   ]
  },
  {
   "cell_type": "code",
   "execution_count": 42,
   "id": "09637e4f-c2ff-4b21-801d-f2798e905ce5",
   "metadata": {},
   "outputs": [
    {
     "name": "stdout",
     "output_type": "stream",
     "text": [
      "[3, 1, 3, 4, 5, 6, 8, 10]\n"
     ]
    }
   ],
   "source": [
    "numbers=[-8,-7,3,-1,0,1,3,4,5,-7,6,8,10]\n",
    "#output=[3, 0, 1, 3, 4, 5, 6, 8, 10]\n",
    "# pythonic way\n",
    "s=[ i   for i in numbers if i >0]\n",
    "print(s)"
   ]
  },
  {
   "cell_type": "code",
   "execution_count": 43,
   "id": "7af18f9e-2089-494f-91f6-4107a77210a5",
   "metadata": {},
   "outputs": [
    {
     "name": "stdout",
     "output_type": "stream",
     "text": [
      "{'milk': 268.6935, 'bread': 340.782, 'butter': 340.782}\n"
     ]
    }
   ],
   "source": [
    "us_price ={'milk':2.05,'bread':2.6,'butter':2.6}\n",
    "nep_ruppe={}\n",
    "for product,price in us_price.items():\n",
    "    nep_ruppe.update({product:price*131.07})\n",
    "print(nep_ruppe)"
   ]
  },
  {
   "cell_type": "code",
   "execution_count": 44,
   "id": "5196a6b0-874d-4d88-b5b1-3913012a3921",
   "metadata": {},
   "outputs": [
    {
     "name": "stdout",
     "output_type": "stream",
     "text": [
      "{'milk': 268.6935, 'bread': 340.782, 'butter': 340.782}\n"
     ]
    }
   ],
   "source": [
    "us_price ={'milk':2.05,'bread':2.6,'butter':2.6}\n",
    "#pythonic way \n",
    "\n",
    "nep_ruppe={\n",
    "    product:price*131.07\n",
    "\n",
    "for product,price in us_price.items() }\n",
    "print(nep_ruppe)"
   ]
  }
 ],
 "metadata": {
  "kernelspec": {
   "display_name": "Python 3 (ipykernel)",
   "language": "python",
   "name": "python3"
  },
  "language_info": {
   "codemirror_mode": {
    "name": "ipython",
    "version": 3
   },
   "file_extension": ".py",
   "mimetype": "text/x-python",
   "name": "python",
   "nbconvert_exporter": "python",
   "pygments_lexer": "ipython3",
   "version": "3.13.0"
  }
 },
 "nbformat": 4,
 "nbformat_minor": 5
}
