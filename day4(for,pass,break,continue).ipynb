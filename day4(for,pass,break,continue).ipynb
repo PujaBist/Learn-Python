{
 "cells": [
  {
   "cell_type": "code",
   "execution_count": 1,
   "id": "9e59965f-2de5-4b70-a283-b30f086e1332",
   "metadata": {},
   "outputs": [
    {
     "name": "stdout",
     "output_type": "stream",
     "text": [
      "1 2 3 4 5\n"
     ]
    }
   ],
   "source": [
    "x=[1,2,3,4,5]\n",
    "print(x[0],x[1],x[2],x[3],x[4])"
   ]
  },
  {
   "cell_type": "code",
   "execution_count": 2,
   "id": "1fd5a636-6d99-414d-9359-9c8178b71a7d",
   "metadata": {},
   "outputs": [
    {
     "name": "stdout",
     "output_type": "stream",
     "text": [
      "1\n",
      "2\n",
      "3\n",
      "4\n",
      "5\n"
     ]
    }
   ],
   "source": [
    "x=[1,2,3,4,5]\n",
    "for i in x :\n",
    "    print(i)"
   ]
  },
  {
   "cell_type": "code",
   "execution_count": 6,
   "id": "24e66c6b-dee8-4bbf-a05e-b7d25e0cf97d",
   "metadata": {},
   "outputs": [
    {
     "name": "stdout",
     "output_type": "stream",
     "text": [
      " sum : 15\n"
     ]
    }
   ],
   "source": [
    "x=[1,2,3,4,5]\n",
    "sum=0\n",
    "for i in x :\n",
    "    sum=sum +i\n",
    "print(\" sum :\" ,sum)"
   ]
  },
  {
   "cell_type": "code",
   "execution_count": 7,
   "id": "edc6ae6f-5365-44bd-bcca-0f953d7b2bbf",
   "metadata": {},
   "outputs": [
    {
     "name": "stdout",
     "output_type": "stream",
     "text": [
      "120\n"
     ]
    }
   ],
   "source": [
    "x=[1,2,3,4,5]\n",
    "mul=1\n",
    "for i in x :\n",
    "    mul=mul*i\n",
    "print(mul)"
   ]
  },
  {
   "cell_type": "code",
   "execution_count": 16,
   "id": "a3e505de-362f-43e0-91dc-b08f48a57198",
   "metadata": {},
   "outputs": [
    {
     "name": "stdout",
     "output_type": "stream",
     "text": [
      "[1, 4, 9, 16, 25]\n"
     ]
    }
   ],
   "source": [
    "x=[1,2,3,4,5]\n",
    "sq=[]\n",
    "for i in x :\n",
    "    sq.append(i** 2)\n",
    "print(sq)"
   ]
  },
  {
   "cell_type": "code",
   "execution_count": 17,
   "id": "5717db22-03d2-4818-a4e1-ac090e2ef13d",
   "metadata": {},
   "outputs": [
    {
     "name": "stdout",
     "output_type": "stream",
     "text": [
      "['odd', 'even', 'odd', 'even', 'odd']\n"
     ]
    }
   ],
   "source": [
    "x=[1,2,3,4,5]\n",
    "sq=[]\n",
    "for i in x :\n",
    "    if ( i % 2==0) :\n",
    "        sq.append(\"even\")\n",
    "    else :\n",
    "        sq.append(\"odd\")\n",
    "        \n",
    "    \n",
    "print(sq)"
   ]
  },
  {
   "cell_type": "code",
   "execution_count": 19,
   "id": "527ac9d9-d3ba-47f0-9442-ca3c404fa6a9",
   "metadata": {},
   "outputs": [
    {
     "name": "stdout",
     "output_type": "stream",
     "text": [
      "3\n"
     ]
    }
   ],
   "source": [
    "name ='Puja bist '\n",
    "# to coount the number of vowels =>aeiou//AEIOU\n",
    "count=0\n",
    "for i in name :\n",
    "    if i in  'aeiouAEIOU' :\n",
    "        count +=1\n",
    "print(count)"
   ]
  },
  {
   "cell_type": "code",
   "execution_count": 20,
   "id": "82676b89-26d5-45ac-a35a-8e641a89806a",
   "metadata": {},
   "outputs": [
    {
     "name": "stdout",
     "output_type": "stream",
     "text": [
      "{'Alan': 0, 'Bil': 1, 'Ramesh': 2, 'Corry': 3, 'Ram': 4, 'Shyam Bahadur': 5, 'Gita': 6}\n"
     ]
    }
   ],
   "source": [
    "students = ['Alan', 'Bil', 'Ramesh', 'Corry', 'Ram', 'Shyam Bahadur', 'Gita']\n",
    "\n",
    "output ={}\n",
    "for i in range (0, len(students)):\n",
    "    output.update({students [i]: i})\n",
    "\n",
    "print(output)"
   ]
  },
  {
   "cell_type": "code",
   "execution_count": 21,
   "id": "84f15fdd-e575-4fa9-b57c-4dad3a351582",
   "metadata": {},
   "outputs": [
    {
     "name": "stdout",
     "output_type": "stream",
     "text": [
      "{'milk': 278.719, 'break': 356.98, 'iphone': 137162.7, 'butter': 494.28000000000003, 'meat': 686.5, 'mobile': 68650.0, 'laptop': 137300.0, 'television': 46682.00000000001}\n"
     ]
    }
   ],
   "source": [
    "# convert US price to Nepali price\n",
    "\n",
    "us_price = {\n",
    "    'milk': 2.03,\n",
    "    'break': 2.6,\n",
    "    'iphone': 999,\n",
    "    'butter': 3.6,\n",
    "    'meat': 5,\n",
    "    'mobile': 500,\n",
    "    'laptop': 1000,\n",
    "    'television': 340\n",
    "}\n",
    "\n",
    "nep_price = {}\n",
    "\n",
    "\n",
    "for k, v in us_price.items():\n",
    "    nep_price.update({k: v * 137.3})\n",
    "\n",
    "print(nep_price)"
   ]
  },
  {
   "cell_type": "code",
   "execution_count": 23,
   "id": "baed3bac-61d6-4d23-8ecb-c3637a0eef05",
   "metadata": {},
   "outputs": [
    {
     "name": "stdout",
     "output_type": "stream",
     "text": [
      "{'milk': 314.95246999999995, 'break': 403.38739999999996, 'iphone': 154993.851, 'butter': 558.5364, 'meat': 775.7449999999999, 'mobile': 77574.49999999999, 'laptop': 155148.99999999997, 'television': 52750.66}\n"
     ]
    }
   ],
   "source": [
    "# convert US price to Nepali price with 13 percent tax\n",
    "us_price = {\n",
    "    'milk': 2.03,\n",
    "    'break': 2.6,\n",
    "    'iphone': 999,\n",
    "    'butter': 3.6,\n",
    "    'meat': 5,\n",
    "    'mobile': 500,\n",
    "    'laptop': 1000,\n",
    "    'television': 340\n",
    "}\n",
    "nep_price={}\n",
    "for k,v in us_price.items():\n",
    "    nep_price.update({k : v*137.3*1.13})\n",
    "print(nep_price)"
   ]
  },
  {
   "cell_type": "code",
   "execution_count": 26,
   "id": "c6d87354-a33b-44bd-9ab8-c9c18562cecb",
   "metadata": {},
   "outputs": [
    {
     "name": "stdout",
     "output_type": "stream",
     "text": [
      "{'milk': 314.95246999999995, 'break': 403.38739999999996, 'iphone': 164595.24000000002, 'butter': 558.5364, 'meat': 775.7449999999999, 'mobile': 82380.0, 'laptop': 164760.0, 'television': 56018.40000000001}\n"
     ]
    }
   ],
   "source": [
    "# convert US price to Nepali price\n",
    "\n",
    "us_price = {\n",
    "    'milk': 2.03,\n",
    "    'break': 2.6,\n",
    "    'iphone': 999,\n",
    "    'butter': 3.6,\n",
    "    'meat': 5,\n",
    "    'mobile': 500,\n",
    "    'laptop': 1000,\n",
    "    'television': 340\n",
    "}\n",
    "\n",
    "nep_price = {}\n",
    "for k,v in us_price.items():\n",
    "    if v >5 :\n",
    "        nep_price.update({k:v *137.3 *1.20})\n",
    "    else :\n",
    "          nep_price.update({k:v *137.3 *1.13})\n",
    "print(nep_price)"
   ]
  },
  {
   "cell_type": "code",
   "execution_count": 27,
   "id": "eceaccc3-d3a7-4dbc-b1b9-19c09937b2a7",
   "metadata": {},
   "outputs": [],
   "source": [
    "#pass, continue,break"
   ]
  },
  {
   "cell_type": "code",
   "execution_count": 28,
   "id": "cc5495b8-11a5-429b-9b0b-3f4027ea17a8",
   "metadata": {},
   "outputs": [
    {
     "ename": "_IncompleteInputError",
     "evalue": "incomplete input (2291898922.py, line 2)",
     "output_type": "error",
     "traceback": [
      "  \u001b[36mCell\u001b[39m\u001b[36m \u001b[39m\u001b[32mIn[28]\u001b[39m\u001b[32m, line 2\u001b[39m\n\u001b[31m    \u001b[39m\u001b[31mif age <18 :\u001b[39m\n                ^\n\u001b[31m_IncompleteInputError\u001b[39m\u001b[31m:\u001b[39m incomplete input\n"
     ]
    }
   ],
   "source": [
    "age =17\n",
    "if age <18 :"
   ]
  },
  {
   "cell_type": "code",
   "execution_count": 29,
   "id": "45b3fc56-96f0-490a-9bed-a0cc9162376c",
   "metadata": {},
   "outputs": [],
   "source": [
    "age =17\n",
    "if age <18 :\n",
    "    pass"
   ]
  },
  {
   "cell_type": "code",
   "execution_count": 33,
   "id": "616e9c0e-4f03-4bbd-a3bd-23c5fb3ebd3f",
   "metadata": {},
   "outputs": [
    {
     "name": "stdout",
     "output_type": "stream",
     "text": [
      "hello\n"
     ]
    }
   ],
   "source": [
    "age=17\n",
    "if age <18 :\n",
    "    pass\n",
    "print(\"hello\")"
   ]
  },
  {
   "cell_type": "code",
   "execution_count": 36,
   "id": "ea49e509-c4e7-4ce6-843a-ba97ec78ef19",
   "metadata": {},
   "outputs": [
    {
     "name": "stdout",
     "output_type": "stream",
     "text": [
      "21\n"
     ]
    }
   ],
   "source": [
    "numbers=[1,2,3,4,5,6,10]\n",
    "sum=0\n",
    "for i in numbers :\n",
    "    if i==10 :\n",
    "        pass\n",
    "    else :\n",
    "        sum +=i\n",
    "print(sum)"
   ]
  },
  {
   "cell_type": "code",
   "execution_count": 39,
   "id": "096774cc-82b7-4a4f-94da-9c037d2edd26",
   "metadata": {},
   "outputs": [
    {
     "name": "stdout",
     "output_type": "stream",
     "text": [
      "31\n"
     ]
    }
   ],
   "source": [
    "numbers=[1,2,3,4,5,6,10]\n",
    "sum=0\n",
    "for i in numbers :\n",
    "    if i==2 :\n",
    "        pass\n",
    "    sum +=i\n",
    "print(sum)"
   ]
  },
  {
   "cell_type": "code",
   "execution_count": 40,
   "id": "09a1362f-2e04-4730-859c-c2bcf1ea9546",
   "metadata": {},
   "outputs": [
    {
     "name": "stdout",
     "output_type": "stream",
     "text": [
      "25\n"
     ]
    }
   ],
   "source": [
    "numbers = [1,2,3,4,5,6,10]\n",
    "sum = 0\n",
    "\n",
    "for i in numbers:\n",
    "    if i == 6:\n",
    "        continue\n",
    "        # skip the currently iterated item\n",
    "        # does not run anything after continue\n",
    "        # and jumps to next item\n",
    "        \n",
    "    sum += i\n",
    "        \n",
    "print(sum)"
   ]
  },
  {
   "cell_type": "code",
   "execution_count": 41,
   "id": "a6135cc1-931b-422d-aaae-22726d9f0a83",
   "metadata": {},
   "outputs": [
    {
     "name": "stdout",
     "output_type": "stream",
     "text": [
      "3\n"
     ]
    }
   ],
   "source": [
    "numbers = [1,2,3,4,5,6,10]\n",
    "sum = 0\n",
    "\n",
    "for i in numbers:\n",
    "    if i == 3:\n",
    "        break # terminate from loop\n",
    "    sum += i\n",
    "        \n",
    "print(sum)"
   ]
  },
  {
   "cell_type": "code",
   "execution_count": 42,
   "id": "4b5192c1-648c-4bf0-b525-e2e503994c26",
   "metadata": {},
   "outputs": [
    {
     "name": "stdout",
     "output_type": "stream",
     "text": [
      "Ram eats momo\n",
      "Ram eats chawmein\n",
      "Ram eats thukpa\n",
      "Shyam eats momo\n",
      "Shyam eats chawmein\n",
      "Shyam eats thukpa\n",
      "Gita eats momo\n",
      "Gita eats chawmein\n",
      "Gita eats thukpa\n",
      "Sita eats momo\n",
      "Sita eats chawmein\n",
      "Sita eats thukpa\n"
     ]
    }
   ],
   "source": [
    "names = ['Ram', 'Shyam', 'Gita', 'Sita']\n",
    "foods = ['momo', 'chawmein', 'thukpa']\n",
    "for name in names :\n",
    "    for food in foods :\n",
    "        print(f\"{name} eats {food}\")"
   ]
  },
  {
   "cell_type": "code",
   "execution_count": null,
   "id": "0ae400e6-2a5e-4010-aec2-66b06d297cea",
   "metadata": {},
   "outputs": [],
   "source": []
  }
 ],
 "metadata": {
  "kernelspec": {
   "display_name": "Python 3 (ipykernel)",
   "language": "python",
   "name": "python3"
  },
  "language_info": {
   "codemirror_mode": {
    "name": "ipython",
    "version": 3
   },
   "file_extension": ".py",
   "mimetype": "text/x-python",
   "name": "python",
   "nbconvert_exporter": "python",
   "pygments_lexer": "ipython3",
   "version": "3.13.0"
  }
 },
 "nbformat": 4,
 "nbformat_minor": 5
}
