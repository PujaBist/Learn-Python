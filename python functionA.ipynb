{
 "cells": [
  {
   "cell_type": "code",
   "execution_count": 2,
   "id": "95a40dea-094e-4b8e-8ba7-3603da8ba3b5",
   "metadata": {},
   "outputs": [],
   "source": [
    "#Write a function called add_all_nums which takes arbitrary number of arguments and sums all the arguments.\n",
    "#Check if all the list items are number types. If not do give a reasonable feedback\n",
    "def add_all_nums(*args):\n",
    "    total=0\n",
    "    for  i , value  in enumerate(args):\n",
    "        if not isinstance (value ,(int,float)):\n",
    "            return f\"Error: Argument at position {i} ('{value}') is not a number.\"\n",
    "        total += value\n",
    "    return total\n",
    "   "
   ]
  },
  {
   "cell_type": "code",
   "execution_count": 3,
   "id": "a4838fad-e793-471d-874c-77f3f1104e58",
   "metadata": {},
   "outputs": [
    {
     "data": {
      "text/plain": [
       "40"
      ]
     },
     "execution_count": 3,
     "metadata": {},
     "output_type": "execute_result"
    }
   ],
   "source": [
    " add_all_nums(2,3,5,6,7,8,9)"
   ]
  },
  {
   "cell_type": "code",
   "execution_count": 18,
   "id": "f6b57a39-7bfb-4e01-b0b6-eed9d850b6fe",
   "metadata": {},
   "outputs": [
    {
     "data": {
      "text/plain": [
       "\"Error: Argument at position 1 ('s') is not a number.\""
      ]
     },
     "execution_count": 18,
     "metadata": {},
     "output_type": "execute_result"
    }
   ],
   "source": [
    "add_all_nums(3,'s',4,5,6,7,8,9,10)"
   ]
  },
  {
   "cell_type": "code",
   "execution_count": 27,
   "id": "b148462a-162e-4fd1-a94e-f2140c1ebdd4",
   "metadata": {},
   "outputs": [
    {
     "data": {
      "text/plain": [
       "100.4"
      ]
     },
     "execution_count": 27,
     "metadata": {},
     "output_type": "execute_result"
    }
   ],
   "source": [
    "#Temperature in °C can be converted to °F using this formula: °F = (°C x 9/5) + 32. \n",
    "#Write a function which converts °C to °F, convert_celsius_2_fahrenheit.\n",
    "def convert_celsius_2_fahrenheit( C):\n",
    "    F = (C * 9/5) + 32\n",
    "    return   F\n",
    "\n",
    "convert_celsius_2_fahrenheit(38)"
   ]
  },
  {
   "cell_type": "code",
   "execution_count": 33,
   "id": "1913ab31-be8c-4949-b514-a7ed7333621f",
   "metadata": {},
   "outputs": [
    {
     "name": "stdout",
     "output_type": "stream",
     "text": [
      "Winter\n"
     ]
    }
   ],
   "source": [
    "#Write a function called check_season, it takes a month parameter and returns the season: Autumn, Winter, Spring or Summer.\n",
    "s=['march', 'april', 'may']\n",
    "sum=['june','july','august']\n",
    "aut=['September','October','November']\n",
    "\n",
    "def check_season(month):\n",
    "    if month  in s:\n",
    "        return 'Spring'\n",
    "    elif month in sum  :\n",
    "        return 'Summer'\n",
    "    elif month in aut:\n",
    "        return 'Autumn'\n",
    "    else:\n",
    "        return 'Winter'\n",
    "        \n",
    "print(check_season('jan'))\n",
    "\n",
    "    \n",
    "    "
   ]
  },
  {
   "cell_type": "code",
   "execution_count": 34,
   "id": "400ab722-2ac3-44c8-ae28-85b053382590",
   "metadata": {},
   "outputs": [
    {
     "name": "stdout",
     "output_type": "stream",
     "text": [
      "1.0\n"
     ]
    }
   ],
   "source": [
    "# Write a function called calculate_slope which return the slope of a linear equation\n",
    "def calculate_slope(x1,x2,y1,y2):\n",
    "    if x1==x2 :\n",
    "        return \"Undefined (vertical line)\"\n",
    "    else :\n",
    "        y=(y2-y1)/(x2-x1)\n",
    "        return y\n",
    "print(calculate_slope(1,2,3,4))\n",
    "    "
   ]
  },
  {
   "cell_type": "code",
   "execution_count": 50,
   "id": "1ff8a1a6-261d-4af3-8b95-4b66990d839d",
   "metadata": {},
   "outputs": [
    {
     "name": "stdout",
     "output_type": "stream",
     "text": [
      "(2.0, 1.0)\n",
      "((-1+2j), (-1-2j))\n",
      "2.0\n",
      "3.0\n"
     ]
    }
   ],
   "source": [
    "# Quadratic equation is calculated as follows: ax² + bx + c = 0.\n",
    "#Write a function which calculates solution set of a quadratic equation, solve_quadratic_eqn.\n",
    "import cmath \n",
    "\n",
    "def quadratic_eqn(a,b,c):\n",
    "    \n",
    "    D=cmath.sqrt(b**2-4*a*c)\n",
    "    x1 = (-b + D) / (2*a)\n",
    "    x2 = (-b - D) / (2*a)\n",
    "    if x1.imag == 0:\n",
    "        x1 = x1.real\n",
    "    if x2.imag == 0:\n",
    "        x2 = x2.real\n",
    "\n",
    "    \n",
    "    return x1, x2\n",
    "\n",
    "print(quadratic_eqn(1,-3,2))\n",
    "\n",
    "print(quadratic_eqn(1,2,5))\n",
    "x=2+3j\n",
    "print(x.real)\n",
    "print(x.imag)\n"
   ]
  },
  {
   "cell_type": "code",
   "execution_count": 2,
   "id": "cbaa5362-e795-48e8-a967-d6d2043e9b70",
   "metadata": {},
   "outputs": [
    {
     "name": "stdout",
     "output_type": "stream",
     "text": [
      "1\n",
      "2\n",
      "3\n",
      "4\n",
      "5\n",
      "6\n",
      "7\n",
      "8\n",
      "9\n",
      "10\n"
     ]
    }
   ],
   "source": [
    "#Declare a function named print_list. \n",
    "#It takes a list as a parameter and it prints out each element of the list.\n",
    "lit=[1,2,3,4,5,6,7,8,9,10]\n",
    "def print_list(lit):\n",
    "    for i in lit :\n",
    "        print(i)\n",
    "print_list(lit)"
   ]
  },
  {
   "cell_type": "code",
   "execution_count": 17,
   "id": "e3e68d43-fe57-4f98-92ea-ed1656cb9563",
   "metadata": {},
   "outputs": [
    {
     "name": "stdout",
     "output_type": "stream",
     "text": [
      "E D C B A 5 4 3 2 1 "
     ]
    }
   ],
   "source": [
    "#Declare a function named reverse_list. It takes an array as a parameter and \n",
    "#it returns the reverse of the array (use loops)\n",
    "\n",
    "def reverse_list(a):\n",
    "    for i in range(len(a)-1,-1,-1):\n",
    "        print(a[i] ,end=\" \")\n",
    "\n",
    "reverse_list([\"A\",\"B\",\"C\",\"D\",\"E\"])\n",
    "reverse_list([1,2,3,4,5])"
   ]
  },
  {
   "cell_type": "code",
   "execution_count": 30,
   "id": "d61a96b1-1a04-4f15-a9cc-f242a3c367c4",
   "metadata": {},
   "outputs": [
    {
     "name": "stdout",
     "output_type": "stream",
     "text": [
      "['Ball', 'Apple']\n"
     ]
    }
   ],
   "source": [
    "#Declare a function named capitalize_list_items. \n",
    "#It takes a list as a parameter and it returns a capitalized list of items\n",
    "capitalize_list=[]\n",
    "def capitalize_list_items(a):\n",
    "    for item in a:\n",
    "        capitalize_list.append(item.capitalize())\n",
    "\n",
    "    return capitalize_list\n",
    "    \n",
    "print(capitalize_list_items(['ball','apple']))"
   ]
  },
  {
   "cell_type": "code",
   "execution_count": 42,
   "id": "a2620615-eef3-48f6-8afb-0a1693e12a13",
   "metadata": {},
   "outputs": [
    {
     "data": {
      "text/plain": [
       "['a', 'g', 'h', 1, 2, 3, 5, 6, 7, 8, 9, 10, 3]"
      ]
     },
     "execution_count": 42,
     "metadata": {},
     "output_type": "execute_result"
    }
   ],
   "source": [
    "#Declare a function named add_item. It takes a list and an item parameters.\n",
    "#It returns a list with the item added at the end.\n",
    "s=['a','g','h',1,2,3,5,6,7,8,9,10]\n",
    "\n",
    "def add_item(s,a):\n",
    "\n",
    "     s.append(a)\n",
    "     return s\n",
    "add_item(s,3)\n",
    "    "
   ]
  },
  {
   "cell_type": "code",
   "execution_count": 53,
   "id": "5b213f1d-3e2b-4332-bcb5-378b8c7e9aa0",
   "metadata": {},
   "outputs": [
    {
     "name": "stdout",
     "output_type": "stream",
     "text": [
      "['Potato', 'Tomato', 'Milk']\n"
     ]
    }
   ],
   "source": [
    "#Declare a function named remove_item. It takes a list and an item parameters.\n",
    "#It returns a list with the item removed from it.\n",
    "food_staff = ['Potato', 'Tomato', 'Mango', 'Milk'] \n",
    "def remove_item(food_staff,item):\n",
    "  \n",
    "    food_staff.remove(item)\n",
    "    return food_staff\n",
    "    \n",
    "print(remove_item(food_staff, 'Mango'))\n"
   ]
  },
  {
   "cell_type": "code",
   "execution_count": 60,
   "id": "00cc944b-1021-45e2-a59b-9d58f21a676c",
   "metadata": {},
   "outputs": [
    {
     "name": "stdout",
     "output_type": "stream",
     "text": [
      "15\n",
      "5050\n"
     ]
    }
   ],
   "source": [
    "#Declare a function named sum_of_numbers. \n",
    "#It takes a number parameter and it adds all the numbers in that range.\n",
    "def sum_of_numbers(a):\n",
    "    sum=0\n",
    "    for i in range(a,0,-1) :\n",
    "        sum=sum+i\n",
    "    return sum\n",
    "print(sum_of_numbers(5))\n",
    "print(sum_of_numbers(100))"
   ]
  },
  {
   "cell_type": "code",
   "execution_count": 57,
   "id": "57a8091e-1bd5-4011-a7b9-9bff754124b7",
   "metadata": {},
   "outputs": [
    {
     "name": "stdout",
     "output_type": "stream",
     "text": [
      "0\n",
      "1\n",
      "2\n",
      "3\n",
      "4\n",
      "5\n"
     ]
    },
    {
     "data": {
      "text/plain": [
       "5"
      ]
     },
     "execution_count": 57,
     "metadata": {},
     "output_type": "execute_result"
    }
   ],
   "source": [
    "for i in range (6):\n",
    "    print(i)\n",
    "len('apple')"
   ]
  },
  {
   "cell_type": "code",
   "execution_count": 71,
   "id": "8e4544f0-4639-427c-b5ac-c150d5a83426",
   "metadata": {},
   "outputs": [
    {
     "name": "stdout",
     "output_type": "stream",
     "text": [
      "25\n"
     ]
    }
   ],
   "source": [
    "#DDeclare a function named sum_of_odds. \n",
    "#It takes a number parameter and it adds all the odd numbers in that range.\n",
    "\n",
    "def sum_of_odds(a):\n",
    "    sum=0\n",
    "    for i in range(a,0,-1):\n",
    "       \n",
    "        if i % 2==1:\n",
    "            sum=sum+i\n",
    "    return sum\n",
    "print(sum_of_odds(10))"
   ]
  },
  {
   "cell_type": "code",
   "execution_count": 74,
   "id": "10f83df5-56df-4a2a-8ac8-18b46a3e5c09",
   "metadata": {},
   "outputs": [
    {
     "name": "stdout",
     "output_type": "stream",
     "text": [
      "30\n"
     ]
    }
   ],
   "source": [
    "#DDeclare a function named sum_of_odds. \n",
    "#It takes a number parameter and it adds all the odd numbers in that range.\n",
    "def sum_of_evens(a):\n",
    "    sum=0\n",
    "    for i in range(a,0,-1):\n",
    "       \n",
    "        if i % 2==0:\n",
    "            sum=sum+i\n",
    "    return sum\n",
    "print(sum_of_evens(10))"
   ]
  },
  {
   "cell_type": "code",
   "execution_count": 2,
   "id": "8516712f-3314-41f7-ab77-65f6df0ddc9f",
   "metadata": {},
   "outputs": [
    {
     "name": "stdout",
     "output_type": "stream",
     "text": [
      "even 51\n",
      "odd 50\n"
     ]
    }
   ],
   "source": [
    "#Declare a function named evens_and_odds. It takes a positive integer as parameter and it counts number of evens and odds in the number.\n",
    "\n",
    "#print(evens_and_odds(100)) #The number of odds are 50. #The number of evens are 51.\n",
    "\n",
    "def evens_and_odds(a):\n",
    "    count=0\n",
    "    count_dd=0\n",
    "    for i in range(a,-1,-1):\n",
    "        if i%2==0:\n",
    "            count = count + 1\n",
    "           \n",
    "        else :\n",
    "            count_dd = count_dd+ 1 \n",
    "    return count,count_dd\n",
    "count,count_dd=evens_and_odds(100)\n",
    "print(\"even\", count )\n",
    "print(\"odd\",count_dd)"
   ]
  },
  {
   "cell_type": "code",
   "execution_count": 3,
   "id": "0921fbc1-ed56-4e65-b4eb-226888ecbfab",
   "metadata": {},
   "outputs": [],
   "source": [
    "#Call your function factorial, it takes a whole number as a parameter and it return a factorial of the number\n",
    "def factorial(n):\n",
    "    ans=1\n",
    "    for i in range(n,0,-1):\n",
    "        ans=ans*i\n",
    "    return ans"
   ]
  },
  {
   "cell_type": "code",
   "execution_count": 4,
   "id": "8c59353e-dd97-4f93-8ecd-b604793576a8",
   "metadata": {},
   "outputs": [
    {
     "data": {
      "text/plain": [
       "120"
      ]
     },
     "execution_count": 4,
     "metadata": {},
     "output_type": "execute_result"
    }
   ],
   "source": [
    "factorial(5)"
   ]
  },
  {
   "cell_type": "code",
   "execution_count": 5,
   "id": "8a232bca-52f8-42fa-b8ae-71c462fa5681",
   "metadata": {},
   "outputs": [
    {
     "data": {
      "text/plain": [
       "3628800"
      ]
     },
     "execution_count": 5,
     "metadata": {},
     "output_type": "execute_result"
    }
   ],
   "source": [
    "factorial(10)"
   ]
  },
  {
   "cell_type": "code",
   "execution_count": 6,
   "id": "df65d758-690b-4e98-b644-4a1b9aa2e045",
   "metadata": {},
   "outputs": [
    {
     "data": {
      "text/plain": [
       "1"
      ]
     },
     "execution_count": 6,
     "metadata": {},
     "output_type": "execute_result"
    }
   ],
   "source": [
    "factorial(0)"
   ]
  },
  {
   "cell_type": "code",
   "execution_count": 13,
   "id": "167f278a-70a3-41ee-b420-80d0d6605483",
   "metadata": {},
   "outputs": [],
   "source": [
    "#Call your function is_empty, it takes a parameter and it checks if it is empty or not\n",
    "def is_empty(a):\n",
    "     return  not bool(a)\n",
    "         "
   ]
  },
  {
   "cell_type": "code",
   "execution_count": 14,
   "id": "52a9a94c-1199-4444-b67c-6ea06230fd70",
   "metadata": {},
   "outputs": [
    {
     "data": {
      "text/plain": [
       "True"
      ]
     },
     "execution_count": 14,
     "metadata": {},
     "output_type": "execute_result"
    }
   ],
   "source": [
    "is_empty(\"\")"
   ]
  },
  {
   "cell_type": "code",
   "execution_count": 15,
   "id": "ac626f3f-2c7f-4ae2-bc96-e59aad37e2cd",
   "metadata": {},
   "outputs": [
    {
     "data": {
      "text/plain": [
       "False"
      ]
     },
     "execution_count": 15,
     "metadata": {},
     "output_type": "execute_result"
    }
   ],
   "source": [
    "is_empty(\"hello\")"
   ]
  },
  {
   "cell_type": "code",
   "execution_count": 27,
   "id": "23f74a36-de26-4f83-bdd6-7248f8a53313",
   "metadata": {},
   "outputs": [],
   "source": [
    "#Write different functions which take lists. \n",
    "#They should calculate_mean, .\n",
    "\n",
    "def calculate_mean(a):\n",
    "    sum=0\n",
    "    c=0\n",
    "    for i in a:\n",
    "        c=c+1\n",
    "        sum=sum+i\n",
    "    return sum/c"
   ]
  },
  {
   "cell_type": "code",
   "execution_count": 26,
   "id": "fc35fd83-466d-412d-8612-ea011d330113",
   "metadata": {},
   "outputs": [
    {
     "data": {
      "text/plain": [
       "2.5"
      ]
     },
     "execution_count": 26,
     "metadata": {},
     "output_type": "execute_result"
    }
   ],
   "source": [
    "calculate_mean(a=[1,2,3,4])"
   ]
  }
 ],
 "metadata": {
  "kernelspec": {
   "display_name": "Python 3 (ipykernel)",
   "language": "python",
   "name": "python3"
  },
  "language_info": {
   "codemirror_mode": {
    "name": "ipython",
    "version": 3
   },
   "file_extension": ".py",
   "mimetype": "text/x-python",
   "name": "python",
   "nbconvert_exporter": "python",
   "pygments_lexer": "ipython3",
   "version": "3.13.0"
  }
 },
 "nbformat": 4,
 "nbformat_minor": 5
}
