{
 "cells": [
  {
   "cell_type": "code",
   "execution_count": 2,
   "id": "0504e6eb-d10f-4adf-8aea-eaa4fb319bfe",
   "metadata": {},
   "outputs": [
    {
     "name": "stdout",
     "output_type": "stream",
     "text": [
      "0\n",
      "1\n",
      "2\n",
      "3\n",
      "4\n",
      "5\n",
      "6\n",
      "7\n",
      "8\n",
      "9\n",
      "10\n"
     ]
    }
   ],
   "source": [
    "#Iterate 0 to 10 using for loop, do the same using while loop.\n",
    "for i in range(0,11):\n",
    "    print(i)"
   ]
  },
  {
   "cell_type": "code",
   "execution_count": 6,
   "id": "4cf16e4a-7e35-404e-abd8-d006433bf57c",
   "metadata": {},
   "outputs": [
    {
     "name": "stdout",
     "output_type": "stream",
     "text": [
      "0\n",
      "1\n",
      "2\n",
      "3\n",
      "4\n",
      "5\n",
      "6\n",
      "7\n",
      "8\n",
      "9\n"
     ]
    }
   ],
   "source": [
    "#Iterate 0 to 10 using  while loop.\n",
    "i=0\n",
    "while i < 10 :\n",
    "    print(i)\n",
    "    i+=1"
   ]
  },
  {
   "cell_type": "code",
   "execution_count": 5,
   "id": "f73399a1-b445-489a-aa1a-9c1334716d6c",
   "metadata": {},
   "outputs": [
    {
     "name": "stdout",
     "output_type": "stream",
     "text": [
      "10\n",
      "9\n",
      "8\n",
      "7\n",
      "6\n",
      "5\n",
      "4\n",
      "3\n",
      "2\n",
      "1\n",
      "0\n"
     ]
    }
   ],
   "source": [
    "#Iterate 10 to 0 using for loop, do the same using while loop.\n",
    "for i in range(10,-1,-1):\n",
    "    print(i)"
   ]
  },
  {
   "cell_type": "code",
   "execution_count": 10,
   "id": "c90d4970-276e-44f2-9b45-3f78de71fb49",
   "metadata": {},
   "outputs": [
    {
     "name": "stdout",
     "output_type": "stream",
     "text": [
      "10\n",
      "9\n",
      "8\n",
      "7\n",
      "6\n",
      "5\n",
      "4\n",
      "3\n",
      "2\n",
      "1\n",
      "0\n"
     ]
    }
   ],
   "source": [
    "i=10\n",
    "while i >= 0 :\n",
    "    print(i)\n",
    "    i-=1"
   ]
  },
  {
   "cell_type": "code",
   "execution_count": 13,
   "id": "e3cbe001-c5c1-482e-87a1-3122d7bf92e6",
   "metadata": {},
   "outputs": [
    {
     "name": "stdout",
     "output_type": "stream",
     "text": [
      "# # # # # # # \n",
      "# # # # # # # \n",
      "# # # # # # # \n",
      "# # # # # # # \n",
      "# # # # # # # \n",
      "# # # # # # # \n",
      "# # # # # # # \n"
     ]
    }
   ],
   "source": [
    "#Write a loop that makes seven calls to print(), so we get on the output the following triangle:\n",
    "# # # # # # # #\n",
    "# # # # # # # #\n",
    "# # # # # # # #\n",
    "# # # # # # # #\n",
    "# # # # # # # #\n",
    "# # # # # # # #\n",
    "# # # # # # # #\n",
    "# # # # # # # #\n",
    "for i in range(7):\n",
    "    for j in range(7):\n",
    "        print('#' , end = \" \")\n",
    "    print()"
   ]
  },
  {
   "cell_type": "code",
   "execution_count": 32,
   "id": "501648d3-ce77-4687-b3c7-dffc3c7cea68",
   "metadata": {},
   "outputs": [
    {
     "name": "stdout",
     "output_type": "stream",
     "text": [
      "      #\n",
      "     ###\n",
      "    #####\n",
      "   #######\n",
      "  #########\n",
      " ###########\n",
      "#############\n"
     ]
    }
   ],
   "source": [
    "#Use nested loops to create the following:\n",
    "      #\n",
    "     ###\n",
    "    #####\n",
    "   #######\n",
    "  #########\n",
    " ###########\n",
    "#############\n",
    "rows = 7\n",
    "for i in range(rows):\n",
    "    spaces = ' ' * (rows - i - 1)\n",
    "    hashes = '#' * (2 * i + 1)\n",
    "    print(spaces + hashes)\n",
    "\n"
   ]
  },
  {
   "cell_type": "code",
   "execution_count": 39,
   "id": "f44a8711-0c35-4c65-94c7-001bea527ece",
   "metadata": {},
   "outputs": [
    {
     "name": "stdout",
     "output_type": "stream",
     "text": [
      "0  *  0 = 0\n",
      "1  *  1 = 1\n",
      "2  *  2 = 4\n",
      "3  *  3 = 9\n",
      "4  *  4 = 16\n",
      "5  *  5 = 25\n",
      "6  *  6 = 36\n",
      "7  *  7 = 49\n",
      "8  *  8 = 64\n",
      "9  *  9 = 81\n",
      "10  *  10 = 100\n"
     ]
    }
   ],
   "source": [
    "#Print the following pattern using loops\n",
    " #  0 x 0 = 0\n",
    "  # 1 x 1 = 1\n",
    "   #2 x 2 = 4\n",
    "   #3 x 3 = 9\n",
    "  # 4 x 4 = 16\n",
    "  # 5 x 5 = 25\n",
    "  # 6 x 6 = 36\n",
    "  # 7 x 7 = 49\n",
    "  # 8 x 8 = 64\n",
    "  # 9 x 9 = 81\n",
    "  # 10 x 10 = 100\n",
    "for i in range(0,11):\n",
    "    c=i * i\n",
    "    print(i,' * ',i,\"=\", c)\n"
   ]
  },
  {
   "cell_type": "code",
   "execution_count": 40,
   "id": "c4c4bee3-9b07-44d4-9ff0-a2ed34b70dac",
   "metadata": {},
   "outputs": [
    {
     "name": "stdout",
     "output_type": "stream",
     "text": [
      "Python\n",
      "Numpy\n",
      "Pandas\n",
      "Scikit\n",
      "Pytorch\n"
     ]
    }
   ],
   "source": [
    "#Iterate through the list, ['Python', 'Numpy','Pandas','Scikit', 'Pytorch'] using a for loop and print out the items.\n",
    "lst=['Python', 'Numpy','Pandas','Scikit', 'Pytorch']\n",
    "for i in lst:\n",
    "    print(i)"
   ]
  },
  {
   "cell_type": "code",
   "execution_count": 42,
   "id": "b4682ce5-adc9-45f7-93b4-389d01cf6ce2",
   "metadata": {},
   "outputs": [
    {
     "name": "stdout",
     "output_type": "stream",
     "text": [
      "0  2  4  6  8  10  12  14  16  18  20  22  24  26  28  30  32  34  36  38  40  42  44  46  48  50  52  54  56  58  60  62  64  66  68  70  72  74  76  78  80  82  84  86  88  90  92  94  96  98  100  "
     ]
    }
   ],
   "source": [
    "#Use for loop to iterate from 0 to 100 and print only even numbers\n",
    "for i in range(0,101):\n",
    "    if i % 2==0:\n",
    "        print(i, end =\"  \")"
   ]
  },
  {
   "cell_type": "code",
   "execution_count": 45,
   "id": "758e2c02-20f7-424a-abc7-3f2346ee028f",
   "metadata": {},
   "outputs": [
    {
     "name": "stdout",
     "output_type": "stream",
     "text": [
      "1  3  5  7  9  11  13  15  17  19  21  23  25  27  29  31  33  35  37  39  41  43  45  47  49  51  53  55  57  59  61  63  65  67  69  71  73  75  77  79  81  83  85  87  89  91  93  95  97  99  "
     ]
    }
   ],
   "source": [
    "#Use for loop to iterate from 0 to 100 and print only odd numbers\n",
    "for i in range(1,101,2):\n",
    "   \n",
    "    print(i, end = \"  \")"
   ]
  },
  {
   "cell_type": "code",
   "execution_count": 46,
   "id": "1d864eee-9a72-463c-a428-19497e4bcd8d",
   "metadata": {},
   "outputs": [
    {
     "name": "stdout",
     "output_type": "stream",
     "text": [
      "5050\n"
     ]
    }
   ],
   "source": [
    "#Use for loop to iterate from 0 to 100 and print the sum of all numbers.\n",
    " #  The sum of all numbers is 5050.\n",
    "sum=0\n",
    "for i in range(0,101):\n",
    "    sum+=i\n",
    "print(sum)"
   ]
  },
  {
   "cell_type": "code",
   "execution_count": 53,
   "id": "fb8eda9b-88dd-4735-b83d-775d19bb5420",
   "metadata": {},
   "outputs": [
    {
     "name": "stdout",
     "output_type": "stream",
     "text": [
      "2550\n",
      "2500\n"
     ]
    }
   ],
   "source": [
    "#Use for loop to iterate from 0 to 100 and print the sum of all evens and the sum of all odds.\n",
    "    #The sum of all evens is 2550. And the sum of all odds is 2500.\n",
    "sum_even=0\n",
    "sum_odd=0\n",
    "for i in range(0,101):\n",
    "    if i % 2==0 :\n",
    "        sum_even+=i\n",
    "   \n",
    "    else :\n",
    "        sum_odd+=i\n",
    "print(sum_even)\n",
    "print(sum_odd)"
   ]
  },
  {
   "cell_type": "code",
   "execution_count": 71,
   "id": "7426d7e6-7106-410b-8f01-53c5b4389a3f",
   "metadata": {},
   "outputs": [
    {
     "name": "stdout",
     "output_type": "stream",
     "text": [
      "lemon\n",
      "mango\n",
      "orange\n",
      "banana\n"
     ]
    }
   ],
   "source": [
    "#This is a fruit list, ['banana', 'orange', 'mango', 'lemon'] reverse the order using loop.\n",
    "fruit_list=['banana', 'orange', 'mango', 'lemon']\n",
    "for i in range(len(fruit_list)-1,-1,-1):\n",
    "    print(fruit_list[i])\n",
    "# another way \n",
    "#->for i in reversed(fruit_list):\n",
    "   #-> print(i)"
   ]
  },
  {
   "cell_type": "code",
   "execution_count": 12,
   "id": "661352a7-8f9c-4c72-a705-57d1e0c7b100",
   "metadata": {},
   "outputs": [
    {
     "name": "stdout",
     "output_type": "stream",
     "text": [
      "Finland\n",
      "Iceland\n",
      "Switzerland\n",
      "Thailand\n",
      "Poland\n",
      "Netherlands\n",
      "Ireland\n"
     ]
    }
   ],
   "source": [
    "with open(\"C:/Users/Admin/Desktop/april_21_python/countries.py\") as f:\n",
    "    exec(f.read())\n",
    "\n",
    "for country in countries:\n",
    "    if 'land' in country:\n",
    "        print(country)\n"
   ]
  },
  {
   "cell_type": "code",
   "execution_count": null,
   "id": "7e84fc0b-1a01-4e22-92b0-099b5248ec35",
   "metadata": {},
   "outputs": [],
   "source": []
  }
 ],
 "metadata": {
  "kernelspec": {
   "display_name": "Python 3 (ipykernel)",
   "language": "python",
   "name": "python3"
  },
  "language_info": {
   "codemirror_mode": {
    "name": "ipython",
    "version": 3
   },
   "file_extension": ".py",
   "mimetype": "text/x-python",
   "name": "python",
   "nbconvert_exporter": "python",
   "pygments_lexer": "ipython3",
   "version": "3.13.0"
  }
 },
 "nbformat": 4,
 "nbformat_minor": 5
}
